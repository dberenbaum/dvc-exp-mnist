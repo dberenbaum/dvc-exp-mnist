{
 "cells": [
  {
   "cell_type": "markdown",
   "metadata": {},
   "source": [
    "This notebook shows how to use [dvc](https://dvc.org/) [experiments](https://github.com/iterative/dvc/wiki/Experiments) in model development. This example uses the [MNIST](http://yann.lecun.com/exdb/mnist/) data of handwritten digits and builds a classification model to predict the digit (0-9) in each image. The model is built in [pytorch](https://pytorch.org/) as a convolutional neural network with a simplified architecture, which should be able to quickly run on most computers."
   ]
  },
  {
   "cell_type": "markdown",
   "metadata": {},
   "source": [
    "### Get started\n",
    "\n",
    "To get started, clone this repository and navigate to it.\n",
    "\n",
    "The only other prerequisite is [docker](https://www.docker.com). Once docker is installed, build a docker image from the existing `Dockerfile` and run it:\n",
    "\n",
    "```bash\n",
    "docker build -t dvc-exp-mnist .\n",
    "docker run -p 8888:8888 $(docker images -q dvc-exp-mnist)\n",
    "```\n",
    "\n",
    "To run the notebook, navigate to the link provided in the output that starts with `http://127.0.0.1:8888/`.\n",
    "\n",
    "Next, set up git:"
   ]
  },
  {
   "cell_type": "code",
   "execution_count": 1,
   "metadata": {},
   "outputs": [
    {
     "name": "stdout",
     "output_type": "stream",
     "text": [
      "Your email:dave@iterative.ai\n",
      "Your name:dave\n"
     ]
    }
   ],
   "source": [
    "email = input(\"Your email:\")\n",
    "username = input(\"Your name:\")"
   ]
  },
  {
   "cell_type": "code",
   "execution_count": 5,
   "metadata": {},
   "outputs": [],
   "source": [
    "%%bash -s {email} {username}\n",
    "git config --global user.email \"$1\"\n",
    "git config --global user.name \"$2\""
   ]
  },
  {
   "cell_type": "markdown",
   "metadata": {},
   "source": [
    "Finally, initialize dvc and enable the experiments feature:"
   ]
  },
  {
   "cell_type": "code",
   "execution_count": 7,
   "metadata": {},
   "outputs": [
    {
     "name": "stdout",
     "output_type": "stream",
     "text": [
      "Initialized DVC repository.\n",
      "\n",
      "You can now commit the changes to git.\n",
      "\n",
      "+---------------------------------------------------------------------+\n",
      "|                                                                     |\n",
      "|        DVC has enabled anonymous aggregate usage analytics.         |\n",
      "|     Read the analytics documentation (and how to opt-out) here:     |\n",
      "|             <https://dvc.org/doc/user-guide/analytics>              |\n",
      "|                                                                     |\n",
      "+---------------------------------------------------------------------+\n",
      "\n",
      "What's next?\n",
      "------------\n",
      "- Check out the documentation: <https://dvc.org/doc>\n",
      "- Get help and share ideas: <https://dvc.org/chat>\n",
      "- Star us on GitHub: <https://github.com/iterative/dvc>\n"
     ]
    }
   ],
   "source": [
    "%%bash\n",
    "dvc init -f\n",
    "dvc config --global core.experiments true"
   ]
  },
  {
   "cell_type": "markdown",
   "metadata": {},
   "source": [
    "### Establish the pipeline DAG\n",
    "\n",
    "Before experimenting, a dvc pipeline must be established (see the docs if you are new to dvc). Review the contents of `dvc.yaml` below to see the pipeline."
   ]
  },
  {
   "cell_type": "code",
   "execution_count": 8,
   "metadata": {},
   "outputs": [
    {
     "name": "stdout",
     "output_type": "stream",
     "text": [
      "stages:\n",
      "  download:\n",
      "    cmd: python download.py\n",
      "    deps:\n",
      "    - download.py\n",
      "    outs:\n",
      "    - data/MNIST\n",
      "  train:\n",
      "    cmd: python train.py\n",
      "    deps:\n",
      "    - data/MNIST\n",
      "    - train.py\n",
      "    params:\n",
      "    - lr\n",
      "    - weight_decay\n",
      "    outs:\n",
      "    - model.pt:\n",
      "        checkpoint: true\n",
      "    metrics:\n",
      "    - metrics.yaml\n"
     ]
    }
   ],
   "source": [
    "%%bash\n",
    "cat dvc.yaml"
   ]
  },
  {
   "cell_type": "markdown",
   "metadata": {},
   "source": [
    "The download stage gets the data using the `download.py` script. The train stage performs model training and evaluation on the downloaded data using the `train.py` script. The train stage uses the lr and weight_decay metrics defined in `params.yaml`. The model output is saved to `model.pt`, and the metrics are saved to `metrics.yaml`.\n",
    "\n",
    "Execute the download stage to get the data."
   ]
  },
  {
   "cell_type": "code",
   "execution_count": 9,
   "metadata": {},
   "outputs": [
    {
     "name": "stdout",
     "output_type": "stream",
     "text": [
      "Running stage 'download':\n",
      "> python download.py\n",
      "Downloading http://yann.lecun.com/exdb/mnist/train-images-idx3-ubyte.gz to data/MNIST/raw/train-images-idx3-ubyte.gz\n",
      "Extracting data/MNIST/raw/train-images-idx3-ubyte.gz to data/MNIST/raw\n",
      "Downloading http://yann.lecun.com/exdb/mnist/train-labels-idx1-ubyte.gz to data/MNIST/raw/train-labels-idx1-ubyte.gz\n",
      "Extracting data/MNIST/raw/train-labels-idx1-ubyte.gz to data/MNIST/raw\n",
      "Downloading http://yann.lecun.com/exdb/mnist/t10k-images-idx3-ubyte.gz to data/MNIST/raw/t10k-images-idx3-ubyte.gz\n",
      "Extracting data/MNIST/raw/t10k-images-idx3-ubyte.gz to data/MNIST/raw\n",
      "Downloading http://yann.lecun.com/exdb/mnist/t10k-labels-idx1-ubyte.gz to data/MNIST/raw/t10k-labels-idx1-ubyte.gz\n",
      "Extracting data/MNIST/raw/t10k-labels-idx1-ubyte.gz to data/MNIST/raw\n",
      "Processing...\n",
      "Done!\n",
      "Generating lock file 'dvc.lock'\n",
      "Updating lock file 'dvc.lock'\n",
      "\n",
      "To track the changes with git, run:\n",
      "\n",
      "\tgit add dvc.lock\n",
      "Use `dvc push` to send your updates to remote storage.\n"
     ]
    },
    {
     "name": "stderr",
     "output_type": "stream",
     "text": [
      "\r",
      "0it [00:00, ?it/s]\r",
      "  0%|          | 0/9912422 [00:00<?, ?it/s]\r",
      "  1%|          | 81920/9912422 [00:00<00:26, 366508.96it/s]\r",
      "  4%|▍         | 409600/9912422 [00:00<00:06, 1498444.27it/s]\r",
      "  7%|▋         | 663552/9912422 [00:00<00:04, 1862400.12it/s]\r",
      " 10%|█         | 1024000/9912422 [00:00<00:03, 2337174.22it/s]\r",
      " 13%|█▎        | 1335296/9912422 [00:00<00:03, 2576931.22it/s]\r",
      " 16%|█▋        | 1622016/9912422 [00:00<00:03, 2653577.68it/s]\r",
      " 20%|█▉        | 1966080/9912422 [00:01<00:02, 2894142.33it/s]\r",
      " 23%|██▎       | 2260992/9912422 [00:01<00:02, 2869135.56it/s]\r",
      " 26%|██▌       | 2555904/9912422 [00:01<00:02, 2887088.61it/s]\r",
      " 29%|██▉       | 2850816/9912422 [00:01<00:02, 2782496.23it/s]\r",
      " 32%|███▏      | 3137536/9912422 [00:01<00:02, 2723806.98it/s]\r",
      " 34%|███▍      | 3416064/9912422 [00:01<00:02, 2661710.67it/s]\r",
      " 37%|███▋      | 3686400/9912422 [00:01<00:03, 1777937.04it/s]\r",
      " 40%|███▉      | 3940352/9912422 [00:02<00:03, 1551102.46it/s]\r",
      " 45%|████▍     | 4448256/9912422 [00:02<00:02, 2231909.50it/s]\r",
      " 48%|████▊     | 4734976/9912422 [00:02<00:02, 2311502.41it/s]\r",
      " 51%|█████     | 5013504/9912422 [00:02<00:02, 1684288.03it/s]\r",
      " 55%|█████▌    | 5496832/9912422 [00:02<00:01, 2267987.79it/s]\r",
      " 59%|█████▊    | 5799936/9912422 [00:02<00:02, 1844908.75it/s]\r",
      " 61%|██████    | 6062080/9912422 [00:03<00:02, 1573640.84it/s]\r",
      " 64%|██████▎   | 6316032/9912422 [00:03<00:02, 1734957.10it/s]\r",
      " 66%|██████▌   | 6537216/9912422 [00:03<00:02, 1330634.89it/s]\r",
      " 69%|██████▉   | 6864896/9912422 [00:03<00:02, 1493393.16it/s]\r",
      " 72%|███████▏  | 7143424/9912422 [00:03<00:01, 1714871.75it/s]\r",
      " 75%|███████▍  | 7413760/9912422 [00:03<00:01, 1907478.69it/s]\r",
      " 77%|███████▋  | 7643136/9912422 [00:04<00:01, 1590102.80it/s]\r",
      " 79%|███████▉  | 7839744/9912422 [00:04<00:01, 1315896.52it/s]\r",
      " 82%|████████▏ | 8167424/9912422 [00:04<00:01, 1680219.95it/s]\r",
      " 85%|████████▌ | 8454144/9912422 [00:04<00:00, 1928007.60it/s]\r",
      " 88%|████████▊ | 8691712/9912422 [00:04<00:00, 1573775.59it/s]\r",
      " 91%|█████████ | 9027584/9912422 [00:04<00:00, 1930153.88it/s]\r",
      " 94%|█████████▍| 9322496/9912422 [00:05<00:00, 1676238.08it/s]\r",
      " 98%|█████████▊| 9691136/9912422 [00:05<00:00, 2075624.75it/s]\n",
      "\r",
      "0it [00:00, ?it/s]\u001b[A\n",
      "\r",
      "  0%|          | 0/28881 [00:00<?, ?it/s]\u001b[A\n",
      "\r",
      " 57%|█████▋    | 16384/28881 [00:01<00:00, 74426.10it/s]\u001b[A\n",
      "\n",
      "\r",
      "0it [00:00, ?it/s]\u001b[A\u001b[A\n",
      "\n",
      "\r",
      "  0%|          | 0/1648877 [00:00<?, ?it/s]\u001b[A\u001b[A\n",
      "\n",
      "\r",
      "  6%|▋         | 106496/1648877 [00:00<00:02, 548257.80it/s]\u001b[A\u001b[A\n",
      "\n",
      "\r",
      " 27%|██▋       | 442368/1648877 [00:00<00:00, 1716737.91it/s]\u001b[A\u001b[A\n",
      "\n",
      "\r",
      " 46%|████▌     | 761856/1648877 [00:00<00:00, 2250597.48it/s]\u001b[A\u001b[A\n",
      "\n",
      "\r",
      " 60%|██████    | 991232/1648877 [00:00<00:00, 1475615.55it/s]\u001b[A\u001b[A\n",
      "\n",
      "\r",
      " 95%|█████████▌| 1572864/1648877 [00:00<00:00, 2522381.59it/s]\u001b[A\u001b[A\n",
      "\n",
      "\n",
      "\r",
      "0it [00:00, ?it/s]\u001b[A\u001b[A\u001b[A\n",
      "\n",
      "\n",
      "\r",
      "  0%|          | 0/4542 [00:00<?, ?it/s]\u001b[A\u001b[A\u001b[A/opt/conda/lib/python3.8/site-packages/torchvision/datasets/mnist.py:480: UserWarning: The given NumPy array is not writeable, and PyTorch does not support non-writeable tensors. This means you can write to the underlying (supposedly non-writeable) NumPy array using the tensor. You may want to copy the array to protect its data or make it writeable before converting it to a tensor. This type of warning will be suppressed for the rest of this program. (Triggered internally at  /opt/conda/conda-bld/pytorch_1603729002806/work/torch/csrc/utils/tensor_numpy.cpp:141.)\n",
      "  return torch.from_numpy(parsed.astype(m[2], copy=False)).view(*s)\n",
      "\r",
      "1654784it [00:01, 907432.26it/s]                              \n",
      "\r",
      "8192it [00:00, 9265.32it/s]             \n",
      "\r",
      "9920512it [00:08, 1157673.96it/s]                             \n",
      "\r",
      "32768it [00:02, 11142.40it/s]                           "
     ]
    }
   ],
   "source": [
    "%%bash\n",
    "dvc repro download"
   ]
  },
  {
   "cell_type": "markdown",
   "metadata": {},
   "source": [
    "**IMPORTANT:** Be sure to run the `git add` command above and also `git commit` before running experiments. Anytime you modify the pipeline, be sure to `dvc repro` and track changes with git before running experiments."
   ]
  },
  {
   "cell_type": "code",
   "execution_count": 10,
   "metadata": {},
   "outputs": [
    {
     "name": "stdout",
     "output_type": "stream",
     "text": [
      "[2.0 513e35e] download data\n",
      " 1 file changed, 13 insertions(+)\n",
      " create mode 100644 dvc.lock\n"
     ]
    }
   ],
   "source": [
    "%%bash\n",
    "git add dvc.lock data/.gitignore\n",
    "git commit -m \"download data\""
   ]
  },
  {
   "cell_type": "markdown",
   "metadata": {},
   "source": [
    "### Run an experiment\n",
    "\n",
    "Run an experiment with the default parameters defined in `params.yaml`."
   ]
  },
  {
   "cell_type": "code",
   "execution_count": 11,
   "metadata": {},
   "outputs": [
    {
     "name": "stdout",
     "output_type": "stream",
     "text": [
      "Stage 'download' didn't change, skipping\n",
      "Running stage 'train':\n",
      "> python train.py\n",
      "Updating lock file 'dvc.lock'\n",
      "Checkpoint experiment iteration 'c78819d'.\n",
      "Updating lock file 'dvc.lock'\n",
      "Checkpoint experiment iteration '51075f8'.\n",
      "\n",
      "To track the changes with git, run:\n",
      "\n",
      "\tgit add data/MNIST params.yaml train.py dvc.lock dvc.yaml .gitignore\n",
      "\n",
      "Reproduced experiment(s): exp-9f4b6\n",
      "Experiment results have been applied to your workspace.\n",
      "\n",
      "To promote an experiment to a Git branch run:\n",
      "\n",
      "\tdvc exp branch <exp>\n",
      "\n"
     ]
    }
   ],
   "source": [
    "%%bash\n",
    "dvc exp run"
   ]
  },
  {
   "cell_type": "markdown",
   "metadata": {},
   "source": [
    "Review the output of the run, including identifying hashes, metrics, and parameters:"
   ]
  },
  {
   "cell_type": "code",
   "execution_count": 12,
   "metadata": {},
   "outputs": [
    {
     "name": "stdout",
     "output_type": "stream",
     "text": [
      "┏━━━━━━━━━━━━━━━┳━━━━━━━━━━┳━━━━━━━━┳━━━━━━━━┳━━━━━━━┳━━━━━━━━━━━━━━┓\n",
      "┃ Experiment    ┃ Created  ┃    acc ┃   loss ┃ lr    ┃ weight_decay ┃\n",
      "┡━━━━━━━━━━━━━━━╇━━━━━━━━━━╇━━━━━━━━╇━━━━━━━━╇━━━━━━━╇━━━━━━━━━━━━━━┩\n",
      "│ workspace     │ -        │ 0.1269 │ 2.2674 │ 0.001 │ 0.1          │\n",
      "│ 2.0           │ 08:37 PM │      - │      - │ 0.001 │ 0.1          │\n",
      "│ │ ╓ exp-9f4b6 │ 08:38 PM │ 0.1269 │ 2.2674 │ 0.001 │ 0.1          │\n",
      "│ │ ╟ 51075f8   │ 08:38 PM │ 0.1269 │ 2.2674 │ 0.001 │ 0.1          │\n",
      "│ ├─╨ c78819d   │ 08:38 PM │ 0.0977 │ 2.2875 │ 0.001 │ 0.1          │\n",
      "└───────────────┴──────────┴────────┴────────┴───────┴──────────────┘\n"
     ]
    }
   ],
   "source": [
    "%%bash\n",
    "dvc exp show"
   ]
  },
  {
   "cell_type": "markdown",
   "metadata": {},
   "source": [
    "Note that two experiments were run. These are checkpoints for the run. It's not necessary to have checkpoints for experiments, but they can be helpful for models that may be run for a number of epochs. See below for more information about how checkpoints work."
   ]
  },
  {
   "cell_type": "markdown",
   "metadata": {},
   "source": [
    "### Experiment with different parameters\n",
    "\n",
    "Experiments can be run and compared with different parameters."
   ]
  },
  {
   "cell_type": "code",
   "execution_count": null,
   "metadata": {},
   "outputs": [],
   "source": [
    "%%bash\n",
    "dvc exp run --params weight_decay=0.1"
   ]
  },
  {
   "cell_type": "code",
   "execution_count": null,
   "metadata": {},
   "outputs": [],
   "source": [
    "%%bash\n",
    "dvc exp show"
   ]
  },
  {
   "cell_type": "markdown",
   "metadata": {},
   "source": [
    "Increasing `weight_decay` helped a bit. Next, try different `lr` parameters.\n",
    "\n",
    "Experiments can be added in bulk to the queue and executed on demand (see the `-j` flag for parallel execution!)."
   ]
  },
  {
   "cell_type": "code",
   "execution_count": 9,
   "metadata": {},
   "outputs": [
    {
     "name": "stdout",
     "output_type": "stream",
     "text": [
      "Queued experiment '7f1d45d' for future execution.\n",
      "Queued experiment '58f1dfe' for future execution.\n"
     ]
    }
   ],
   "source": [
    "%%bash\n",
    "dvc exp run --params lr=0.01 --queue\n",
    "dvc exp run --params lr=0.1 --queue"
   ]
  },
  {
   "cell_type": "code",
   "execution_count": 10,
   "metadata": {},
   "outputs": [
    {
     "name": "stdout",
     "output_type": "stream",
     "text": [
      "┏━━━━━━━━━━━━━━━┳━━━━━━━━━━┳━━━━━━━━┳━━━━━━━━┳━━━━━━━┳━━━━━━━━━━━━━━┓\n",
      "┃ Experiment    ┃ Created  ┃    acc ┃   loss ┃ lr    ┃ weight_decay ┃\n",
      "┡━━━━━━━━━━━━━━━╇━━━━━━━━━━╇━━━━━━━━╇━━━━━━━━╇━━━━━━━╇━━━━━━━━━━━━━━┩\n",
      "│ workspace     │ -        │ 0.1009 │ 2.3028 │ 0.001 │ 0.1          │\n",
      "│ main          │ 11:19 AM │      - │      - │ 0.001 │ 0            │\n",
      "│ │ ╓ exp-98b33 │ 11:21 AM │ 0.1009 │ 2.3028 │ 0.001 │ 0.1          │\n",
      "│ │ ╟ 715fc6e   │ 11:21 AM │ 0.1009 │ 2.3028 │ 0.001 │ 0.1          │\n",
      "│ ├─╨ 2b34f9f   │ 11:21 AM │ 0.1009 │ 2.3034 │ 0.001 │ 0.1          │\n",
      "│ │ ╓ exp-ff372 │ 11:19 AM │ 0.1662 │ 2.2971 │ 0.001 │ 0            │\n",
      "│ │ ╟ 8d76dda   │ 11:19 AM │ 0.1662 │ 2.2971 │ 0.001 │ 0            │\n",
      "│ ├─╨ a9901cf   │ 11:19 AM │ 0.1118 │ 2.3028 │ 0.001 │ 0            │\n",
      "│ ├── *58f1dfe  │ 11:21 AM │      - │      - │ 0.1   │ 0.1          │\n",
      "│ └── *7f1d45d  │ 11:21 AM │      - │      - │ 0.01  │ 0.1          │\n",
      "└───────────────┴──────────┴────────┴────────┴───────┴──────────────┘\n"
     ]
    }
   ],
   "source": [
    "%%bash\n",
    "dvc exp show"
   ]
  },
  {
   "cell_type": "code",
   "execution_count": 11,
   "metadata": {},
   "outputs": [
    {
     "name": "stdout",
     "output_type": "stream",
     "text": [
      "Running stage 'download':\n",
      "> python download.py\n",
      "Stage 'download' didn't change, skipping\n",
      "Running stage 'download':\n",
      "> python download.py\n",
      "Running stage 'train':\n",
      "> python train.py\n",
      "Stage 'download' didn't change, skipping\n",
      "Running stage 'train':\n",
      "> python train.py\n",
      "Downloading http://yann.lecun.com/exdb/mnist/train-images-idx3-ubyte.gz to data/MNIST/raw/train-images-idx3-ubyte.gz\n",
      "Extracting data/MNIST/raw/train-images-idx3-ubyte.gz to data/MNIST/raw\n",
      "Downloading http://yann.lecun.com/exdb/mnist/train-labels-idx1-ubyte.gz to data/MNIST/raw/train-labels-idx1-ubyte.gz\n",
      "Extracting data/MNIST/raw/train-labels-idx1-ubyte.gz to data/MNIST/raw\n",
      "Downloading http://yann.lecun.com/exdb/mnist/t10k-images-idx3-ubyte.gz to data/MNIST/raw/t10k-images-idx3-ubyte.gz\n",
      "Extracting data/MNIST/raw/t10k-images-idx3-ubyte.gz to data/MNIST/raw\n",
      "Downloading http://yann.lecun.com/exdb/mnist/t10k-labels-idx1-ubyte.gz to data/MNIST/raw/t10k-labels-idx1-ubyte.gz\n",
      "Extracting data/MNIST/raw/t10k-labels-idx1-ubyte.gz to data/MNIST/raw\n",
      "Processing...\n",
      "Done!\n",
      "Downloading http://yann.lecun.com/exdb/mnist/train-images-idx3-ubyte.gz to data/MNIST/raw/train-images-idx3-ubyte.gz\n",
      "Extracting data/MNIST/raw/train-images-idx3-ubyte.gz to data/MNIST/raw\n",
      "Downloading http://yann.lecun.com/exdb/mnist/train-labels-idx1-ubyte.gz to data/MNIST/raw/train-labels-idx1-ubyte.gz\n",
      "Extracting data/MNIST/raw/train-labels-idx1-ubyte.gz to data/MNIST/raw\n",
      "Downloading http://yann.lecun.com/exdb/mnist/t10k-images-idx3-ubyte.gz to data/MNIST/raw/t10k-images-idx3-ubyte.gz\n",
      "Extracting data/MNIST/raw/t10k-images-idx3-ubyte.gz to data/MNIST/raw\n",
      "Downloading http://yann.lecun.com/exdb/mnist/t10k-labels-idx1-ubyte.gz to data/MNIST/raw/t10k-labels-idx1-ubyte.gz\n",
      "Extracting data/MNIST/raw/t10k-labels-idx1-ubyte.gz to data/MNIST/raw\n",
      "Processing...\n",
      "Done!\n",
      "Migrating lock file 'dvc.lock' from v1 to v2\n",
      "Updating lock file 'dvc.lock'\n",
      "\n",
      "Migrating lock file 'dvc.lock' from v1 to v2\n",
      "Updating lock file 'dvc.lock'\n",
      "Running stage 'train':\n",
      "> python train.py\n",
      "\n",
      "Running stage 'train':\n",
      "> python train.py\n",
      "Updating lock file 'dvc.lock'\n",
      "Checkpoint experiment iteration '5fd4ddb'.\n",
      "Updating lock file 'dvc.lock'\n",
      "Checkpoint experiment iteration 'c021650'.\n",
      "Updating lock file 'dvc.lock'\n",
      "Checkpoint experiment iteration 'a4bc848'.\n",
      "Updating lock file 'dvc.lock'\n",
      "Checkpoint experiment iteration '232c6e8'.\n",
      "\n",
      "Reproduced experiment(s): exp-15d4f, exp-f99c5\n",
      "To apply the results of an experiment to your workspace run:\n",
      "\n",
      "\tdvc exp apply <exp>\n",
      "\n",
      "To promote an experiment to a Git branch run:\n",
      "\n",
      "\tdvc exp branch <exp>\n",
      "\n"
     ]
    },
    {
     "name": "stderr",
     "output_type": "stream",
     "text": [
      "\r",
      "0it [00:00, ?it/s]\r",
      "0it [00:00, ?it/s]\r",
      "  0%|          | 0/9912422 [00:00<?, ?it/s]\r",
      "  1%|          | 90112/9912422 [00:00<00:11, 875940.93it/s]\r",
      "  0%|          | 16384/9912422 [00:00<01:27, 112853.95it/s]\r",
      "  3%|▎         | 278528/9912422 [00:00<00:06, 1458695.68it/s]\r",
      "  1%|          | 114688/9912422 [00:00<00:23, 425674.08it/s]\r",
      "  6%|▌         | 557056/9912422 [00:00<00:04, 2055465.70it/s]\r",
      "  2%|▏         | 163840/9912422 [00:00<00:23, 423773.94it/s]\r",
      "  9%|▊         | 843776/9912422 [00:00<00:05, 1783472.74it/s]\r",
      " 12%|█▏        | 1171456/9912422 [00:00<00:04, 1994029.17it/s]\r",
      "  4%|▎         | 352256/9912422 [00:00<00:15, 619652.52it/s]\r",
      "  7%|▋         | 712704/9912422 [00:00<00:07, 1282033.56it/s]\r",
      " 14%|█▍        | 1368064/9912422 [00:00<00:06, 1409601.33it/s]\r",
      "  9%|▊         | 860160/9912422 [00:01<00:09, 990862.97it/s] \r",
      " 17%|█▋        | 1720320/9912422 [00:01<00:04, 1756451.11it/s]\r",
      " 21%|██        | 2048000/9912422 [00:01<00:03, 2097923.85it/s]\r",
      " 12%|█▏        | 1212416/9912422 [00:01<00:06, 1389872.00it/s]\r",
      " 15%|█▍        | 1449984/9912422 [00:01<00:05, 1593740.17it/s]\r",
      " 23%|██▎       | 2285568/9912422 [00:01<00:05, 1504590.83it/s]\r",
      " 17%|█▋        | 1638400/9912422 [00:01<00:07, 1044175.25it/s]\r",
      " 25%|██▌       | 2523136/9912422 [00:01<00:06, 1181767.89it/s]\r",
      " 21%|██        | 2088960/9912422 [00:01<00:04, 1580210.90it/s]\r",
      " 28%|██▊       | 2818048/9912422 [00:01<00:04, 1436777.71it/s]\r",
      " 24%|██▍       | 2383872/9912422 [00:01<00:04, 1734429.64it/s]\r",
      " 31%|███▏      | 3104768/9912422 [00:02<00:04, 1680327.93it/s]\r",
      " 26%|██▋       | 2605056/9912422 [00:02<00:04, 1579061.51it/s]\r",
      " 33%|███▎      | 3317760/9912422 [00:02<00:03, 1759271.99it/s]\r",
      " 28%|██▊       | 2793472/9912422 [00:02<00:04, 1494902.80it/s]\r",
      " 36%|███▌      | 3555328/9912422 [00:02<00:04, 1426223.84it/s]\r",
      " 31%|███       | 3055616/9912422 [00:02<00:04, 1443301.24it/s]\r",
      " 39%|███▉      | 3850240/9912422 [00:02<00:03, 1546677.25it/s]\r",
      " 33%|███▎      | 3284992/9912422 [00:02<00:04, 1530447.17it/s]\r",
      " 41%|████      | 4030464/9912422 [00:02<00:03, 1565792.18it/s]\r",
      " 35%|███▍      | 3457024/9912422 [00:02<00:04, 1516596.04it/s]\r",
      " 42%|████▏     | 4210688/9912422 [00:02<00:04, 1345721.61it/s]\r",
      " 37%|███▋      | 3653632/9912422 [00:02<00:04, 1500740.47it/s]\r",
      " 46%|████▌     | 4571136/9912422 [00:02<00:02, 1800326.90it/s]\r",
      " 39%|███▉      | 3899392/9912422 [00:02<00:03, 1684249.94it/s]\r",
      " 48%|████▊     | 4784128/9912422 [00:03<00:02, 1824238.58it/s]\r",
      " 41%|████      | 4079616/9912422 [00:03<00:04, 1455770.60it/s]\r",
      " 50%|█████     | 4988928/9912422 [00:03<00:02, 1829390.13it/s]\r",
      " 44%|████▎     | 4317184/9912422 [00:03<00:03, 1635863.20it/s]\r",
      " 53%|█████▎    | 5226496/9912422 [00:03<00:02, 1962636.17it/s]\r",
      " 56%|█████▌    | 5505024/9912422 [00:03<00:02, 2173184.08it/s]\r",
      " 45%|████▌     | 4497408/9912422 [00:03<00:03, 1475426.08it/s]\r",
      " 58%|█████▊    | 5734400/9912422 [00:03<00:02, 2048955.49it/s]\r",
      " 47%|████▋     | 4702208/9912422 [00:03<00:03, 1514565.53it/s]\r",
      " 61%|██████    | 6012928/9912422 [00:03<00:01, 2241434.47it/s]\r",
      " 50%|████▉     | 4907008/9912422 [00:03<00:03, 1631714.42it/s]\r",
      " 63%|██████▎   | 6266880/9912422 [00:03<00:01, 2303278.68it/s]\r",
      " 52%|█████▏    | 5120000/9912422 [00:03<00:02, 1746132.69it/s]\r",
      " 66%|██████▌   | 6529024/9912422 [00:03<00:01, 2376376.32it/s]\r",
      " 54%|█████▎    | 5308416/9912422 [00:03<00:02, 1694312.89it/s]\r",
      " 69%|██████▉   | 6815744/9912422 [00:03<00:01, 2510990.90it/s]\r",
      " 55%|█████▌    | 5488640/9912422 [00:03<00:02, 1538812.60it/s]\r",
      " 57%|█████▋    | 5652480/9912422 [00:04<00:02, 1533279.78it/s]\r",
      " 71%|███████▏  | 7077888/9912422 [00:04<00:01, 1618575.85it/s]\r",
      " 59%|█████▊    | 5816320/9912422 [00:04<00:03, 1243301.05it/s]\r",
      " 74%|███████▍  | 7364608/9912422 [00:04<00:01, 1671668.71it/s]\r",
      " 61%|██████    | 6045696/9912422 [00:04<00:02, 1398994.78it/s]\r",
      " 77%|███████▋  | 7667712/9912422 [00:04<00:01, 1949995.36it/s]\r",
      " 63%|██████▎   | 6266880/9912422 [00:04<00:02, 1564148.33it/s]\r",
      " 80%|███████▉  | 7897088/9912422 [00:04<00:01, 1798873.66it/s]\r",
      " 65%|██████▌   | 6447104/9912422 [00:04<00:02, 1613512.21it/s]\r",
      " 82%|████████▏ | 8159232/9912422 [00:04<00:00, 1981549.34it/s]\r",
      " 67%|██████▋   | 6619136/9912422 [00:04<00:02, 1629176.80it/s]\r",
      " 85%|████████▌ | 8437760/9912422 [00:04<00:00, 2079201.80it/s]\r",
      " 69%|██████▊   | 6807552/9912422 [00:04<00:02, 1437259.89it/s]\r",
      " 88%|████████▊ | 8724480/9912422 [00:04<00:00, 2095396.39it/s]\r",
      " 92%|█████████▏| 9101312/9912422 [00:05<00:00, 2452101.63it/s]\r",
      " 71%|███████   | 7045120/9912422 [00:05<00:02, 1374874.41it/s]\r",
      " 95%|█████████▍| 9379840/9912422 [00:05<00:00, 2498043.28it/s]\r",
      " 73%|███████▎  | 7192576/9912422 [00:05<00:02, 1340600.63it/s]\r",
      " 97%|█████████▋| 9641984/9912422 [00:05<00:00, 2241713.72it/s]\r",
      " 75%|███████▌  | 7438336/9912422 [00:05<00:01, 1412465.32it/s]\r",
      " 78%|███████▊  | 7684096/9912422 [00:05<00:01, 1646741.36it/s]\r",
      "100%|█████████▉| 9879552/9912422 [00:05<00:00, 2007980.40it/s]\r",
      " 80%|███████▉  | 7929856/9912422 [00:05<00:01, 1839418.25it/s]\r",
      " 82%|████████▏ | 8167424/9912422 [00:05<00:00, 1971312.25it/s]\r",
      " 85%|████████▍ | 8396800/9912422 [00:05<00:00, 1891118.86it/s]\r",
      " 89%|████████▉ | 8798208/9912422 [00:06<00:00, 1594158.03it/s]\r",
      " 98%|█████████▊| 9740288/9912422 [00:06<00:00, 3114647.11it/s]\n",
      "\r",
      "0it [00:00, ?it/s]\u001b[A\n",
      "\r",
      "  0%|          | 0/28881 [00:00<?, ?it/s]\u001b[A\n",
      "\n",
      "\r",
      "0it [00:00, ?it/s]\u001b[A\u001b[A\n",
      "\n",
      "\r",
      "  0%|          | 0/1648877 [00:00<?, ?it/s]\u001b[A\u001b[A\n",
      "\n",
      "\r",
      " 12%|█▏        | 196608/1648877 [00:00<00:00, 1761221.23it/s]\u001b[A\u001b[A\n",
      "\r",
      "0it [00:00, ?it/s]\u001b[A\n",
      "\n",
      "\r",
      " 27%|██▋       | 442368/1648877 [00:00<00:00, 1971033.27it/s]\u001b[A\u001b[A\n",
      "\n",
      "\r",
      " 44%|████▎     | 720896/1648877 [00:00<00:00, 2301657.07it/s]\u001b[A\u001b[A\n",
      "\r",
      "  0%|          | 0/28881 [00:00<?, ?it/s]\u001b[A\n",
      "\n",
      "\r",
      "0it [00:00, ?it/s]\u001b[A\u001b[A\n",
      "\n",
      "\r",
      " 66%|██████▌   | 1089536/1648877 [00:00<00:00, 2821461.86it/s]\u001b[A\u001b[A\n",
      "\n",
      "\r",
      " 82%|████████▏ | 1351680/1648877 [00:00<00:00, 2726374.54it/s]\u001b[A\u001b[A\n",
      "\n",
      "\r",
      "  0%|          | 0/1648877 [00:00<?, ?it/s]\u001b[A\u001b[A\n",
      "\n",
      "\r",
      " 99%|█████████▉| 1638400/1648877 [00:00<00:00, 2750808.51it/s]\u001b[A\u001b[A\n",
      "\n",
      "\r",
      "  9%|▉         | 155648/1648877 [00:00<00:00, 1552823.69it/s]\u001b[A\u001b[A\n",
      "\n",
      "\n",
      "\r",
      "0it [00:00, ?it/s]\u001b[A\u001b[A\u001b[A\n",
      "\n",
      "\r",
      " 24%|██▍       | 393216/1648877 [00:00<00:00, 1990906.83it/s]\u001b[A\u001b[A\n",
      "\n",
      "\r",
      " 34%|███▍      | 565248/1648877 [00:00<00:00, 1857520.59it/s]\u001b[A\u001b[A\n",
      "\n",
      "\r",
      " 52%|█████▏    | 860160/1648877 [00:00<00:00, 2273245.16it/s]\u001b[A\u001b[A\n",
      "\n",
      "\r",
      " 67%|██████▋   | 1097728/1648877 [00:00<00:00, 2259379.91it/s]\u001b[A\u001b[A\n",
      "\n",
      "\n",
      "\r",
      "  0%|          | 0/4542 [00:00<?, ?it/s]\u001b[A\u001b[A\u001b[A\n",
      "\n",
      "\r",
      " 80%|███████▉  | 1318912/1648877 [00:00<00:00, 1902889.40it/s]\u001b[A\u001b[A\n",
      "\n",
      "\n",
      "\r",
      "0it [00:00, ?it/s]\u001b[A\u001b[A\u001b[A/home/dave/anaconda3/envs/dvc-exp-mnist/lib/python3.8/site-packages/torchvision/datasets/mnist.py:480: UserWarning: The given NumPy array is not writeable, and PyTorch does not support non-writeable tensors. This means you can write to the underlying (supposedly non-writeable) NumPy array using the tensor. You may want to copy the array to protect its data or make it writeable before converting it to a tensor. This type of warning will be suppressed for the rest of this program. (Triggered internally at  /opt/conda/conda-bld/pytorch_1603729002806/work/torch/csrc/utils/tensor_numpy.cpp:141.)\n",
      "  return torch.from_numpy(parsed.astype(m[2], copy=False)).view(*s)\n",
      "\r",
      "1654784it [00:01, 1048485.71it/s]                             \n",
      "\r",
      "8192it [00:00, 11079.05it/s]            \n",
      "\r",
      "9920512it [00:08, 1221224.33it/s]                             \n",
      "\r",
      "32768it [00:01, 19231.00it/s]            \n",
      "\n",
      "\n",
      "\r",
      "  0%|          | 0/4542 [00:00<?, ?it/s]\u001b[A\u001b[A\u001b[A/home/dave/anaconda3/envs/dvc-exp-mnist/lib/python3.8/site-packages/torchvision/datasets/mnist.py:480: UserWarning: The given NumPy array is not writeable, and PyTorch does not support non-writeable tensors. This means you can write to the underlying (supposedly non-writeable) NumPy array using the tensor. You may want to copy the array to protect its data or make it writeable before converting it to a tensor. This type of warning will be suppressed for the rest of this program. (Triggered internally at  /opt/conda/conda-bld/pytorch_1603729002806/work/torch/csrc/utils/tensor_numpy.cpp:141.)\n",
      "  return torch.from_numpy(parsed.astype(m[2], copy=False)).view(*s)\n",
      "\r",
      "1654784it [00:01, 1178653.87it/s]                             \n",
      "\r",
      "8192it [00:00, 19567.78it/s]            \n",
      "\r",
      "9920512it [00:08, 1186138.08it/s]                             \n",
      "\r",
      "32768it [00:01, 19981.03it/s]            ERROR: failed to reproduce 'dvc.yaml': failed to run: python train.py, exited with -9\n",
      "ERROR: failed to reproduce 'dvc.yaml': failed to run: python train.py, exited with -9\n",
      "ERROR: Failed to reproduce experiment '58f1dfe'\n",
      "ERROR: Failed to reproduce experiment '0c2ae1f'\n"
     ]
    }
   ],
   "source": [
    "%%bash\n",
    "dvc exp run --run-all"
   ]
  },
  {
   "cell_type": "code",
   "execution_count": 12,
   "metadata": {},
   "outputs": [
    {
     "name": "stdout",
     "output_type": "stream",
     "text": [
      "┏━━━━━━━━━━━━━━━┳━━━━━━━━━━┳━━━━━━━━┳━━━━━━━━┳━━━━━━━┳━━━━━━━━━━━━━━┓\n",
      "┃ Experiment    ┃ Created  ┃    acc ┃   loss ┃ lr    ┃ weight_decay ┃\n",
      "┡━━━━━━━━━━━━━━━╇━━━━━━━━━━╇━━━━━━━━╇━━━━━━━━╇━━━━━━━╇━━━━━━━━━━━━━━┩\n",
      "│ workspace     │ -        │ 0.1009 │ 2.3028 │ 0.001 │ 0.1          │\n",
      "│ main          │ 11:19 AM │      - │      - │ 0.001 │ 0            │\n",
      "│ │ ╓ exp-15d4f │ 11:23 AM │ 0.2012 │  2.071 │ 0.01  │ 0.1          │\n",
      "│ ├─╨ 5fd4ddb   │ 11:22 AM │ 0.1914 │ 2.2331 │ 0.01  │ 0.1          │\n",
      "│ │ ╓ exp-98b33 │ 11:21 AM │ 0.1009 │ 2.3028 │ 0.001 │ 0.1          │\n",
      "│ │ ╟ 715fc6e   │ 11:21 AM │ 0.1009 │ 2.3028 │ 0.001 │ 0.1          │\n",
      "│ ├─╨ 2b34f9f   │ 11:21 AM │ 0.1009 │ 2.3034 │ 0.001 │ 0.1          │\n",
      "│ │ ╓ exp-ff372 │ 11:19 AM │ 0.1662 │ 2.2971 │ 0.001 │ 0            │\n",
      "│ │ ╟ 8d76dda   │ 11:19 AM │ 0.1662 │ 2.2971 │ 0.001 │ 0            │\n",
      "│ ├─╨ a9901cf   │ 11:19 AM │ 0.1118 │ 2.3028 │ 0.001 │ 0            │\n",
      "│ └── *58f1dfe  │ 11:21 AM │      - │      - │ 0.1   │ 0.1          │\n",
      "└───────────────┴──────────┴────────┴────────┴───────┴──────────────┘\n"
     ]
    }
   ],
   "source": [
    "%%bash\n",
    "dvc exp show"
   ]
  },
  {
   "cell_type": "markdown",
   "metadata": {},
   "source": [
    "**FIXME:** Running queued experiments does not run all queued experiments, at least if there are checkpoints in those experiments. In the example above, there are two checkpoints so that every set of parameters should be run twice. Since there were two different sets of parameters queued, four total experiment runs were expected, but only two ran. Nothing was run for the second set of parameters.\n",
    "\n",
    "Let's try again to run the remaining queued experiments and to test that including the parallel execution flag doesn't break anything. Nothing should actually run in parallel here, since checkpoints need to be executed sequentially."
   ]
  },
  {
   "cell_type": "code",
   "execution_count": 14,
   "metadata": {},
   "outputs": [
    {
     "name": "stdout",
     "output_type": "stream",
     "text": [
      "Running stage 'download':\n",
      "> python download.py\n",
      "Stage 'download' didn't change, skipping\n",
      "Running stage 'train':\n",
      "> python train.py\n",
      "Downloading http://yann.lecun.com/exdb/mnist/train-images-idx3-ubyte.gz to data/MNIST/raw/train-images-idx3-ubyte.gz\n",
      "Extracting data/MNIST/raw/train-images-idx3-ubyte.gz to data/MNIST/raw\n",
      "Downloading http://yann.lecun.com/exdb/mnist/train-labels-idx1-ubyte.gz to data/MNIST/raw/train-labels-idx1-ubyte.gz\n",
      "Extracting data/MNIST/raw/train-labels-idx1-ubyte.gz to data/MNIST/raw\n",
      "Downloading http://yann.lecun.com/exdb/mnist/t10k-images-idx3-ubyte.gz to data/MNIST/raw/t10k-images-idx3-ubyte.gz\n",
      "Extracting data/MNIST/raw/t10k-images-idx3-ubyte.gz to data/MNIST/raw\n",
      "Downloading http://yann.lecun.com/exdb/mnist/t10k-labels-idx1-ubyte.gz to data/MNIST/raw/t10k-labels-idx1-ubyte.gz\n",
      "Extracting data/MNIST/raw/t10k-labels-idx1-ubyte.gz to data/MNIST/raw\n",
      "Processing...\n",
      "Done!\n",
      "Migrating lock file 'dvc.lock' from v1 to v2\n",
      "Updating lock file 'dvc.lock'\n",
      "\n",
      "Running stage 'train':\n",
      "> python train.py\n",
      "Updating lock file 'dvc.lock'\n",
      "Checkpoint experiment iteration '7251640'.\n",
      "Updating lock file 'dvc.lock'\n",
      "Checkpoint experiment iteration '058d3fa'.\n",
      "Updating lock file 'dvc.lock'\n",
      "Checkpoint experiment iteration '248dccc'.\n",
      "Updating lock file 'dvc.lock'\n",
      "Checkpoint experiment iteration '741335c'.\n",
      "\n",
      "Reproduced experiment(s): exp-e08c4, exp-0bd47\n",
      "To apply the results of an experiment to your workspace run:\n",
      "\n",
      "\tdvc exp apply <exp>\n",
      "\n",
      "To promote an experiment to a Git branch run:\n",
      "\n",
      "\tdvc exp branch <exp>\n",
      "\n"
     ]
    },
    {
     "name": "stderr",
     "output_type": "stream",
     "text": [
      "\r",
      "0it [00:00, ?it/s]\r",
      "  0%|          | 0/9912422 [00:00<?, ?it/s]\r",
      "  0%|          | 8192/9912422 [00:00<08:38, 19092.10it/s]\r",
      "  2%|▏         | 204800/9912422 [00:00<00:19, 498756.25it/s]\r",
      "  5%|▌         | 507904/9912422 [00:00<00:08, 1149102.99it/s]\r",
      "  9%|▉         | 917504/9912422 [00:00<00:04, 1931639.53it/s]\r",
      " 14%|█▎        | 1359872/9912422 [00:01<00:03, 2616751.53it/s]\r",
      " 19%|█▉        | 1875968/9912422 [00:01<00:02, 3327064.94it/s]\r",
      " 25%|██▍       | 2433024/9912422 [00:01<00:01, 3926578.88it/s]\r",
      " 30%|███       | 3014656/9912422 [00:01<00:01, 4237306.07it/s]\r",
      " 36%|███▌      | 3538944/9912422 [00:01<00:01, 4503739.89it/s]\r",
      " 40%|████      | 4014080/9912422 [00:01<00:01, 4572925.86it/s]\r",
      " 45%|████▌     | 4489216/9912422 [00:01<00:01, 4624153.70it/s]\r",
      " 50%|█████     | 4964352/9912422 [00:01<00:01, 4421854.16it/s]\r",
      " 55%|█████▍    | 5414912/9912422 [00:01<00:01, 3863594.35it/s]\r",
      " 59%|█████▉    | 5824512/9912422 [00:02<00:01, 3572009.64it/s]\r",
      " 65%|██████▍   | 6430720/9912422 [00:02<00:00, 4047320.00it/s]\r",
      " 69%|██████▉   | 6856704/9912422 [00:02<00:00, 4086610.41it/s]\r",
      " 73%|███████▎  | 7282688/9912422 [00:02<00:00, 3734569.23it/s]\r",
      " 78%|███████▊  | 7725056/9912422 [00:02<00:00, 3905936.40it/s]\r",
      " 83%|████████▎ | 8265728/9912422 [00:02<00:00, 4291418.37it/s]\r",
      " 88%|████████▊ | 8716288/9912422 [00:02<00:00, 4350448.90it/s]\r",
      " 93%|█████████▎| 9265152/9912422 [00:02<00:00, 4654635.92it/s]\r",
      " 98%|█████████▊| 9740288/9912422 [00:02<00:00, 4515844.29it/s]\n",
      "\r",
      "0it [00:00, ?it/s]\u001b[A\n",
      "\n",
      "\r",
      "0it [00:00, ?it/s]\u001b[A\u001b[A\n",
      "\n",
      "\r",
      "  0%|          | 0/1648877 [00:00<?, ?it/s]\u001b[A\u001b[A\n",
      "\n",
      "\r",
      " 12%|█▏        | 196608/1648877 [00:00<00:00, 1898218.84it/s]\u001b[A\u001b[A\n",
      "\n",
      "\r",
      " 32%|███▏      | 532480/1648877 [00:00<00:00, 2739464.89it/s]\u001b[A\u001b[A\n",
      "\n",
      "\r",
      " 56%|█████▌    | 925696/1648877 [00:00<00:00, 3230235.14it/s]\u001b[A\u001b[A\n",
      "\n",
      "\r",
      " 79%|███████▉  | 1310720/1648877 [00:00<00:00, 3460359.57it/s]\u001b[A\u001b[A\n",
      "\n",
      "\n",
      "\r",
      "0it [00:00, ?it/s]\u001b[A\u001b[A\u001b[A/home/dave/anaconda3/envs/dvc-exp-mnist/lib/python3.8/site-packages/torchvision/datasets/mnist.py:480: UserWarning: The given NumPy array is not writeable, and PyTorch does not support non-writeable tensors. This means you can write to the underlying (supposedly non-writeable) NumPy array using the tensor. You may want to copy the array to protect its data or make it writeable before converting it to a tensor. This type of warning will be suppressed for the rest of this program. (Triggered internally at  /opt/conda/conda-bld/pytorch_1603729002806/work/torch/csrc/utils/tensor_numpy.cpp:141.)\n",
      "  return torch.from_numpy(parsed.astype(m[2], copy=False)).view(*s)\n",
      "\r",
      "1654784it [00:00, 1755124.75it/s]                             \n",
      "\r",
      "8192it [00:00, 29245.24it/s]\n",
      "\r",
      "9920512it [00:04, 2253954.13it/s]                             \n",
      "\r",
      "32768it [00:01, 31652.81it/s]"
     ]
    }
   ],
   "source": [
    "%%bash\n",
    "dvc exp run --run-all -j 2"
   ]
  },
  {
   "cell_type": "code",
   "execution_count": 15,
   "metadata": {},
   "outputs": [
    {
     "name": "stdout",
     "output_type": "stream",
     "text": [
      "┏━━━━━━━━━━━━━━━┳━━━━━━━━━━┳━━━━━━━━┳━━━━━━━━┳━━━━━━━┳━━━━━━━━━━━━━━┓\n",
      "┃ Experiment    ┃ Created  ┃    acc ┃   loss ┃ lr    ┃ weight_decay ┃\n",
      "┡━━━━━━━━━━━━━━━╇━━━━━━━━━━╇━━━━━━━━╇━━━━━━━━╇━━━━━━━╇━━━━━━━━━━━━━━┩\n",
      "│ workspace     │ -        │ 0.1009 │ 2.3028 │ 0.001 │ 0.1          │\n",
      "│ main          │ 11:19 AM │      - │      - │ 0.001 │ 0            │\n",
      "│ │ ╓ exp-e08c4 │ 11:27 AM │  0.101 │  2.303 │ 0.1   │ 0.1          │\n",
      "│ ├─╨ 7251640   │ 11:26 AM │ 0.1135 │ 2.3026 │ 0.1   │ 0.1          │\n",
      "│ │ ╓ exp-15d4f │ 11:23 AM │ 0.2012 │  2.071 │ 0.01  │ 0.1          │\n",
      "│ ├─╨ 5fd4ddb   │ 11:22 AM │ 0.1914 │ 2.2331 │ 0.01  │ 0.1          │\n",
      "│ │ ╓ exp-98b33 │ 11:21 AM │ 0.1009 │ 2.3028 │ 0.001 │ 0.1          │\n",
      "│ │ ╟ 715fc6e   │ 11:21 AM │ 0.1009 │ 2.3028 │ 0.001 │ 0.1          │\n",
      "│ ├─╨ 2b34f9f   │ 11:21 AM │ 0.1009 │ 2.3034 │ 0.001 │ 0.1          │\n",
      "│ │ ╓ exp-ff372 │ 11:19 AM │ 0.1662 │ 2.2971 │ 0.001 │ 0            │\n",
      "│ │ ╟ 8d76dda   │ 11:19 AM │ 0.1662 │ 2.2971 │ 0.001 │ 0            │\n",
      "│ ├─╨ a9901cf   │ 11:19 AM │ 0.1118 │ 2.3028 │ 0.001 │ 0            │\n",
      "└───────────────┴──────────┴────────┴────────┴───────┴──────────────┘\n"
     ]
    }
   ],
   "source": [
    "%%bash\n",
    "dvc exp show"
   ]
  },
  {
   "cell_type": "markdown",
   "metadata": {},
   "source": [
    "### Iteratively train using checkpoints\n",
    "\n",
    "Use checkpoints to periodically save the model during training (as shown above), and to resume training from previously saved state. Resume training the experiment with the best accuracy."
   ]
  },
  {
   "cell_type": "code",
   "execution_count": 16,
   "metadata": {},
   "outputs": [
    {
     "name": "stdout",
     "output_type": "stream",
     "text": [
      "┏━━━━━━━━━━━━━━━┳━━━━━━━━━━┳━━━━━━━━┳━━━━━━━┳━━━━━━━━━━━━━━┓\n",
      "┃ Experiment    ┃ Created  ┃    acc ┃ lr    ┃ weight_decay ┃\n",
      "┡━━━━━━━━━━━━━━━╇━━━━━━━━━━╇━━━━━━━━╇━━━━━━━╇━━━━━━━━━━━━━━┩\n",
      "│ workspace     │ -        │ 0.1009 │ 0.001 │ 0.1          │\n",
      "│ main          │ 11:19 AM │      - │ 0.001 │ 0            │\n",
      "│ │ ╓ exp-98b33 │ 11:21 AM │ 0.1009 │ 0.001 │ 0.1          │\n",
      "│ │ ╟ 715fc6e   │ 11:21 AM │ 0.1009 │ 0.001 │ 0.1          │\n",
      "│ ├─╨ 2b34f9f   │ 11:21 AM │ 0.1009 │ 0.001 │ 0.1          │\n",
      "│ │ ╓ exp-e08c4 │ 11:27 AM │  0.101 │ 0.1   │ 0.1          │\n",
      "│ ├─╨ 7251640   │ 11:26 AM │ 0.1135 │ 0.1   │ 0.1          │\n",
      "│ │ ╓ exp-ff372 │ 11:19 AM │ 0.1662 │ 0.001 │ 0            │\n",
      "│ │ ╟ 8d76dda   │ 11:19 AM │ 0.1662 │ 0.001 │ 0            │\n",
      "│ ├─╨ a9901cf   │ 11:19 AM │ 0.1118 │ 0.001 │ 0            │\n",
      "│ │ ╓ exp-15d4f │ 11:23 AM │ 0.2012 │ 0.01  │ 0.1          │\n",
      "│ ├─╨ 5fd4ddb   │ 11:22 AM │ 0.1914 │ 0.01  │ 0.1          │\n",
      "└───────────────┴──────────┴────────┴───────┴──────────────┘\n"
     ]
    }
   ],
   "source": [
    "%%bash\n",
    "dvc exp show --sort-by acc --include-metrics acc"
   ]
  },
  {
   "cell_type": "markdown",
   "metadata": {},
   "source": [
    "Apply the top experiment."
   ]
  },
  {
   "cell_type": "code",
   "execution_count": 19,
   "metadata": {},
   "outputs": [
    {
     "name": "stderr",
     "output_type": "stream",
     "text": [
      "ERROR: 'exp-98b333' does not appear to be an experiment commit.: unknown Git revision 'exp-98b333'\n"
     ]
    },
    {
     "ename": "CalledProcessError",
     "evalue": "Command 'b'dvc exp apply exp-98b333\\n'' returned non-zero exit status 255.",
     "output_type": "error",
     "traceback": [
      "\u001b[0;31m---------------------------------------------------------------------------\u001b[0m",
      "\u001b[0;31mCalledProcessError\u001b[0m                        Traceback (most recent call last)",
      "\u001b[0;32m<ipython-input-19-d66f802adfed>\u001b[0m in \u001b[0;36m<module>\u001b[0;34m\u001b[0m\n\u001b[0;32m----> 1\u001b[0;31m \u001b[0mget_ipython\u001b[0m\u001b[0;34m(\u001b[0m\u001b[0;34m)\u001b[0m\u001b[0;34m.\u001b[0m\u001b[0mrun_cell_magic\u001b[0m\u001b[0;34m(\u001b[0m\u001b[0;34m'bash'\u001b[0m\u001b[0;34m,\u001b[0m \u001b[0;34m''\u001b[0m\u001b[0;34m,\u001b[0m \u001b[0;34m'dvc exp apply exp-98b333\\n'\u001b[0m\u001b[0;34m)\u001b[0m\u001b[0;34m\u001b[0m\u001b[0;34m\u001b[0m\u001b[0m\n\u001b[0m",
      "\u001b[0;32m~/anaconda3/envs/dvc-exp-mnist/lib/python3.8/site-packages/IPython/core/interactiveshell.py\u001b[0m in \u001b[0;36mrun_cell_magic\u001b[0;34m(self, magic_name, line, cell)\u001b[0m\n\u001b[1;32m   2380\u001b[0m             \u001b[0;32mwith\u001b[0m \u001b[0mself\u001b[0m\u001b[0;34m.\u001b[0m\u001b[0mbuiltin_trap\u001b[0m\u001b[0;34m:\u001b[0m\u001b[0;34m\u001b[0m\u001b[0;34m\u001b[0m\u001b[0m\n\u001b[1;32m   2381\u001b[0m                 \u001b[0margs\u001b[0m \u001b[0;34m=\u001b[0m \u001b[0;34m(\u001b[0m\u001b[0mmagic_arg_s\u001b[0m\u001b[0;34m,\u001b[0m \u001b[0mcell\u001b[0m\u001b[0;34m)\u001b[0m\u001b[0;34m\u001b[0m\u001b[0;34m\u001b[0m\u001b[0m\n\u001b[0;32m-> 2382\u001b[0;31m                 \u001b[0mresult\u001b[0m \u001b[0;34m=\u001b[0m \u001b[0mfn\u001b[0m\u001b[0;34m(\u001b[0m\u001b[0;34m*\u001b[0m\u001b[0margs\u001b[0m\u001b[0;34m,\u001b[0m \u001b[0;34m**\u001b[0m\u001b[0mkwargs\u001b[0m\u001b[0;34m)\u001b[0m\u001b[0;34m\u001b[0m\u001b[0;34m\u001b[0m\u001b[0m\n\u001b[0m\u001b[1;32m   2383\u001b[0m             \u001b[0;32mreturn\u001b[0m \u001b[0mresult\u001b[0m\u001b[0;34m\u001b[0m\u001b[0;34m\u001b[0m\u001b[0m\n\u001b[1;32m   2384\u001b[0m \u001b[0;34m\u001b[0m\u001b[0m\n",
      "\u001b[0;32m~/anaconda3/envs/dvc-exp-mnist/lib/python3.8/site-packages/IPython/core/magics/script.py\u001b[0m in \u001b[0;36mnamed_script_magic\u001b[0;34m(line, cell)\u001b[0m\n\u001b[1;32m    140\u001b[0m             \u001b[0;32melse\u001b[0m\u001b[0;34m:\u001b[0m\u001b[0;34m\u001b[0m\u001b[0;34m\u001b[0m\u001b[0m\n\u001b[1;32m    141\u001b[0m                 \u001b[0mline\u001b[0m \u001b[0;34m=\u001b[0m \u001b[0mscript\u001b[0m\u001b[0;34m\u001b[0m\u001b[0;34m\u001b[0m\u001b[0m\n\u001b[0;32m--> 142\u001b[0;31m             \u001b[0;32mreturn\u001b[0m \u001b[0mself\u001b[0m\u001b[0;34m.\u001b[0m\u001b[0mshebang\u001b[0m\u001b[0;34m(\u001b[0m\u001b[0mline\u001b[0m\u001b[0;34m,\u001b[0m \u001b[0mcell\u001b[0m\u001b[0;34m)\u001b[0m\u001b[0;34m\u001b[0m\u001b[0;34m\u001b[0m\u001b[0m\n\u001b[0m\u001b[1;32m    143\u001b[0m \u001b[0;34m\u001b[0m\u001b[0m\n\u001b[1;32m    144\u001b[0m         \u001b[0;31m# write a basic docstring:\u001b[0m\u001b[0;34m\u001b[0m\u001b[0;34m\u001b[0m\u001b[0;34m\u001b[0m\u001b[0m\n",
      "\u001b[0;32m<decorator-gen-103>\u001b[0m in \u001b[0;36mshebang\u001b[0;34m(self, line, cell)\u001b[0m\n",
      "\u001b[0;32m~/anaconda3/envs/dvc-exp-mnist/lib/python3.8/site-packages/IPython/core/magic.py\u001b[0m in \u001b[0;36m<lambda>\u001b[0;34m(f, *a, **k)\u001b[0m\n\u001b[1;32m    185\u001b[0m     \u001b[0;31m# but it's overkill for just that one bit of state.\u001b[0m\u001b[0;34m\u001b[0m\u001b[0;34m\u001b[0m\u001b[0;34m\u001b[0m\u001b[0m\n\u001b[1;32m    186\u001b[0m     \u001b[0;32mdef\u001b[0m \u001b[0mmagic_deco\u001b[0m\u001b[0;34m(\u001b[0m\u001b[0marg\u001b[0m\u001b[0;34m)\u001b[0m\u001b[0;34m:\u001b[0m\u001b[0;34m\u001b[0m\u001b[0;34m\u001b[0m\u001b[0m\n\u001b[0;32m--> 187\u001b[0;31m         \u001b[0mcall\u001b[0m \u001b[0;34m=\u001b[0m \u001b[0;32mlambda\u001b[0m \u001b[0mf\u001b[0m\u001b[0;34m,\u001b[0m \u001b[0;34m*\u001b[0m\u001b[0ma\u001b[0m\u001b[0;34m,\u001b[0m \u001b[0;34m**\u001b[0m\u001b[0mk\u001b[0m\u001b[0;34m:\u001b[0m \u001b[0mf\u001b[0m\u001b[0;34m(\u001b[0m\u001b[0;34m*\u001b[0m\u001b[0ma\u001b[0m\u001b[0;34m,\u001b[0m \u001b[0;34m**\u001b[0m\u001b[0mk\u001b[0m\u001b[0;34m)\u001b[0m\u001b[0;34m\u001b[0m\u001b[0;34m\u001b[0m\u001b[0m\n\u001b[0m\u001b[1;32m    188\u001b[0m \u001b[0;34m\u001b[0m\u001b[0m\n\u001b[1;32m    189\u001b[0m         \u001b[0;32mif\u001b[0m \u001b[0mcallable\u001b[0m\u001b[0;34m(\u001b[0m\u001b[0marg\u001b[0m\u001b[0;34m)\u001b[0m\u001b[0;34m:\u001b[0m\u001b[0;34m\u001b[0m\u001b[0;34m\u001b[0m\u001b[0m\n",
      "\u001b[0;32m~/anaconda3/envs/dvc-exp-mnist/lib/python3.8/site-packages/IPython/core/magics/script.py\u001b[0m in \u001b[0;36mshebang\u001b[0;34m(self, line, cell)\u001b[0m\n\u001b[1;32m    243\u001b[0m             \u001b[0msys\u001b[0m\u001b[0;34m.\u001b[0m\u001b[0mstderr\u001b[0m\u001b[0;34m.\u001b[0m\u001b[0mflush\u001b[0m\u001b[0;34m(\u001b[0m\u001b[0;34m)\u001b[0m\u001b[0;34m\u001b[0m\u001b[0;34m\u001b[0m\u001b[0m\n\u001b[1;32m    244\u001b[0m         \u001b[0;32mif\u001b[0m \u001b[0margs\u001b[0m\u001b[0;34m.\u001b[0m\u001b[0mraise_error\u001b[0m \u001b[0;32mand\u001b[0m \u001b[0mp\u001b[0m\u001b[0;34m.\u001b[0m\u001b[0mreturncode\u001b[0m\u001b[0;34m!=\u001b[0m\u001b[0;36m0\u001b[0m\u001b[0;34m:\u001b[0m\u001b[0;34m\u001b[0m\u001b[0;34m\u001b[0m\u001b[0m\n\u001b[0;32m--> 245\u001b[0;31m             \u001b[0;32mraise\u001b[0m \u001b[0mCalledProcessError\u001b[0m\u001b[0;34m(\u001b[0m\u001b[0mp\u001b[0m\u001b[0;34m.\u001b[0m\u001b[0mreturncode\u001b[0m\u001b[0;34m,\u001b[0m \u001b[0mcell\u001b[0m\u001b[0;34m,\u001b[0m \u001b[0moutput\u001b[0m\u001b[0;34m=\u001b[0m\u001b[0mout\u001b[0m\u001b[0;34m,\u001b[0m \u001b[0mstderr\u001b[0m\u001b[0;34m=\u001b[0m\u001b[0merr\u001b[0m\u001b[0;34m)\u001b[0m\u001b[0;34m\u001b[0m\u001b[0;34m\u001b[0m\u001b[0m\n\u001b[0m\u001b[1;32m    246\u001b[0m \u001b[0;34m\u001b[0m\u001b[0m\n\u001b[1;32m    247\u001b[0m     \u001b[0;32mdef\u001b[0m \u001b[0m_run_script\u001b[0m\u001b[0;34m(\u001b[0m\u001b[0mself\u001b[0m\u001b[0;34m,\u001b[0m \u001b[0mp\u001b[0m\u001b[0;34m,\u001b[0m \u001b[0mcell\u001b[0m\u001b[0;34m,\u001b[0m \u001b[0mto_close\u001b[0m\u001b[0;34m)\u001b[0m\u001b[0;34m:\u001b[0m\u001b[0;34m\u001b[0m\u001b[0;34m\u001b[0m\u001b[0m\n",
      "\u001b[0;31mCalledProcessError\u001b[0m: Command 'b'dvc exp apply exp-98b333\\n'' returned non-zero exit status 255."
     ]
    }
   ],
   "source": [
    "%%bash\n",
    "dvc exp apply exp-98b333"
   ]
  },
  {
   "cell_type": "markdown",
   "metadata": {},
   "source": [
    "**FIXME**: That didn't work. What are the lines with `exp-` at the start? They seem to group experiment runs under the same set of parameters, but it's unclear how a user should interpret these lines.\n",
    "\n",
    "Let's try the last revision under those same parameters."
   ]
  },
  {
   "cell_type": "code",
   "execution_count": 23,
   "metadata": {},
   "outputs": [
    {
     "name": "stdout",
     "output_type": "stream",
     "text": [
      "Changes for experiment '715fc6e' have been applied to your current workspace.\n"
     ]
    }
   ],
   "source": [
    "%%bash\n",
    "dvc exp apply 715fc6e"
   ]
  },
  {
   "cell_type": "markdown",
   "metadata": {},
   "source": [
    "Next, resume iterations from this experiment."
   ]
  },
  {
   "cell_type": "code",
   "execution_count": 24,
   "metadata": {},
   "outputs": [
    {
     "name": "stdout",
     "output_type": "stream",
     "text": [
      "Stage 'download' didn't change, skipping\n",
      "Running stage 'train':\n",
      "> python train.py\n",
      "Updating lock file 'dvc.lock'\n"
     ]
    },
    {
     "name": "stderr",
     "output_type": "stream",
     "text": [
      "ERROR: Error generating checkpoint, stage: 'train' will be aborted - Failed to set 'refs/exps/b9/f7373bf810065c85ac12f4af1f04a7dbae0b79/exp-98b33'\n"
     ]
    }
   ],
   "source": [
    "%%bash\n",
    "dvc exp res -r 715fc6e"
   ]
  },
  {
   "cell_type": "markdown",
   "metadata": {},
   "source": [
    "**FIXME**: Resuming experiment failed."
   ]
  },
  {
   "cell_type": "code",
   "execution_count": 25,
   "metadata": {},
   "outputs": [
    {
     "name": "stdout",
     "output_type": "stream",
     "text": [
      "┏━━━━━━━━━━━━━━━┳━━━━━━━━━━┳━━━━━━━━┳━━━━━━━━┳━━━━━━━┳━━━━━━━━━━━━━━┓\n",
      "┃ Experiment    ┃ Created  ┃    acc ┃   loss ┃ lr    ┃ weight_decay ┃\n",
      "┡━━━━━━━━━━━━━━━╇━━━━━━━━━━╇━━━━━━━━╇━━━━━━━━╇━━━━━━━╇━━━━━━━━━━━━━━┩\n",
      "│ workspace     │ -        │ 0.1043 │ 2.3024 │ 0.001 │ 0.1          │\n",
      "│ main          │ 11:19 AM │      - │      - │ 0.001 │ 0            │\n",
      "│ │ ╓ exp-e08c4 │ 11:27 AM │  0.101 │  2.303 │ 0.1   │ 0.1          │\n",
      "│ ├─╨ 7251640   │ 11:26 AM │ 0.1135 │ 2.3026 │ 0.1   │ 0.1          │\n",
      "│ │ ╓ exp-15d4f │ 11:23 AM │ 0.2012 │  2.071 │ 0.01  │ 0.1          │\n",
      "│ ├─╨ 5fd4ddb   │ 11:22 AM │ 0.1914 │ 2.2331 │ 0.01  │ 0.1          │\n",
      "│ │ ╓ exp-98b33 │ 11:21 AM │ 0.1009 │ 2.3028 │ 0.001 │ 0.1          │\n",
      "│ │ ╟ 715fc6e   │ 11:21 AM │ 0.1009 │ 2.3028 │ 0.001 │ 0.1          │\n",
      "│ ├─╨ 2b34f9f   │ 11:21 AM │ 0.1009 │ 2.3034 │ 0.001 │ 0.1          │\n",
      "│ │ ╓ exp-ff372 │ 11:19 AM │ 0.1662 │ 2.2971 │ 0.001 │ 0            │\n",
      "│ │ ╟ 8d76dda   │ 11:19 AM │ 0.1662 │ 2.2971 │ 0.001 │ 0            │\n",
      "│ ├─╨ a9901cf   │ 11:19 AM │ 0.1118 │ 2.3028 │ 0.001 │ 0            │\n",
      "└───────────────┴──────────┴────────┴────────┴───────┴──────────────┘\n"
     ]
    }
   ],
   "source": [
    "%%bash\n",
    "dvc exp show"
   ]
  },
  {
   "cell_type": "code",
   "execution_count": 26,
   "metadata": {},
   "outputs": [
    {
     "name": "stdout",
     "output_type": "stream",
     "text": [
      "lr: 0.001\n",
      "weight_decay: 0.1\n"
     ]
    }
   ],
   "source": [
    "%%bash\n",
    "cat params.yaml"
   ]
  },
  {
   "cell_type": "markdown",
   "metadata": {},
   "source": [
    "The parameters from `dvc exp apply 31e8e72` were checked out into the workspace.\n",
    "\n",
    "Compare this experiment to the initial one run with the default parameters:"
   ]
  },
  {
   "cell_type": "code",
   "execution_count": 29,
   "metadata": {},
   "outputs": [
    {
     "name": "stdout",
     "output_type": "stream",
     "text": [
      "Path          Metric    Value    Change\n",
      "metrics.yaml  acc       0.1118   0.0109\n",
      "metrics.yaml  loss      2.3028   -8.8215e-06\n",
      "\n",
      "Path         Param         Value    Change\n",
      "params.yaml  weight_decay  0        -0.1\n",
      "\n"
     ]
    }
   ],
   "source": [
    "%%bash\n",
    "dvc exp diff 715fc6e a9901cf"
   ]
  },
  {
   "cell_type": "markdown",
   "metadata": {},
   "source": [
    "### Persist models\n",
    "\n",
    "Additonal epochs didn't improve accuracy, so commit the model iteration with peak accuracy. Checkout the experiment rev in dvc and then commit to git."
   ]
  },
  {
   "cell_type": "code",
   "execution_count": 30,
   "metadata": {},
   "outputs": [
    {
     "name": "stdout",
     "output_type": "stream",
     "text": [
      "Git branch '2.0' has been created from experiment 'exp-98b33'.\n",
      "To switch to the new branch run:\n",
      "\n",
      "\tgit checkout 2.0\n"
     ]
    }
   ],
   "source": [
    "%%bash\n",
    "dvc exp branch 715fc6e 2.0"
   ]
  },
  {
   "cell_type": "code",
   "execution_count": 31,
   "metadata": {},
   "outputs": [
    {
     "name": "stdout",
     "output_type": "stream",
     "text": [
      "┏━━━━━━━━━━━━━━━┳━━━━━━━━━━┳━━━━━━━━┳━━━━━━━━┳━━━━━━━┳━━━━━━━━━━━━━━┓\n",
      "┃ Experiment    ┃ Created  ┃    acc ┃   loss ┃ lr    ┃ weight_decay ┃\n",
      "┡━━━━━━━━━━━━━━━╇━━━━━━━━━━╇━━━━━━━━╇━━━━━━━━╇━━━━━━━╇━━━━━━━━━━━━━━┩\n",
      "│ workspace     │ -        │ 0.1043 │ 2.3024 │ 0.001 │ 0.1          │\n",
      "│ main          │ 11:19 AM │      - │      - │ 0.001 │ 0            │\n",
      "│ │ ╓ exp-e08c4 │ 11:27 AM │  0.101 │  2.303 │ 0.1   │ 0.1          │\n",
      "│ ├─╨ 7251640   │ 11:26 AM │ 0.1135 │ 2.3026 │ 0.1   │ 0.1          │\n",
      "│ │ ╓ exp-15d4f │ 11:23 AM │ 0.2012 │  2.071 │ 0.01  │ 0.1          │\n",
      "│ ├─╨ 5fd4ddb   │ 11:22 AM │ 0.1914 │ 2.2331 │ 0.01  │ 0.1          │\n",
      "│ │ ╓ 2.0       │ 11:21 AM │ 0.1009 │ 2.3028 │ 0.001 │ 0.1          │\n",
      "│ │ ╟ 715fc6e   │ 11:21 AM │ 0.1009 │ 2.3028 │ 0.001 │ 0.1          │\n",
      "│ ├─╨ 2b34f9f   │ 11:21 AM │ 0.1009 │ 2.3034 │ 0.001 │ 0.1          │\n",
      "│ │ ╓ exp-ff372 │ 11:19 AM │ 0.1662 │ 2.2971 │ 0.001 │ 0            │\n",
      "│ │ ╟ 8d76dda   │ 11:19 AM │ 0.1662 │ 2.2971 │ 0.001 │ 0            │\n",
      "│ ├─╨ a9901cf   │ 11:19 AM │ 0.1118 │ 2.3028 │ 0.001 │ 0            │\n",
      "└───────────────┴──────────┴────────┴────────┴───────┴──────────────┘\n"
     ]
    }
   ],
   "source": [
    "%%bash\n",
    "dvc exp show"
   ]
  },
  {
   "cell_type": "markdown",
   "metadata": {},
   "source": [
    "### Clean up experiments"
   ]
  },
  {
   "cell_type": "code",
   "execution_count": 32,
   "metadata": {},
   "outputs": [
    {
     "name": "stderr",
     "output_type": "stream",
     "text": [
      "WARNING: This will remove all experiments except those derived from the workspace of the current repo.\n"
     ]
    },
    {
     "ename": "CalledProcessError",
     "evalue": "Command 'b'dvc exp gc --workspace\\n'' returned non-zero exit status 1.",
     "output_type": "error",
     "traceback": [
      "\u001b[0;31m---------------------------------------------------------------------------\u001b[0m",
      "\u001b[0;31mCalledProcessError\u001b[0m                        Traceback (most recent call last)",
      "\u001b[0;32m<ipython-input-32-e2e9362fa44e>\u001b[0m in \u001b[0;36m<module>\u001b[0;34m\u001b[0m\n\u001b[0;32m----> 1\u001b[0;31m \u001b[0mget_ipython\u001b[0m\u001b[0;34m(\u001b[0m\u001b[0;34m)\u001b[0m\u001b[0;34m.\u001b[0m\u001b[0mrun_cell_magic\u001b[0m\u001b[0;34m(\u001b[0m\u001b[0;34m'bash'\u001b[0m\u001b[0;34m,\u001b[0m \u001b[0;34m''\u001b[0m\u001b[0;34m,\u001b[0m \u001b[0;34m'dvc exp gc --workspace\\n'\u001b[0m\u001b[0;34m)\u001b[0m\u001b[0;34m\u001b[0m\u001b[0;34m\u001b[0m\u001b[0m\n\u001b[0m",
      "\u001b[0;32m~/anaconda3/envs/dvc-exp-mnist/lib/python3.8/site-packages/IPython/core/interactiveshell.py\u001b[0m in \u001b[0;36mrun_cell_magic\u001b[0;34m(self, magic_name, line, cell)\u001b[0m\n\u001b[1;32m   2380\u001b[0m             \u001b[0;32mwith\u001b[0m \u001b[0mself\u001b[0m\u001b[0;34m.\u001b[0m\u001b[0mbuiltin_trap\u001b[0m\u001b[0;34m:\u001b[0m\u001b[0;34m\u001b[0m\u001b[0;34m\u001b[0m\u001b[0m\n\u001b[1;32m   2381\u001b[0m                 \u001b[0margs\u001b[0m \u001b[0;34m=\u001b[0m \u001b[0;34m(\u001b[0m\u001b[0mmagic_arg_s\u001b[0m\u001b[0;34m,\u001b[0m \u001b[0mcell\u001b[0m\u001b[0;34m)\u001b[0m\u001b[0;34m\u001b[0m\u001b[0;34m\u001b[0m\u001b[0m\n\u001b[0;32m-> 2382\u001b[0;31m                 \u001b[0mresult\u001b[0m \u001b[0;34m=\u001b[0m \u001b[0mfn\u001b[0m\u001b[0;34m(\u001b[0m\u001b[0;34m*\u001b[0m\u001b[0margs\u001b[0m\u001b[0;34m,\u001b[0m \u001b[0;34m**\u001b[0m\u001b[0mkwargs\u001b[0m\u001b[0;34m)\u001b[0m\u001b[0;34m\u001b[0m\u001b[0;34m\u001b[0m\u001b[0m\n\u001b[0m\u001b[1;32m   2383\u001b[0m             \u001b[0;32mreturn\u001b[0m \u001b[0mresult\u001b[0m\u001b[0;34m\u001b[0m\u001b[0;34m\u001b[0m\u001b[0m\n\u001b[1;32m   2384\u001b[0m \u001b[0;34m\u001b[0m\u001b[0m\n",
      "\u001b[0;32m~/anaconda3/envs/dvc-exp-mnist/lib/python3.8/site-packages/IPython/core/magics/script.py\u001b[0m in \u001b[0;36mnamed_script_magic\u001b[0;34m(line, cell)\u001b[0m\n\u001b[1;32m    140\u001b[0m             \u001b[0;32melse\u001b[0m\u001b[0;34m:\u001b[0m\u001b[0;34m\u001b[0m\u001b[0;34m\u001b[0m\u001b[0m\n\u001b[1;32m    141\u001b[0m                 \u001b[0mline\u001b[0m \u001b[0;34m=\u001b[0m \u001b[0mscript\u001b[0m\u001b[0;34m\u001b[0m\u001b[0;34m\u001b[0m\u001b[0m\n\u001b[0;32m--> 142\u001b[0;31m             \u001b[0;32mreturn\u001b[0m \u001b[0mself\u001b[0m\u001b[0;34m.\u001b[0m\u001b[0mshebang\u001b[0m\u001b[0;34m(\u001b[0m\u001b[0mline\u001b[0m\u001b[0;34m,\u001b[0m \u001b[0mcell\u001b[0m\u001b[0;34m)\u001b[0m\u001b[0;34m\u001b[0m\u001b[0;34m\u001b[0m\u001b[0m\n\u001b[0m\u001b[1;32m    143\u001b[0m \u001b[0;34m\u001b[0m\u001b[0m\n\u001b[1;32m    144\u001b[0m         \u001b[0;31m# write a basic docstring:\u001b[0m\u001b[0;34m\u001b[0m\u001b[0;34m\u001b[0m\u001b[0;34m\u001b[0m\u001b[0m\n",
      "\u001b[0;32m<decorator-gen-103>\u001b[0m in \u001b[0;36mshebang\u001b[0;34m(self, line, cell)\u001b[0m\n",
      "\u001b[0;32m~/anaconda3/envs/dvc-exp-mnist/lib/python3.8/site-packages/IPython/core/magic.py\u001b[0m in \u001b[0;36m<lambda>\u001b[0;34m(f, *a, **k)\u001b[0m\n\u001b[1;32m    185\u001b[0m     \u001b[0;31m# but it's overkill for just that one bit of state.\u001b[0m\u001b[0;34m\u001b[0m\u001b[0;34m\u001b[0m\u001b[0;34m\u001b[0m\u001b[0m\n\u001b[1;32m    186\u001b[0m     \u001b[0;32mdef\u001b[0m \u001b[0mmagic_deco\u001b[0m\u001b[0;34m(\u001b[0m\u001b[0marg\u001b[0m\u001b[0;34m)\u001b[0m\u001b[0;34m:\u001b[0m\u001b[0;34m\u001b[0m\u001b[0;34m\u001b[0m\u001b[0m\n\u001b[0;32m--> 187\u001b[0;31m         \u001b[0mcall\u001b[0m \u001b[0;34m=\u001b[0m \u001b[0;32mlambda\u001b[0m \u001b[0mf\u001b[0m\u001b[0;34m,\u001b[0m \u001b[0;34m*\u001b[0m\u001b[0ma\u001b[0m\u001b[0;34m,\u001b[0m \u001b[0;34m**\u001b[0m\u001b[0mk\u001b[0m\u001b[0;34m:\u001b[0m \u001b[0mf\u001b[0m\u001b[0;34m(\u001b[0m\u001b[0;34m*\u001b[0m\u001b[0ma\u001b[0m\u001b[0;34m,\u001b[0m \u001b[0;34m**\u001b[0m\u001b[0mk\u001b[0m\u001b[0;34m)\u001b[0m\u001b[0;34m\u001b[0m\u001b[0;34m\u001b[0m\u001b[0m\n\u001b[0m\u001b[1;32m    188\u001b[0m \u001b[0;34m\u001b[0m\u001b[0m\n\u001b[1;32m    189\u001b[0m         \u001b[0;32mif\u001b[0m \u001b[0mcallable\u001b[0m\u001b[0;34m(\u001b[0m\u001b[0marg\u001b[0m\u001b[0;34m)\u001b[0m\u001b[0;34m:\u001b[0m\u001b[0;34m\u001b[0m\u001b[0;34m\u001b[0m\u001b[0m\n",
      "\u001b[0;32m~/anaconda3/envs/dvc-exp-mnist/lib/python3.8/site-packages/IPython/core/magics/script.py\u001b[0m in \u001b[0;36mshebang\u001b[0;34m(self, line, cell)\u001b[0m\n\u001b[1;32m    243\u001b[0m             \u001b[0msys\u001b[0m\u001b[0;34m.\u001b[0m\u001b[0mstderr\u001b[0m\u001b[0;34m.\u001b[0m\u001b[0mflush\u001b[0m\u001b[0;34m(\u001b[0m\u001b[0;34m)\u001b[0m\u001b[0;34m\u001b[0m\u001b[0;34m\u001b[0m\u001b[0m\n\u001b[1;32m    244\u001b[0m         \u001b[0;32mif\u001b[0m \u001b[0margs\u001b[0m\u001b[0;34m.\u001b[0m\u001b[0mraise_error\u001b[0m \u001b[0;32mand\u001b[0m \u001b[0mp\u001b[0m\u001b[0;34m.\u001b[0m\u001b[0mreturncode\u001b[0m\u001b[0;34m!=\u001b[0m\u001b[0;36m0\u001b[0m\u001b[0;34m:\u001b[0m\u001b[0;34m\u001b[0m\u001b[0;34m\u001b[0m\u001b[0m\n\u001b[0;32m--> 245\u001b[0;31m             \u001b[0;32mraise\u001b[0m \u001b[0mCalledProcessError\u001b[0m\u001b[0;34m(\u001b[0m\u001b[0mp\u001b[0m\u001b[0;34m.\u001b[0m\u001b[0mreturncode\u001b[0m\u001b[0;34m,\u001b[0m \u001b[0mcell\u001b[0m\u001b[0;34m,\u001b[0m \u001b[0moutput\u001b[0m\u001b[0;34m=\u001b[0m\u001b[0mout\u001b[0m\u001b[0;34m,\u001b[0m \u001b[0mstderr\u001b[0m\u001b[0;34m=\u001b[0m\u001b[0merr\u001b[0m\u001b[0;34m)\u001b[0m\u001b[0;34m\u001b[0m\u001b[0;34m\u001b[0m\u001b[0m\n\u001b[0m\u001b[1;32m    246\u001b[0m \u001b[0;34m\u001b[0m\u001b[0m\n\u001b[1;32m    247\u001b[0m     \u001b[0;32mdef\u001b[0m \u001b[0m_run_script\u001b[0m\u001b[0;34m(\u001b[0m\u001b[0mself\u001b[0m\u001b[0;34m,\u001b[0m \u001b[0mp\u001b[0m\u001b[0;34m,\u001b[0m \u001b[0mcell\u001b[0m\u001b[0;34m,\u001b[0m \u001b[0mto_close\u001b[0m\u001b[0;34m)\u001b[0m\u001b[0;34m:\u001b[0m\u001b[0;34m\u001b[0m\u001b[0;34m\u001b[0m\u001b[0m\n",
      "\u001b[0;31mCalledProcessError\u001b[0m: Command 'b'dvc exp gc --workspace\\n'' returned non-zero exit status 1."
     ]
    }
   ],
   "source": [
    "%%bash\n",
    "dvc exp gc --workspace"
   ]
  },
  {
   "cell_type": "markdown",
   "metadata": {},
   "source": [
    "**FIXME**: `dvc exp gc --workspace` did not work."
   ]
  },
  {
   "cell_type": "code",
   "execution_count": 33,
   "metadata": {},
   "outputs": [
    {
     "name": "stdout",
     "output_type": "stream",
     "text": [
      "┏━━━━━━━━━━━━━━━┳━━━━━━━━━━┳━━━━━━━━┳━━━━━━━━┳━━━━━━━┳━━━━━━━━━━━━━━┓\n",
      "┃ Experiment    ┃ Created  ┃    acc ┃   loss ┃ lr    ┃ weight_decay ┃\n",
      "┡━━━━━━━━━━━━━━━╇━━━━━━━━━━╇━━━━━━━━╇━━━━━━━━╇━━━━━━━╇━━━━━━━━━━━━━━┩\n",
      "│ workspace     │ -        │ 0.1043 │ 2.3024 │ 0.001 │ 0.1          │\n",
      "│ main          │ 11:19 AM │      - │      - │ 0.001 │ 0            │\n",
      "│ │ ╓ exp-e08c4 │ 11:27 AM │  0.101 │  2.303 │ 0.1   │ 0.1          │\n",
      "│ ├─╨ 7251640   │ 11:26 AM │ 0.1135 │ 2.3026 │ 0.1   │ 0.1          │\n",
      "│ │ ╓ exp-15d4f │ 11:23 AM │ 0.2012 │  2.071 │ 0.01  │ 0.1          │\n",
      "│ ├─╨ 5fd4ddb   │ 11:22 AM │ 0.1914 │ 2.2331 │ 0.01  │ 0.1          │\n",
      "│ │ ╓ 2.0       │ 11:21 AM │ 0.1009 │ 2.3028 │ 0.001 │ 0.1          │\n",
      "│ │ ╟ 715fc6e   │ 11:21 AM │ 0.1009 │ 2.3028 │ 0.001 │ 0.1          │\n",
      "│ ├─╨ 2b34f9f   │ 11:21 AM │ 0.1009 │ 2.3034 │ 0.001 │ 0.1          │\n",
      "│ │ ╓ exp-ff372 │ 11:19 AM │ 0.1662 │ 2.2971 │ 0.001 │ 0            │\n",
      "│ │ ╟ 8d76dda   │ 11:19 AM │ 0.1662 │ 2.2971 │ 0.001 │ 0            │\n",
      "│ ├─╨ a9901cf   │ 11:19 AM │ 0.1118 │ 2.3028 │ 0.001 │ 0            │\n",
      "└───────────────┴──────────┴────────┴────────┴───────┴──────────────┘\n"
     ]
    }
   ],
   "source": [
    "%%bash\n",
    "dvc exp show"
   ]
  },
  {
   "cell_type": "code",
   "execution_count": null,
   "metadata": {},
   "outputs": [],
   "source": []
  }
 ],
 "metadata": {
  "kernelspec": {
   "display_name": "Python 3",
   "language": "python",
   "name": "python3"
  },
  "language_info": {
   "codemirror_mode": {
    "name": "ipython",
    "version": 3
   },
   "file_extension": ".py",
   "mimetype": "text/x-python",
   "name": "python",
   "nbconvert_exporter": "python",
   "pygments_lexer": "ipython3",
   "version": "3.8.5"
  }
 },
 "nbformat": 4,
 "nbformat_minor": 4
}
