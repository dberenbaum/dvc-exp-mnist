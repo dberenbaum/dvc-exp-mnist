{
 "cells": [
  {
   "cell_type": "markdown",
   "metadata": {},
   "source": [
    "This notebook shows how to use [dvc](https://dvc.org/) [experiments](https://github.com/iterative/dvc/wiki/Experiments) in model development. This example uses the [MNIST](http://yann.lecun.com/exdb/mnist/) data of handwritten digits and builds a classification model to predict the digit (0-9) in each image. The model is built in [pytorch](https://pytorch.org/) as convolutional neural network with a simplified architecture, which should be able to quickly run on most computers."
   ]
  },
  {
   "cell_type": "markdown",
   "metadata": {},
   "source": [
    "### Getting started\n",
    "\n",
    "To get started, clone this repository and navigate to it.\n",
    "\n",
    "The only other prerequisite is [conda](https://docs.conda.io/projects/conda/en/latest/user-guide/install/). Once conda is installed, create a virtual environment from the existing `environment.yaml` file and activate it:\n",
    "\n",
    "```bash\n",
    "conda env create -f environment.yml\n",
    "conda activate dvc\n",
    "```\n",
    "\n",
    "If you want to run this notebook directly, do so after activating the conda environment."
   ]
  },
  {
   "cell_type": "markdown",
   "metadata": {},
   "source": [
    "### Establishing the pipeline DAG\n",
    "\n",
    "Before experimenting, a dvc pipeline must be established (see the docs if you are new to dvc). Review the contents of `dvc.yaml` below to see the pipeline."
   ]
  },
  {
   "cell_type": "code",
   "execution_count": 1,
   "metadata": {},
   "outputs": [
    {
     "name": "stdout",
     "output_type": "stream",
     "text": [
      "stages:\n",
      "  download:\n",
      "    cmd: python download.py\n",
      "    deps:\n",
      "    - download.py\n",
      "    outs:\n",
      "    - data/MNIST\n",
      "  train:\n",
      "    cmd: python train.py --model_path=model.pt --metrics_path=metrics.yaml\n",
      "    deps:\n",
      "    - data/MNIST\n",
      "    - train.py\n",
      "    params:\n",
      "    - lr\n",
      "    - weight_decay\n",
      "    outs:\n",
      "    - model.pt\n",
      "    metrics:\n",
      "    - metrics.yaml\n",
      "  train_checkpoint:\n",
      "    cmd: python train.py --model_path=model_checkpoint.pt --metrics_path=metrics_checkpoint.yaml --checkpoint=5\n",
      "    deps:\n",
      "    - data/MNIST\n",
      "    - train.py\n",
      "    params:\n",
      "    - lr\n",
      "    - weight_decay\n",
      "    outs:\n",
      "    - model_checkpoint.pt:\n",
      "        checkpoint: true\n",
      "    metrics:\n",
      "    - metrics_checkpoint.yaml\n"
     ]
    }
   ],
   "source": [
    "%%bash\n",
    "cat dvc.yaml"
   ]
  },
  {
   "cell_type": "markdown",
   "metadata": {},
   "source": [
    "The download stage gets the data using the `download.py` script. The train stage performs model training and evaluation on the downloaded data using the `train.py` script. The train stage uses the lr and weight_decay metrics defined in `params.yaml`. The model output is saved to `model.pt`, and the metrics are saved to `metrics.yaml`. The train_checkpoint stage is similar but saves output periodically.\n",
    "\n",
    "Execute the pipeline to reproduce the train stage:"
   ]
  },
  {
   "cell_type": "code",
   "execution_count": 2,
   "metadata": {},
   "outputs": [
    {
     "name": "stdout",
     "output_type": "stream",
     "text": [
      "Running stage 'download' with command:\n",
      "\tpython download.py\n",
      "Downloading http://yann.lecun.com/exdb/mnist/train-images-idx3-ubyte.gz to data/MNIST/raw/train-images-idx3-ubyte.gz\n",
      "Extracting data/MNIST/raw/train-images-idx3-ubyte.gz to data/MNIST/raw\n",
      "Downloading http://yann.lecun.com/exdb/mnist/train-labels-idx1-ubyte.gz to data/MNIST/raw/train-labels-idx1-ubyte.gz\n",
      "Extracting data/MNIST/raw/train-labels-idx1-ubyte.gz to data/MNIST/raw\n",
      "Downloading http://yann.lecun.com/exdb/mnist/t10k-images-idx3-ubyte.gz to data/MNIST/raw/t10k-images-idx3-ubyte.gz\n",
      "Extracting data/MNIST/raw/t10k-images-idx3-ubyte.gz to data/MNIST/raw\n",
      "Downloading http://yann.lecun.com/exdb/mnist/t10k-labels-idx1-ubyte.gz to data/MNIST/raw/t10k-labels-idx1-ubyte.gz\n",
      "Extracting data/MNIST/raw/t10k-labels-idx1-ubyte.gz to data/MNIST/raw\n",
      "Processing...\n",
      "Done!\n",
      "Generating lock file 'dvc.lock'\n",
      "Updating lock file 'dvc.lock'\n",
      "\n",
      "Running stage 'train' with command:\n",
      "\tpython train.py --model_path=model.pt --metrics_path=metrics.yaml\n",
      "Updating lock file 'dvc.lock'\n",
      "\n",
      "To track the changes with git, run:\n",
      "\n",
      "\tgit add data/.gitignore dvc.lock\n",
      "Use `dvc push` to send your updates to remote storage.\n"
     ]
    },
    {
     "name": "stderr",
     "output_type": "stream",
     "text": [
      "\r",
      "0it [00:00, ?it/s]\r",
      "  0%|          | 0/9912422 [00:00<?, ?it/s]\r",
      "  2%|▏         | 204800/9912422 [00:00<00:04, 2032096.15it/s]\r",
      "  8%|▊         | 753664/9912422 [00:00<00:03, 2501974.76it/s]\r",
      " 12%|█▏        | 1236992/9912422 [00:00<00:02, 2909853.30it/s]\r",
      " 15%|█▌        | 1523712/9912422 [00:00<00:03, 2786750.83it/s]\r",
      " 21%|██        | 2080768/9912422 [00:00<00:02, 3275699.46it/s]\r",
      " 27%|██▋       | 2654208/9912422 [00:00<00:01, 3756365.15it/s]\r",
      " 32%|███▏      | 3211264/9912422 [00:00<00:01, 4161862.85it/s]\r",
      " 37%|███▋      | 3694592/9912422 [00:00<00:01, 4321440.40it/s]\r",
      " 42%|████▏     | 4161536/9912422 [00:01<00:01, 3971699.81it/s]\r",
      " 47%|████▋     | 4636672/9912422 [00:01<00:01, 4165433.46it/s]\r",
      " 51%|█████▏    | 5095424/9912422 [00:01<00:01, 3684572.46it/s]\r",
      " 57%|█████▋    | 5611520/9912422 [00:01<00:01, 4020826.19it/s]\r",
      " 62%|██████▏   | 6127616/9912422 [00:01<00:00, 4289559.33it/s]\r",
      " 66%|██████▋   | 6586368/9912422 [00:01<00:00, 4249978.57it/s]\r",
      " 72%|███████▏  | 7118848/9912422 [00:01<00:00, 4458765.44it/s]\r",
      " 77%|███████▋  | 7659520/9912422 [00:01<00:00, 4702971.47it/s]\r",
      " 82%|████████▏ | 8151040/9912422 [00:01<00:00, 4683441.49it/s]\r",
      " 88%|████████▊ | 8691712/9912422 [00:02<00:00, 4877054.42it/s]\r",
      " 93%|█████████▎| 9265152/9912422 [00:02<00:00, 5078706.57it/s]\r",
      " 99%|█████████▉| 9789440/9912422 [00:02<00:00, 4846334.52it/s]\r",
      "9920512it [00:02, 3784886.97it/s]                             \n",
      "\r",
      "0it [00:00, ?it/s]\r",
      "  0%|          | 0/28881 [00:00<?, ?it/s]\n",
      "\r",
      "0it [00:00, ?it/s]\u001b[A\n",
      "\r",
      "  0%|          | 0/1648877 [00:00<?, ?it/s]\u001b[A\n",
      "\r",
      "  7%|▋         | 122880/1648877 [00:00<00:01, 1219220.19it/s]\u001b[A\n",
      "\r",
      " 36%|███▌      | 589824/1648877 [00:00<00:00, 1556197.45it/s]\u001b[A\n",
      "\r",
      " 68%|██████▊   | 1114112/1648877 [00:00<00:00, 1964354.94it/s]\u001b[A\n",
      "\r",
      " 98%|█████████▊| 1613824/1648877 [00:00<00:00, 2400675.96it/s]\u001b[A\n",
      "\n",
      "\r",
      "0it [00:00, ?it/s]\u001b[A\u001b[A\n",
      "\n",
      "\r",
      "  0%|          | 0/4542 [00:00<?, ?it/s]\u001b[A\u001b[A/home/dave/.conda/envs/dvc/lib/python3.8/site-packages/torchvision/datasets/mnist.py:480: UserWarning: The given NumPy array is not writeable, and PyTorch does not support non-writeable tensors. This means you can write to the underlying (supposedly non-writeable) NumPy array using the tensor. You may want to copy the array to protect its data or make it writeable before converting it to a tensor. This type of warning will be suppressed for the rest of this program. (Triggered internally at  /opt/conda/conda-bld/pytorch_1603729002806/work/torch/csrc/utils/tensor_numpy.cpp:141.)\n",
      "  return torch.from_numpy(parsed.astype(m[2], copy=False)).view(*s)\n",
      "\r",
      "1654784it [00:00, 1984505.52it/s]                             \n",
      "\r",
      "8192it [00:00, 33181.62it/s]            \n",
      "\r",
      "32768it [00:01, 20839.21it/s]            "
     ]
    }
   ],
   "source": [
    "%%bash\n",
    "dvc repro train"
   ]
  },
  {
   "cell_type": "markdown",
   "metadata": {},
   "source": [
    "**IMPORTANT:** Be sure to run the `git add` command above and also `git commit` before running experiments. Anytime you modify the pipeline, be sure to `dvc repro` and track changes with git before running experiments."
   ]
  },
  {
   "cell_type": "code",
   "execution_count": 3,
   "metadata": {},
   "outputs": [
    {
     "name": "stdout",
     "output_type": "stream",
     "text": [
      "[checkpoint 33caf3c] download data\n",
      " 2 files changed, 33 insertions(+)\n",
      " create mode 100644 data/.gitignore\n",
      " create mode 100644 dvc.lock\n"
     ]
    }
   ],
   "source": [
    "%%bash\n",
    "git add data/.gitignore dvc.lock\n",
    "git commit -m \"download data\""
   ]
  },
  {
   "cell_type": "markdown",
   "metadata": {},
   "source": [
    "### Run an experiment\n",
    "\n",
    "Run an experiment with the default parameters defined in `params.yaml`."
   ]
  },
  {
   "cell_type": "code",
   "execution_count": 4,
   "metadata": {},
   "outputs": [
    {
     "name": "stdout",
     "output_type": "stream",
     "text": [
      "Stage 'download' didn't change, skipping\n",
      "Stage 'train' didn't change, skipping\n",
      "Reproduced experiment '33caf3c'.\n"
     ]
    }
   ],
   "source": [
    "%%bash\n",
    "dvc exp run train"
   ]
  },
  {
   "cell_type": "markdown",
   "metadata": {},
   "source": [
    "Review the output of the run, including identifying hashes, metrics, and parameters:"
   ]
  },
  {
   "cell_type": "code",
   "execution_count": 5,
   "metadata": {},
   "outputs": [
    {
     "name": "stdout",
     "output_type": "stream",
     "text": [
      "┏━━━━━━━━━━━━┳━━━━━━━━━━┳━━━━━━━━┳━━━━━━━━┳━━━━━━━┳━━━━━━━━━━━━━━┓\n",
      "┃ Experiment ┃ Created  ┃    acc ┃   loss ┃ lr    ┃ weight_decay ┃\n",
      "┡━━━━━━━━━━━━╇━━━━━━━━━━╇━━━━━━━━╇━━━━━━━━╇━━━━━━━╇━━━━━━━━━━━━━━┩\n",
      "│ workspace  │ -        │ 0.2895 │ 2.2134 │ 0.001 │ 0            │\n",
      "│ checkpoint │ 04:58 PM │ 0.2895 │ 2.2134 │ 0.001 │ 0            │\n",
      "└────────────┴──────────┴────────┴────────┴───────┴──────────────┘\n"
     ]
    }
   ],
   "source": [
    "%%bash\n",
    "dvc exp show"
   ]
  },
  {
   "cell_type": "markdown",
   "metadata": {},
   "source": [
    "### Experimenting with different parameters\n",
    "\n",
    "Experiments can be run and compared with different parameters."
   ]
  },
  {
   "cell_type": "code",
   "execution_count": 6,
   "metadata": {},
   "outputs": [
    {
     "name": "stdout",
     "output_type": "stream",
     "text": [
      "Stage 'download' didn't change, skipping\n"
     ]
    },
    {
     "name": "stderr",
     "output_type": "stream",
     "text": [
      "ERROR: Failed to reproduce experiment '9cf47aa' - failed to reproduce 'dvc.yaml': restore() got an unexpected keyword argument 'checkpoint_resume'\n"
     ]
    }
   ],
   "source": [
    "%%bash\n",
    "dvc exp run train --params weight_decay=0.1"
   ]
  },
  {
   "cell_type": "code",
   "execution_count": null,
   "metadata": {},
   "outputs": [],
   "source": []
  }
 ],
 "metadata": {
  "kernelspec": {
   "display_name": "Python 3",
   "language": "python",
   "name": "python3"
  },
  "language_info": {
   "codemirror_mode": {
    "name": "ipython",
    "version": 3
   },
   "file_extension": ".py",
   "mimetype": "text/x-python",
   "name": "python",
   "nbconvert_exporter": "python",
   "pygments_lexer": "ipython3",
   "version": "3.8.5"
  }
 },
 "nbformat": 4,
 "nbformat_minor": 4
}
