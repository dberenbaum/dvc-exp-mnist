{
 "cells": [
  {
   "cell_type": "markdown",
   "metadata": {},
   "source": [
    "This notebook shows how to use [dvc](https://dvc.org/) [experiments](https://github.com/iterative/dvc/wiki/Experiments) in model development. This example uses the [MNIST](http://yann.lecun.com/exdb/mnist/) data of handwritten digits and builds a classification model to predict the digit (0-9) in each image. The model is built in [pytorch](https://pytorch.org/) as convolutional neural network with a simplified architecture, which should be able to quickly run on most computers."
   ]
  },
  {
   "cell_type": "markdown",
   "metadata": {},
   "source": [
    "### Getting started\n",
    "\n",
    "To get started, clone this repository and navigate to it.\n",
    "\n",
    "The only other prerequisite is [conda](https://docs.conda.io/projects/conda/en/latest/user-guide/install/). Once conda is installed, create a virtual environment from the existing `environment.yaml` file and activate it:\n",
    "\n",
    "```bash\n",
    "conda env create -f environment.yml\n",
    "conda activate dvc\n",
    "```\n",
    "\n",
    "If you want to run this notebook directly, do so after activating the conda environment.\n",
    "\n",
    "Finally, intialize dvc and enable the experiments feature:"
   ]
  },
  {
   "cell_type": "code",
   "execution_count": 1,
   "metadata": {},
   "outputs": [
    {
     "name": "stdout",
     "output_type": "stream",
     "text": [
      "\n",
      "You can now commit the changes to git.\n",
      "\n",
      "+---------------------------------------------------------------------+\n",
      "|                                                                     |\n",
      "|        DVC has enabled anonymous aggregate usage analytics.         |\n",
      "|     Read the analytics documentation (and how to opt-out) here:     |\n",
      "|             <https://dvc.org/doc/user-guide/analytics>              |\n",
      "|                                                                     |\n",
      "+---------------------------------------------------------------------+\n",
      "\n",
      "What's next?\n",
      "------------\n",
      "- Check out the documentation: <https://dvc.org/doc>\n",
      "- Get help and share ideas: <https://dvc.org/chat>\n",
      "- Star us on GitHub: <https://github.com/iterative/dvc>\n"
     ]
    }
   ],
   "source": [
    "%%bash\n",
    "dvc init\n",
    "dvc config --global core.experiments true"
   ]
  },
  {
   "cell_type": "markdown",
   "metadata": {},
   "source": [
    "### Establishing the pipeline DAG\n",
    "\n",
    "Before experimenting, a dvc pipeline must be established (see the docs if you are new to dvc). Review the contents of `dvc.yaml` below to see the pipeline."
   ]
  },
  {
   "cell_type": "code",
   "execution_count": 2,
   "metadata": {},
   "outputs": [
    {
     "name": "stdout",
     "output_type": "stream",
     "text": [
      "stages:\n",
      "  download:\n",
      "    cmd: python download.py\n",
      "    deps:\n",
      "    - download.py\n",
      "    outs:\n",
      "    - data/MNIST\n",
      "  train:\n",
      "    cmd: python train.py --model_path=model.pt --metrics_path=metrics.yaml\n",
      "    deps:\n",
      "    - data/MNIST\n",
      "    - train.py\n",
      "    params:\n",
      "    - lr\n",
      "    - weight_decay\n",
      "    outs:\n",
      "    - model.pt\n",
      "    metrics:\n",
      "    - metrics.yaml\n",
      "  train_checkpoint:\n",
      "    cmd: python train.py --model_path=model_checkpoint.pt --metrics_path=metrics_checkpoint.yaml --checkpoint=5\n",
      "    deps:\n",
      "    - data/MNIST\n",
      "    - train.py\n",
      "    params:\n",
      "    - lr\n",
      "    - weight_decay\n",
      "    outs:\n",
      "    - model_checkpoint.pt:\n",
      "        checkpoint: true\n",
      "    metrics:\n",
      "    - metrics_checkpoint.yaml\n"
     ]
    }
   ],
   "source": [
    "%%bash\n",
    "cat dvc.yaml"
   ]
  },
  {
   "cell_type": "markdown",
   "metadata": {},
   "source": [
    "The download stage gets the data using the `download.py` script. The train stage performs model training and evaluation on the downloaded data using the `train.py` script. The train stage uses the lr and weight_decay metrics defined in `params.yaml`. The model output is saved to `model.pt`, and the metrics are saved to `metrics.yaml`. The train_checkpoint stage is similar but saves output periodically.\n",
    "\n",
    "Execute the pipeline to reproduce the train stage:"
   ]
  },
  {
   "cell_type": "code",
   "execution_count": 3,
   "metadata": {},
   "outputs": [
    {
     "name": "stdout",
     "output_type": "stream",
     "text": [
      "Running stage 'download' with command:\n",
      "\tpython download.py\n",
      "Downloading http://yann.lecun.com/exdb/mnist/train-images-idx3-ubyte.gz to data/MNIST/raw/train-images-idx3-ubyte.gz\n",
      "Extracting data/MNIST/raw/train-images-idx3-ubyte.gz to data/MNIST/raw\n",
      "Downloading http://yann.lecun.com/exdb/mnist/train-labels-idx1-ubyte.gz to data/MNIST/raw/train-labels-idx1-ubyte.gz\n",
      "Extracting data/MNIST/raw/train-labels-idx1-ubyte.gz to data/MNIST/raw\n",
      "Downloading http://yann.lecun.com/exdb/mnist/t10k-images-idx3-ubyte.gz to data/MNIST/raw/t10k-images-idx3-ubyte.gz\n",
      "Extracting data/MNIST/raw/t10k-images-idx3-ubyte.gz to data/MNIST/raw\n",
      "Downloading http://yann.lecun.com/exdb/mnist/t10k-labels-idx1-ubyte.gz to data/MNIST/raw/t10k-labels-idx1-ubyte.gz\n",
      "Extracting data/MNIST/raw/t10k-labels-idx1-ubyte.gz to data/MNIST/raw\n",
      "Processing...\n",
      "Done!\n",
      "Generating lock file 'dvc.lock'\n",
      "Updating lock file 'dvc.lock'\n",
      "\n",
      "Running stage 'train' with command:\n",
      "\tpython train.py --model_path=model.pt --metrics_path=metrics.yaml\n",
      "Updating lock file 'dvc.lock'\n",
      "\n",
      "To track the changes with git, run:\n",
      "\n",
      "\tgit add dvc.lock\n",
      "Use `dvc push` to send your updates to remote storage.\n"
     ]
    },
    {
     "name": "stderr",
     "output_type": "stream",
     "text": [
      "\r",
      "0it [00:00, ?it/s]\r",
      "  0%|          | 0/9912422 [00:00<?, ?it/s]\r",
      "  3%|▎         | 303104/9912422 [00:00<00:03, 2989559.83it/s]\r",
      "  9%|▉         | 909312/9912422 [00:00<00:02, 3518514.87it/s]\r",
      " 15%|█▍        | 1441792/9912422 [00:00<00:02, 3910836.44it/s]\r",
      " 20%|█▉        | 1957888/9912422 [00:00<00:01, 4212361.69it/s]\r",
      " 26%|██▌       | 2555904/9912422 [00:00<00:01, 4621392.01it/s]\r",
      " 32%|███▏      | 3137536/9912422 [00:00<00:01, 4917156.86it/s]\r",
      " 37%|███▋      | 3670016/9912422 [00:00<00:01, 5027441.63it/s]\r",
      " 42%|████▏     | 4177920/9912422 [00:01<00:01, 4126412.41it/s]\r",
      " 47%|████▋     | 4653056/9912422 [00:01<00:01, 4278473.35it/s]\r",
      " 53%|█████▎    | 5226496/9912422 [00:01<00:01, 4625782.62it/s]\r",
      " 58%|█████▊    | 5758976/9912422 [00:01<00:00, 4802865.26it/s]\r",
      " 64%|██████▎   | 6316032/9912422 [00:01<00:00, 4987157.22it/s]\r",
      " 71%|███████   | 7004160/9912422 [00:01<00:00, 5435057.33it/s]\r",
      " 76%|███████▋  | 7569408/9912422 [00:01<00:00, 5474155.64it/s]\r",
      " 83%|████████▎ | 8192000/9912422 [00:01<00:00, 5657605.64it/s]\r",
      " 89%|████████▉ | 8798208/9912422 [00:01<00:00, 5771165.48it/s]\r",
      " 95%|█████████▍| 9388032/9912422 [00:01<00:00, 5750182.20it/s]\r",
      "9920512it [00:02, 4150286.46it/s]                             \n",
      "\r",
      "0it [00:00, ?it/s]\r",
      "  0%|          | 0/28881 [00:00<?, ?it/s]\n",
      "\r",
      "0it [00:00, ?it/s]\u001b[A\n",
      "\r",
      "  0%|          | 0/1648877 [00:00<?, ?it/s]\u001b[A\n",
      "\r",
      " 16%|█▋        | 270336/1648877 [00:00<00:00, 2617564.53it/s]\u001b[A\n",
      "\r",
      " 43%|████▎     | 712704/1648877 [00:00<00:00, 2942832.92it/s]\u001b[A\n",
      "\r",
      " 74%|███████▎  | 1212416/1648877 [00:00<00:00, 3349646.85it/s]\u001b[A\n",
      "\n",
      "\r",
      "0it [00:00, ?it/s]\u001b[A\u001b[A\n",
      "\n",
      "\r",
      "  0%|          | 0/4542 [00:00<?, ?it/s]\u001b[A\u001b[A/home/dave/.conda/envs/dvc/lib/python3.8/site-packages/torchvision/datasets/mnist.py:480: UserWarning: The given NumPy array is not writeable, and PyTorch does not support non-writeable tensors. This means you can write to the underlying (supposedly non-writeable) NumPy array using the tensor. You may want to copy the array to protect its data or make it writeable before converting it to a tensor. This type of warning will be suppressed for the rest of this program. (Triggered internally at  /opt/conda/conda-bld/pytorch_1603729002806/work/torch/csrc/utils/tensor_numpy.cpp:141.)\n",
      "  return torch.from_numpy(parsed.astype(m[2], copy=False)).view(*s)\n",
      "\r",
      "1654784it [00:00, 2032083.68it/s]                             \n",
      "\r",
      "8192it [00:00, 32098.86it/s]            \n",
      "\r",
      "32768it [00:00, 35054.31it/s]            "
     ]
    }
   ],
   "source": [
    "%%bash\n",
    "dvc repro train"
   ]
  },
  {
   "cell_type": "markdown",
   "metadata": {},
   "source": [
    "Run the `git add` command above and also `git commit` before running experiments. Anytime you modify the pipeline, be sure to `dvc repro` and track changes with git before running experiments."
   ]
  },
  {
   "cell_type": "code",
   "execution_count": 4,
   "metadata": {},
   "outputs": [
    {
     "name": "stdout",
     "output_type": "stream",
     "text": [
      "[1.10.2 c031ef3] run train stage\n",
      " 1 file changed, 32 insertions(+)\n",
      " create mode 100644 dvc.lock\n"
     ]
    }
   ],
   "source": [
    "%%bash\n",
    "git add dvc.lock\n",
    "git commit -m \"run train stage\""
   ]
  },
  {
   "cell_type": "markdown",
   "metadata": {},
   "source": [
    "### Run an experiment\n",
    "\n",
    "Run an experiment with the default parameters defined in `params.yaml`."
   ]
  },
  {
   "cell_type": "code",
   "execution_count": 5,
   "metadata": {},
   "outputs": [
    {
     "name": "stdout",
     "output_type": "stream",
     "text": [
      "Stage 'download' didn't change, skipping\n",
      "Stage 'train' didn't change, skipping\n",
      "Reproduced experiment 'c031ef3'.\n"
     ]
    }
   ],
   "source": [
    "%%bash\n",
    "dvc exp run train"
   ]
  },
  {
   "cell_type": "markdown",
   "metadata": {},
   "source": [
    "Since the pipeline was already reproduced with these parameters, this experiment didn't actually execute. Review the output of the run, including identifying hashes, metrics, and parameters:"
   ]
  },
  {
   "cell_type": "code",
   "execution_count": 6,
   "metadata": {},
   "outputs": [
    {
     "name": "stdout",
     "output_type": "stream",
     "text": [
      "┏━━━━━━━━━━━━┳━━━━━━━━━━┳━━━━━━━━┳━━━━━━━━┳━━━━━━━┳━━━━━━━━━━━━━━┓\n",
      "┃ Experiment ┃ Created  ┃    acc ┃   loss ┃ lr    ┃ weight_decay ┃\n",
      "┡━━━━━━━━━━━━╇━━━━━━━━━━╇━━━━━━━━╇━━━━━━━━╇━━━━━━━╇━━━━━━━━━━━━━━┩\n",
      "│ workspace  │ -        │ 0.1901 │ 2.1917 │ 0.001 │ 0            │\n",
      "│ 1.10.2     │ 03:14 PM │ 0.1901 │ 2.1917 │ 0.001 │ 0            │\n",
      "└────────────┴──────────┴────────┴────────┴───────┴──────────────┘\n"
     ]
    }
   ],
   "source": [
    "%%bash\n",
    "dvc exp show"
   ]
  },
  {
   "cell_type": "markdown",
   "metadata": {},
   "source": [
    "### Experimenting with different parameters\n",
    "\n",
    "Experiments can be run and compared with different parameters."
   ]
  },
  {
   "cell_type": "code",
   "execution_count": 7,
   "metadata": {},
   "outputs": [
    {
     "name": "stdout",
     "output_type": "stream",
     "text": [
      "Stage 'download' didn't change, skipping\n",
      "Running stage 'train' with command:\n",
      "\tpython train.py --model_path=model.pt --metrics_path=metrics.yaml\n",
      "Updating lock file 'dvc.lock'\n",
      "Reproduced experiment 'd920437'.\n"
     ]
    },
    {
     "name": "stderr",
     "output_type": "stream",
     "text": [
      "WARNING: No file hash info found for 'model_checkpoint.pt'. It won't be created.\n",
      "WARNING: No file hash info found for 'metrics_checkpoint.yaml'. It won't be created.\n"
     ]
    }
   ],
   "source": [
    "%%bash\n",
    "dvc exp run train --params weight_decay=0.1"
   ]
  },
  {
   "cell_type": "code",
   "execution_count": 8,
   "metadata": {},
   "outputs": [
    {
     "name": "stdout",
     "output_type": "stream",
     "text": [
      "┏━━━━━━━━━━━━━┳━━━━━━━━━━┳━━━━━━━━┳━━━━━━━━┳━━━━━━━┳━━━━━━━━━━━━━━┓\n",
      "┃ Experiment  ┃ Created  ┃    acc ┃   loss ┃ lr    ┃ weight_decay ┃\n",
      "┡━━━━━━━━━━━━━╇━━━━━━━━━━╇━━━━━━━━╇━━━━━━━━╇━━━━━━━╇━━━━━━━━━━━━━━┩\n",
      "│ workspace   │ -        │ 0.0982 │ 2.2982 │ 0.001 │ 0.1          │\n",
      "│ 1.10.2      │ 03:14 PM │ 0.1901 │ 2.1917 │ 0.001 │ 0            │\n",
      "│ └── d920437 │ 03:15 PM │ 0.0982 │ 2.2982 │ 0.001 │ 0.1          │\n",
      "└─────────────┴──────────┴────────┴────────┴───────┴──────────────┘\n"
     ]
    }
   ],
   "source": [
    "%%bash\n",
    "dvc exp show"
   ]
  },
  {
   "cell_type": "markdown",
   "metadata": {},
   "source": [
    "Increasing weight_decay didn't help, so revert back to original parameters:"
   ]
  },
  {
   "cell_type": "code",
   "execution_count": 9,
   "metadata": {},
   "outputs": [],
   "source": [
    "%%bash\n",
    "git checkout params.yaml"
   ]
  },
  {
   "cell_type": "markdown",
   "metadata": {},
   "source": [
    "Experiments can also be added in bulk to the queue and executed on demand (see the -j flag for parallel execution!)."
   ]
  },
  {
   "cell_type": "code",
   "execution_count": 10,
   "metadata": {},
   "outputs": [
    {
     "name": "stdout",
     "output_type": "stream",
     "text": [
      "Queued experiment 'b87e095' for future execution.\n",
      "Queued experiment 'bf88987' for future execution.\n"
     ]
    }
   ],
   "source": [
    "%%bash\n",
    "dvc exp run train --params lr=0.01 --queue\n",
    "dvc exp run train --params lr=0.1 --queue"
   ]
  },
  {
   "cell_type": "code",
   "execution_count": 11,
   "metadata": {},
   "outputs": [
    {
     "name": "stdout",
     "output_type": "stream",
     "text": [
      "┏━━━━━━━━━━━━━━┳━━━━━━━━━━┳━━━━━━━━┳━━━━━━━━┳━━━━━━━┳━━━━━━━━━━━━━━┓\n",
      "┃ Experiment   ┃ Created  ┃    acc ┃   loss ┃ lr    ┃ weight_decay ┃\n",
      "┡━━━━━━━━━━━━━━╇━━━━━━━━━━╇━━━━━━━━╇━━━━━━━━╇━━━━━━━╇━━━━━━━━━━━━━━┩\n",
      "│ workspace    │ -        │ 0.0982 │ 2.2982 │ 0.001 │ 0            │\n",
      "│ 1.10.2       │ 03:14 PM │ 0.1901 │ 2.1917 │ 0.001 │ 0            │\n",
      "│ ├── d920437  │ 03:15 PM │ 0.0982 │ 2.2982 │ 0.001 │ 0.1          │\n",
      "│ ├── *bf88987 │ 03:15 PM │      - │      - │ 0.1   │ 0            │\n",
      "│ └── *b87e095 │ 03:15 PM │      - │      - │ 0.01  │ 0            │\n",
      "└──────────────┴──────────┴────────┴────────┴───────┴──────────────┘\n"
     ]
    }
   ],
   "source": [
    "%%bash\n",
    "dvc exp show"
   ]
  },
  {
   "cell_type": "code",
   "execution_count": 12,
   "metadata": {},
   "outputs": [
    {
     "name": "stdout",
     "output_type": "stream",
     "text": [
      "Stage '../../../../tmp/tmp8rp8mrkt/dvc.yaml:download' didn't change, skipping\n",
      "Running stage '../../../../tmp/tmp8rp8mrkt/dvc.yaml:train' with command:\n",
      "\tpython train.py --model_path=model.pt --metrics_path=metrics.yaml\n"
     ]
    },
    {
     "name": "stderr",
     "output_type": "stream",
     "text": [
      "ERROR: Failed to reproduce experiment 'b87e095' - Stage: '../../../../tmp/tmp8rp8mrkt/dvc.yaml:train'\n",
      "ERROR: Failed to reproduce experiment 'bf88987' - failed to reproduce '../../../../tmp/tmp8rp8mrkt/dvc.yaml': file path '/home/dave/Code/dvc-exp-mnist' is outside of DVC repo\n"
     ]
    }
   ],
   "source": [
    "%%bash\n",
    "dvc exp run train --run-all"
   ]
  },
  {
   "cell_type": "markdown",
   "metadata": {},
   "source": [
    "### Persist models\n",
    "\n",
    "Find the training experiment with the best accuracy and commit it."
   ]
  },
  {
   "cell_type": "code",
   "execution_count": 14,
   "metadata": {},
   "outputs": [
    {
     "name": "stdout",
     "output_type": "stream",
     "text": [
      "┏━━━━━━━━━━━━━━┳━━━━━━━━━━┳━━━━━━━━┳━━━━━━━━┳━━━━━━━┳━━━━━━━━━━━━━━┓\n",
      "┃ Experiment   ┃ Created  ┃    acc ┃   loss ┃ lr    ┃ weight_decay ┃\n",
      "┡━━━━━━━━━━━━━━╇━━━━━━━━━━╇━━━━━━━━╇━━━━━━━━╇━━━━━━━╇━━━━━━━━━━━━━━┩\n",
      "│ workspace    │ -        │ 0.0982 │ 2.2982 │ 0.001 │ 0            │\n",
      "│ 1.10.2       │ 03:14 PM │ 0.1901 │ 2.1917 │ 0.001 │ 0            │\n",
      "│ ├── d920437  │ 03:15 PM │ 0.0982 │ 2.2982 │ 0.001 │ 0.1          │\n",
      "│ ├── *bf88987 │ 03:15 PM │      - │      - │ 0.1   │ 0            │\n",
      "│ └── *b87e095 │ 03:15 PM │      - │      - │ 0.01  │ 0            │\n",
      "└──────────────┴──────────┴────────┴────────┴───────┴──────────────┘\n"
     ]
    }
   ],
   "source": [
    "%%bash\n",
    "dvc exp show --sort-by acc"
   ]
  },
  {
   "cell_type": "code",
   "execution_count": 16,
   "metadata": {},
   "outputs": [
    {
     "name": "stdout",
     "output_type": "stream",
     "text": [
      "Changes for experiment 'd920437' have been applied to your current workspace.\n"
     ]
    },
    {
     "name": "stderr",
     "output_type": "stream",
     "text": [
      "WARNING: No file hash info found for 'model_checkpoint.pt'. It won't be created.\n",
      "WARNING: No file hash info found for 'metrics_checkpoint.yaml'. It won't be created.\n"
     ]
    }
   ],
   "source": [
    "%%bash\n",
    "dvc exp checkout d920437"
   ]
  },
  {
   "cell_type": "code",
   "execution_count": 17,
   "metadata": {},
   "outputs": [
    {
     "name": "stdout",
     "output_type": "stream",
     "text": [
      "[1.10.2 b432fac] hyperparemeter tuning\n",
      " 2 files changed, 5 insertions(+), 5 deletions(-)\n"
     ]
    }
   ],
   "source": [
    "%%bash\n",
    "git add dvc.lock params.yaml\n",
    "git commit -m \"hyperparameter tuning\""
   ]
  },
  {
   "cell_type": "markdown",
   "metadata": {},
   "source": [
    "Other experiments are now hidden by default, but they can still be shown and retrieved as needed. See the documentation or help commands for more info."
   ]
  },
  {
   "cell_type": "code",
   "execution_count": 18,
   "metadata": {},
   "outputs": [
    {
     "name": "stdout",
     "output_type": "stream",
     "text": [
      "┏━━━━━━━━━━━━┳━━━━━━━━━━┳━━━━━━━━┳━━━━━━━━┳━━━━━━━┳━━━━━━━━━━━━━━┓\n",
      "┃ Experiment ┃ Created  ┃    acc ┃   loss ┃ lr    ┃ weight_decay ┃\n",
      "┡━━━━━━━━━━━━╇━━━━━━━━━━╇━━━━━━━━╇━━━━━━━━╇━━━━━━━╇━━━━━━━━━━━━━━┩\n",
      "│ workspace  │ -        │ 0.0982 │ 2.2982 │ 0.001 │ 0.1          │\n",
      "│ 1.10.2     │ 03:19 PM │ 0.0982 │ 2.2982 │ 0.001 │ 0.1          │\n",
      "└────────────┴──────────┴────────┴────────┴───────┴──────────────┘\n"
     ]
    }
   ],
   "source": [
    "%%bash\n",
    "dvc exp show"
   ]
  },
  {
   "cell_type": "markdown",
   "metadata": {},
   "source": [
    "### Iteratively train using checkpoints\n",
    "\n",
    "Use checkpoints to periodically save the model during training, and to resume training from a previously saved state."
   ]
  },
  {
   "cell_type": "code",
   "execution_count": 19,
   "metadata": {},
   "outputs": [
    {
     "name": "stdout",
     "output_type": "stream",
     "text": [
      "Stage 'download' didn't change, skipping\n",
      "Running stage 'train_checkpoint' with command:\n",
      "\tpython train.py --model_path=model_checkpoint.pt --metrics_path=metrics_checkpoint.yaml --checkpoint=5\n",
      "Updating lock file 'dvc.lock'\n",
      "Checkpoint experiment iteration '6c7c3a3'.\n",
      "Updating lock file 'dvc.lock'\n",
      "Checkpoint experiment iteration '28d417a'.\n",
      "Reproduced experiment '28d417a'.\n"
     ]
    }
   ],
   "source": [
    "%%bash\n",
    "dvc exp run train_checkpoint"
   ]
  },
  {
   "cell_type": "code",
   "execution_count": 20,
   "metadata": {},
   "outputs": [
    {
     "name": "stdout",
     "output_type": "stream",
     "text": [
      "┏━━━━━━━━━━━━━┳━━━━━━━━━━┳━━━━━━━━┳━━━━━━━━┳━━━━━━━━┳━━━━━━━━━━━━━━┳━━━━━━━┳━━━━━┓\n",
      "┃ Experiment  ┃ Created  ┃    acc ┃   loss ┃ lr     ┃ weight_decay ┃       ┃     ┃\n",
      "┡━━━━━━━━━━━━━╇━━━━━━━━━━╇━━━━━━━━╇━━━━━━━━╇━━━━━━━━╇━━━━━━━━━━━━━━╇━━━━━━━╇━━━━━┩\n",
      "│ workspace   │ -        │ 0.0982 │ 2.2982 │ 0.1147 │ 2.3029       │ 0.001 │ 0.1 │\n",
      "│ 1.10.2      │ 03:19 PM │ 0.0982 │ 2.2982 │ 0.001  │ 0.1          │       │     │\n",
      "│ │ ╓ 28d417a │ 03:22 PM │ 0.0982 │ 2.2982 │ 0.1147 │ 2.3029       │ 0.001 │ 0.1 │\n",
      "│ ├─╨ 6c7c3a3 │ 03:22 PM │ 0.0982 │ 2.2982 │ 0.1216 │ 2.3033       │ 0.001 │ 0.1 │\n",
      "└─────────────┴──────────┴────────┴────────┴────────┴──────────────┴───────┴─────┘\n"
     ]
    }
   ],
   "source": [
    "%%bash\n",
    "dvc exp show"
   ]
  },
  {
   "cell_type": "markdown",
   "metadata": {},
   "source": [
    "Checkpoints are grouped together when showing the experiments. Run a couple more epochs to see if accuracy increases."
   ]
  },
  {
   "cell_type": "code",
   "execution_count": 21,
   "metadata": {},
   "outputs": [
    {
     "name": "stdout",
     "output_type": "stream",
     "text": [
      "Stage 'download' didn't change, skipping\n",
      "Running stage 'train_checkpoint' with command:\n",
      "\tpython train.py --model_path=model_checkpoint.pt --metrics_path=metrics_checkpoint.yaml --checkpoint=5\n",
      "Updating lock file 'dvc.lock'\n",
      "Checkpoint experiment iteration '0e72239'.\n",
      "Updating lock file 'dvc.lock'\n",
      "Checkpoint experiment iteration '1b221c6'.\n",
      "Reproduced experiment '1b221c6'.\n"
     ]
    }
   ],
   "source": [
    "%%bash\n",
    "dvc exp res train_checkpoint"
   ]
  },
  {
   "cell_type": "code",
   "execution_count": 22,
   "metadata": {},
   "outputs": [
    {
     "name": "stdout",
     "output_type": "stream",
     "text": [
      "┏━━━━━━━━━━━━━┳━━━━━━━━━━┳━━━━━━━━┳━━━━━━━━┳━━━━━━━━┳━━━━━━━━━━━━━━┳━━━━━━━┳━━━━━┓\n",
      "┃ Experiment  ┃ Created  ┃    acc ┃   loss ┃ lr     ┃ weight_decay ┃       ┃     ┃\n",
      "┡━━━━━━━━━━━━━╇━━━━━━━━━━╇━━━━━━━━╇━━━━━━━━╇━━━━━━━━╇━━━━━━━━━━━━━━╇━━━━━━━╇━━━━━┩\n",
      "│ workspace   │ -        │ 0.1135 │ 2.3024 │ 0.0982 │ 2.2982       │ 0.001 │ 0.1 │\n",
      "│ 1.10.2      │ 03:19 PM │ 0.0982 │ 2.2982 │ 0.001  │ 0.1          │       │     │\n",
      "│ │ ╓ 1b221c6 │ 03:23 PM │ 0.1135 │ 2.3024 │ 0.0982 │ 2.2982       │ 0.001 │ 0.1 │\n",
      "│ │ ╟ 0e72239 │ 03:23 PM │ 0.0982 │ 2.2982 │ 0.1135 │ 2.3026       │ 0.001 │ 0.1 │\n",
      "│ │ ╟ 28d417a │ 03:22 PM │ 0.1147 │ 2.3029 │ 0.0982 │ 2.2982       │ 0.001 │ 0.1 │\n",
      "│ ├─╨ 6c7c3a3 │ 03:22 PM │ 0.0982 │ 2.2982 │ 0.1216 │ 2.3033       │ 0.001 │ 0.1 │\n",
      "└─────────────┴──────────┴────────┴────────┴────────┴──────────────┴───────┴─────┘\n"
     ]
    }
   ],
   "source": [
    "%%bash\n",
    "dvc exp show"
   ]
  },
  {
   "cell_type": "code",
   "execution_count": null,
   "metadata": {},
   "outputs": [],
   "source": []
  }
 ],
 "metadata": {
  "kernelspec": {
   "display_name": "Python 3",
   "language": "python",
   "name": "python3"
  },
  "language_info": {
   "codemirror_mode": {
    "name": "ipython",
    "version": 3
   },
   "file_extension": ".py",
   "mimetype": "text/x-python",
   "name": "python",
   "nbconvert_exporter": "python",
   "pygments_lexer": "ipython3",
   "version": "3.8.5"
  }
 },
 "nbformat": 4,
 "nbformat_minor": 4
}
