{
 "cells": [
  {
   "cell_type": "markdown",
   "metadata": {},
   "source": [
    "This notebook shows how to use [dvc](https://dvc.org/) [experiments](https://github.com/iterative/dvc/wiki/Experiments) in model development. This example uses the [MNIST](http://yann.lecun.com/exdb/mnist/) data of handwritten digits and builds a classification model to predict the digit (0-9) in each image. The model is built in [pytorch](https://pytorch.org/) as convolutional neural network with a simplified architecture, which should be able to quickly run on most computers."
   ]
  },
  {
   "cell_type": "markdown",
   "metadata": {},
   "source": [
    "### Getting started\n",
    "\n",
    "To get started, clone this repository and navigate to it.\n",
    "\n",
    "The only other prerequisite is [conda](https://docs.conda.io/projects/conda/en/latest/user-guide/install/). Once conda is installed, create a virtual environment from the existing `environment.yaml` file and activate it:\n",
    "\n",
    "```bash\n",
    "conda env create -f environment.yml\n",
    "conda activate dvc\n",
    "```\n",
    "\n",
    "If you want to run this notebook directly, do so after activating the conda environment."
   ]
  },
  {
   "cell_type": "markdown",
   "metadata": {},
   "source": [
    "### Establishing the pipeline DAG\n",
    "\n",
    "Before experimenting, a dvc pipeline must be established (see the docs if you are new to dvc). Review the contents of `dvc.yaml` below to see the pipeline."
   ]
  },
  {
   "cell_type": "code",
   "execution_count": 1,
   "metadata": {},
   "outputs": [
    {
     "name": "stdout",
     "output_type": "stream",
     "text": [
      "stages:\n",
      "  download:\n",
      "    cmd: python download.py\n",
      "    deps:\n",
      "    - download.py\n",
      "    outs:\n",
      "    - data/MNIST\n",
      "  train:\n",
      "    cmd: python train.py\n",
      "    deps:\n",
      "    - data/MNIST\n",
      "    - train.py\n",
      "    params:\n",
      "    - lr\n",
      "    - weight_decay\n",
      "    outs:\n",
      "    - model.pt:\n",
      "        checkpoint: true\n",
      "    metrics:\n",
      "    - metrics.yaml\n"
     ]
    }
   ],
   "source": [
    "%%bash\n",
    "cat dvc.yaml"
   ]
  },
  {
   "cell_type": "markdown",
   "metadata": {},
   "source": [
    "The download stage gets the data using the `download.py` script. The train stage performs model training and evaluation on the downloaded data using the `train.py` script. The train stage uses the lr and weight_decay metrics defined in `params.yaml`. The model output is saved to `model.pt`, and the metrics are saved to `metrics.yaml`.\n",
    "\n",
    "Execute the download stage to get the data."
   ]
  },
  {
   "cell_type": "code",
   "execution_count": 2,
   "metadata": {},
   "outputs": [
    {
     "name": "stdout",
     "output_type": "stream",
     "text": [
      "Running stage 'download' with command:\n",
      "\tpython download.py\n",
      "Downloading http://yann.lecun.com/exdb/mnist/train-images-idx3-ubyte.gz to data/MNIST/raw/train-images-idx3-ubyte.gz\n",
      "Extracting data/MNIST/raw/train-images-idx3-ubyte.gz to data/MNIST/raw\n",
      "Downloading http://yann.lecun.com/exdb/mnist/train-labels-idx1-ubyte.gz to data/MNIST/raw/train-labels-idx1-ubyte.gz\n",
      "Extracting data/MNIST/raw/train-labels-idx1-ubyte.gz to data/MNIST/raw\n",
      "Downloading http://yann.lecun.com/exdb/mnist/t10k-images-idx3-ubyte.gz to data/MNIST/raw/t10k-images-idx3-ubyte.gz\n",
      "Extracting data/MNIST/raw/t10k-images-idx3-ubyte.gz to data/MNIST/raw\n",
      "Downloading http://yann.lecun.com/exdb/mnist/t10k-labels-idx1-ubyte.gz to data/MNIST/raw/t10k-labels-idx1-ubyte.gz\n",
      "Extracting data/MNIST/raw/t10k-labels-idx1-ubyte.gz to data/MNIST/raw\n",
      "Processing...\n",
      "Done!\n",
      "Updating lock file 'dvc.lock'\n",
      "\n",
      "To track the changes with git, run:\n",
      "\n",
      "\tgit add dvc.lock\n",
      "Use `dvc push` to send your updates to remote storage.\n"
     ]
    },
    {
     "name": "stderr",
     "output_type": "stream",
     "text": [
      "\r",
      "0it [00:00, ?it/s]\r",
      "  0%|          | 8192/9912422 [00:00<02:02, 80703.65it/s]\r",
      "  3%|▎         | 294912/9912422 [00:00<01:24, 113872.25it/s]\r",
      "  8%|▊         | 786432/9912422 [00:00<00:56, 161039.63it/s]\r",
      " 14%|█▎        | 1351680/9912422 [00:00<00:37, 227218.51it/s]\r",
      " 20%|█▉        | 1933312/9912422 [00:00<00:25, 319147.24it/s]\r",
      " 26%|██▌       | 2547712/9912422 [00:00<00:16, 445783.93it/s]\r",
      " 32%|███▏      | 3145728/9912422 [00:00<00:10, 615735.88it/s]\r",
      " 38%|███▊      | 3719168/9912422 [00:00<00:07, 840477.56it/s]\r",
      " 43%|████▎     | 4235264/9912422 [00:00<00:05, 1117781.30it/s]\r",
      " 48%|████▊     | 4792320/9912422 [00:01<00:03, 1470223.89it/s]\r",
      " 54%|█████▍    | 5390336/9912422 [00:01<00:02, 1897021.34it/s]\r",
      " 60%|█████▉    | 5947392/9912422 [00:01<00:01, 2356138.14it/s]\r",
      " 65%|██████▌   | 6488064/9912422 [00:01<00:01, 2801808.13it/s]\r",
      " 71%|███████   | 7061504/9912422 [00:01<00:00, 3301772.00it/s]\r",
      " 78%|███████▊  | 7700480/9912422 [00:01<00:00, 3849461.32it/s]\r",
      " 84%|████████▍ | 8331264/9912422 [00:01<00:00, 4340093.33it/s]\r",
      " 91%|█████████ | 8994816/9912422 [00:01<00:00, 4824174.78it/s]\r",
      " 97%|█████████▋| 9601024/9912422 [00:01<00:00, 5092034.00it/s]\r",
      "9920512it [00:02, 4432302.33it/s]                             \n",
      "\r",
      "0it [00:00, ?it/s]\r",
      " 57%|█████▋    | 16384/28881 [00:00<00:00, 154060.20it/s]\n",
      "\r",
      "0it [00:00, ?it/s]\u001b[A\n",
      "\r",
      "  1%|          | 16384/1648877 [00:00<00:14, 116505.68it/s]\u001b[A\n",
      "\r",
      " 20%|██        | 335872/1648877 [00:00<00:08, 163704.52it/s]\u001b[A\n",
      "\r",
      " 47%|████▋     | 778240/1648877 [00:00<00:03, 230202.30it/s]\u001b[A\n",
      "\r",
      " 78%|███████▊  | 1286144/1648877 [00:00<00:01, 322552.64it/s]\u001b[A\n",
      "\n",
      "\r",
      "0it [00:00, ?it/s]\u001b[A\u001b[A\n",
      "\n",
      "\r",
      "  0%|          | 0/4542 [00:00<?, ?it/s]\u001b[A\u001b[A/home/dave/.conda/envs/dvc/lib/python3.8/site-packages/torchvision/datasets/mnist.py:480: UserWarning: The given NumPy array is not writeable, and PyTorch does not support non-writeable tensors. This means you can write to the underlying (supposedly non-writeable) NumPy array using the tensor. You may want to copy the array to protect its data or make it writeable before converting it to a tensor. This type of warning will be suppressed for the rest of this program. (Triggered internally at  /opt/conda/conda-bld/pytorch_1603729002806/work/torch/csrc/utils/tensor_numpy.cpp:141.)\n",
      "  return torch.from_numpy(parsed.astype(m[2], copy=False)).view(*s)\n",
      "\r",
      "1654784it [00:00, 1842165.76it/s]                            \n",
      "\r",
      "8192it [00:00, 26440.80it/s]            \n",
      "\r",
      "32768it [00:01, 32491.24it/s]                            "
     ]
    }
   ],
   "source": [
    "%%bash\n",
    "dvc repro download"
   ]
  },
  {
   "cell_type": "markdown",
   "metadata": {},
   "source": [
    "**IMPORTANT:** Be sure to run the `git add` command above and also `git commit` before running experiments. Anytime you modify the pipeline, be sure to `dvc repro` and track changes with git before running experiments."
   ]
  },
  {
   "cell_type": "code",
   "execution_count": 3,
   "metadata": {},
   "outputs": [
    {
     "name": "stdout",
     "output_type": "stream",
     "text": [
      "[queue ca7b766] download data\n",
      " 1 file changed, 1 insertion(+), 1 deletion(-)\n"
     ]
    }
   ],
   "source": [
    "%%bash\n",
    "git add dvc.lock data/.gitignore\n",
    "git commit -m \"download data\""
   ]
  },
  {
   "cell_type": "markdown",
   "metadata": {},
   "source": [
    "### Run an experiment\n",
    "\n",
    "Run an experiment with the default parameters defined in `params.yaml`."
   ]
  },
  {
   "cell_type": "code",
   "execution_count": 4,
   "metadata": {},
   "outputs": [
    {
     "name": "stdout",
     "output_type": "stream",
     "text": [
      "Stage 'download' didn't change, skipping\n",
      "Running stage 'train' with command:\n",
      "\tpython train.py\n",
      "Updating lock file 'dvc.lock'\n",
      "Checkpoint experiment iteration 'b5b98cd'.\n",
      "Updating lock file 'dvc.lock'\n",
      "Checkpoint experiment iteration 'e2ffa86'.\n",
      "Reproduced experiment 'e2ffa86'.\n"
     ]
    }
   ],
   "source": [
    "%%bash\n",
    "dvc exp run"
   ]
  },
  {
   "cell_type": "markdown",
   "metadata": {},
   "source": [
    "Review the output of the run, including identifying hashes, metrics, and parameters:"
   ]
  },
  {
   "cell_type": "code",
   "execution_count": 5,
   "metadata": {},
   "outputs": [
    {
     "name": "stdout",
     "output_type": "stream",
     "text": [
      "┏━━━━━━━━━━━━━┳━━━━━━━━━━┳━━━━━━━━┳━━━━━━━━┳━━━━━━━┳━━━━━━━━━━━━━━┓\n",
      "┃ Experiment  ┃ Created  ┃    acc ┃   loss ┃ lr    ┃ weight_decay ┃\n",
      "┡━━━━━━━━━━━━━╇━━━━━━━━━━╇━━━━━━━━╇━━━━━━━━╇━━━━━━━╇━━━━━━━━━━━━━━┩\n",
      "│ workspace   │ -        │ 0.4525 │ 2.1344 │ 0.001 │ 0            │\n",
      "│ queue       │ 05:50 PM │      - │      - │ 0.001 │ 0            │\n",
      "│ │ ╓ e2ffa86 │ 05:50 PM │ 0.4525 │ 2.1344 │ 0.001 │ 0            │\n",
      "│ ├─╨ b5b98cd │ 05:50 PM │ 0.3122 │ 2.2351 │ 0.001 │ 0            │\n",
      "└─────────────┴──────────┴────────┴────────┴───────┴──────────────┘\n"
     ]
    }
   ],
   "source": [
    "%%bash\n",
    "dvc exp show"
   ]
  },
  {
   "cell_type": "markdown",
   "metadata": {},
   "source": [
    "Note that two experiments were run. These are checkpoints for the run. It's not necessary to have checkpoints for experiments, but they can be helpful for models that may be run for a number of epochs. See below for more information about how checkpoints work."
   ]
  },
  {
   "cell_type": "markdown",
   "metadata": {},
   "source": [
    "### Experimenting with different parameters\n",
    "\n",
    "Experiments can be run and compared with different parameters."
   ]
  },
  {
   "cell_type": "code",
   "execution_count": 6,
   "metadata": {},
   "outputs": [
    {
     "name": "stdout",
     "output_type": "stream",
     "text": [
      "Stage 'download' didn't change, skipping\n",
      "Running stage 'train' with command:\n",
      "\tpython train.py\n",
      "Updating lock file 'dvc.lock'\n",
      "Checkpoint experiment iteration '19ebc1a'.\n",
      "Updating lock file 'dvc.lock'\n",
      "Checkpoint experiment iteration '0344357'.\n",
      "Reproduced experiment '0344357'.\n"
     ]
    }
   ],
   "source": [
    "%%bash\n",
    "dvc exp run --params weight_decay=0.1"
   ]
  },
  {
   "cell_type": "code",
   "execution_count": 5,
   "metadata": {},
   "outputs": [
    {
     "name": "stdout",
     "output_type": "stream",
     "text": [
      "┏━━━━━━━━━━━━━┳━━━━━━━━━━┳━━━━━━━━┳━━━━━━━━┳━━━━━━━┳━━━━━━━━━━━━━━┓\n",
      "┃ Experiment  ┃ Created  ┃    acc ┃   loss ┃ lr    ┃ weight_decay ┃\n",
      "┡━━━━━━━━━━━━━╇━━━━━━━━━━╇━━━━━━━━╇━━━━━━━━╇━━━━━━━╇━━━━━━━━━━━━━━┩\n",
      "│ workspace   │ -        │  0.098 │ 2.3037 │ 0.001 │ 0.1          │\n",
      "│ exp         │ 04:05 PM │      - │      - │ 0.001 │ 0            │\n",
      "│ │ ╓ dcae795 │ 04:06 PM │  0.098 │ 2.3037 │ 0.001 │ 0.1          │\n",
      "│ ├─╨ bbe9fde │ 04:06 PM │  0.098 │ 2.3042 │ 0.001 │ 0.1          │\n",
      "│ │ ╓ b8d3628 │ 04:05 PM │ 0.1998 │ 2.2452 │ 0.001 │ 0            │\n",
      "│ ├─╨ 656cb11 │ 04:05 PM │ 0.1216 │ 2.2836 │ 0.001 │ 0            │\n",
      "└─────────────┴──────────┴────────┴────────┴───────┴──────────────┘\n"
     ]
    }
   ],
   "source": [
    "%%bash\n",
    "dvc exp show"
   ]
  },
  {
   "cell_type": "markdown",
   "metadata": {},
   "source": [
    "Increasing `weight_decay` didn't help, so revert back to original parameters:"
   ]
  },
  {
   "cell_type": "code",
   "execution_count": 7,
   "metadata": {},
   "outputs": [],
   "source": [
    "%%bash\n",
    "git checkout params.yaml"
   ]
  },
  {
   "cell_type": "markdown",
   "metadata": {},
   "source": [
    "Experiments can also be added in bulk to the queue and executed on demand (see the `-j` flag for parallel execution!)."
   ]
  },
  {
   "cell_type": "code",
   "execution_count": 8,
   "metadata": {},
   "outputs": [
    {
     "name": "stdout",
     "output_type": "stream",
     "text": [
      "Queued experiment '408a8a1' for future execution.\n",
      "Queued experiment '9d44f85' for future execution.\n"
     ]
    }
   ],
   "source": [
    "%%bash\n",
    "dvc exp run --params lr=0.01 --queue\n",
    "dvc exp run --params lr=0.1 --queue"
   ]
  },
  {
   "cell_type": "code",
   "execution_count": 9,
   "metadata": {},
   "outputs": [
    {
     "name": "stdout",
     "output_type": "stream",
     "text": [
      "┏━━━━━━━━━━━━━━┳━━━━━━━━━━┳━━━━━━━━┳━━━━━━━━┳━━━━━━━┳━━━━━━━━━━━━━━┓\n",
      "┃ Experiment   ┃ Created  ┃    acc ┃   loss ┃ lr    ┃ weight_decay ┃\n",
      "┡━━━━━━━━━━━━━━╇━━━━━━━━━━╇━━━━━━━━╇━━━━━━━━╇━━━━━━━╇━━━━━━━━━━━━━━┩\n",
      "│ workspace    │ -        │ 0.1734 │ 2.2749 │ 0.001 │ 0            │\n",
      "│ queue        │ 05:50 PM │      - │      - │ 0.001 │ 0            │\n",
      "│ │ ╓ 0344357  │ 05:51 PM │ 0.1734 │ 2.2749 │ 0.001 │ 0.1          │\n",
      "│ ├─╨ 19ebc1a  │ 05:51 PM │ 0.1458 │ 2.2951 │ 0.001 │ 0.1          │\n",
      "│ │ ╓ e2ffa86  │ 05:50 PM │ 0.4525 │ 2.1344 │ 0.001 │ 0            │\n",
      "│ ├─╨ b5b98cd  │ 05:50 PM │ 0.3122 │ 2.2351 │ 0.001 │ 0            │\n",
      "│ ├── *9d44f85 │ 05:52 PM │      - │      - │ 0.1   │ 0            │\n",
      "│ └── *408a8a1 │ 05:52 PM │      - │      - │ 0.01  │ 0            │\n",
      "└──────────────┴──────────┴────────┴────────┴───────┴──────────────┘\n"
     ]
    }
   ],
   "source": [
    "%%bash\n",
    "dvc exp show"
   ]
  },
  {
   "cell_type": "code",
   "execution_count": 10,
   "metadata": {},
   "outputs": [
    {
     "name": "stderr",
     "output_type": "stream",
     "text": [
      "ERROR: Failed to reproduce experiment '9d44f85' - Stage: '../../../../tmp/tmpg52_n3qc/dvc.yaml:download'\n",
      "--- Logging error ---\n",
      "Traceback (most recent call last):\n",
      "  File \"/home/dave/.conda/envs/dvc/lib/python3.8/site-packages/dvc/logger.py\", line 134, in emit\n",
      "    msg = self.format(record)\n",
      "  File \"/home/dave/.conda/envs/dvc/lib/python3.8/logging/__init__.py\", line 925, in format\n",
      "    return fmt.format(record)\n",
      "  File \"/home/dave/.conda/envs/dvc/lib/python3.8/site-packages/dvc/logger.py\", line 94, in format\n",
      "    cause = \": \".join(_iter_causes(record.exc_info[1]))\n",
      "  File \"/home/dave/.conda/envs/dvc/lib/python3.8/site-packages/dvc/logger.py\", line 155, in _iter_causes\n",
      "    yield str(exc)\n",
      "  File \"/home/dave/.conda/envs/dvc/lib/python3.8/site-packages/dvc/stage/__init__.py\", line 166, in __repr__\n",
      "    return f\"Stage: '{self.addressing}'\"\n",
      "  File \"/home/dave/.conda/envs/dvc/lib/python3.8/site-packages/dvc/stage/__init__.py\", line 635, in addressing\n",
      "    if self.path and self.relpath == PIPELINE_FILE:\n",
      "  File \"/home/dave/.conda/envs/dvc/lib/python3.8/site-packages/funcy/objects.py\", line 28, in __get__\n",
      "    res = instance.__dict__[self.fget.__name__] = self.fget(instance)\n",
      "  File \"/home/dave/.conda/envs/dvc/lib/python3.8/site-packages/dvc/stage/__init__.py\", line 195, in relpath\n",
      "    return relpath(self.path)\n",
      "  File \"/home/dave/.conda/envs/dvc/lib/python3.8/site-packages/dvc/utils/__init__.py\", line 321, in relpath\n",
      "    start = os.path.abspath(os.fspath(start))\n",
      "  File \"/home/dave/.conda/envs/dvc/lib/python3.8/posixpath.py\", line 379, in abspath\n",
      "    cwd = os.getcwd()\n",
      "FileNotFoundError: [Errno 2] No such file or directory\n",
      "Call stack:\n",
      "  File \"/home/dave/.conda/envs/dvc/bin/dvc\", line 8, in <module>\n",
      "    sys.exit(main())\n",
      "  File \"/home/dave/.conda/envs/dvc/lib/python3.8/site-packages/dvc/main.py\", line 90, in main\n",
      "    ret = cmd.run()\n",
      "  File \"/home/dave/.conda/envs/dvc/lib/python3.8/site-packages/dvc/command/experiments.py\", line 462, in run\n",
      "    self.repo.experiments.run(\n",
      "  File \"/home/dave/.conda/envs/dvc/lib/python3.8/site-packages/dvc/repo/experiments/__init__.py\", line 980, in run\n",
      "    return run(self.repo, *args, **kwargs)\n",
      "  File \"/home/dave/.conda/envs/dvc/lib/python3.8/site-packages/dvc/repo/__init__.py\", line 54, in wrapper\n",
      "    return f(repo, *args, **kwargs)\n",
      "  File \"/home/dave/.conda/envs/dvc/lib/python3.8/site-packages/dvc/repo/experiments/run.py\", line 54, in run\n",
      "    return repo.experiments.reproduce_queued(jobs=jobs)\n",
      "  File \"/home/dave/.conda/envs/dvc/lib/python3.8/site-packages/dvc/repo/experiments/__init__.py\", line 427, in reproduce_queued\n",
      "    results = self.reproduce(**kwargs)\n",
      "  File \"/home/dave/.conda/envs/dvc/lib/python3.8/site-packages/dvc/repo/experiments/__init__.py\", line 38, in wrapper\n",
      "    return f(exp, *args, **kwargs)\n",
      "  File \"/home/dave/.conda/envs/dvc/lib/python3.8/site-packages/dvc/repo/experiments/__init__.py\", line 594, in reproduce\n",
      "    exec_results = self._reproduce(executors, **kwargs)\n",
      "  File \"/home/dave/.conda/envs/dvc/lib/python3.8/site-packages/dvc/repo/experiments/__init__.py\", line 661, in _reproduce\n",
      "    logger.exception(\n",
      "  File \"/home/dave/.conda/envs/dvc/lib/python3.8/logging/__init__.py\", line 1469, in exception\n",
      "    self.error(msg, *args, exc_info=exc_info, **kwargs)\n",
      "  File \"/home/dave/.conda/envs/dvc/lib/python3.8/logging/__init__.py\", line 1463, in error\n",
      "    self._log(ERROR, msg, args, **kwargs)\n",
      "  File \"/home/dave/.conda/envs/dvc/lib/python3.8/logging/__init__.py\", line 1577, in _log\n",
      "    self.handle(record)\n",
      "  File \"/home/dave/.conda/envs/dvc/lib/python3.8/logging/__init__.py\", line 1587, in handle\n",
      "    self.callHandlers(record)\n",
      "  File \"/home/dave/.conda/envs/dvc/lib/python3.8/logging/__init__.py\", line 1649, in callHandlers\n",
      "    hdlr.handle(record)\n",
      "  File \"/home/dave/.conda/envs/dvc/lib/python3.8/logging/__init__.py\", line 950, in handle\n",
      "    self.emit(record)\n",
      "  File \"/home/dave/.conda/envs/dvc/lib/python3.8/site-packages/dvc/logger.py\", line 142, in emit\n",
      "    self.handleError(record)\n",
      "Message: \"Failed to reproduce experiment '%s'\"\n",
      "Arguments: ('408a8a1',)\n",
      "ERROR: unexpected error - failed to log <LogRecord: dvc.repo.experiments, 40, /home/dave/.conda/envs/dvc/lib/python3.8/site-packages/dvc/repo/experiments/__init__.py, 661, \"Failed to reproduce experiment '%s'\">\n",
      "Traceback (most recent call last):\n",
      "  File \"/home/dave/.conda/envs/dvc/lib/python3.8/site-packages/dvc/logger.py\", line 134, in emit\n",
      "    msg = self.format(record)\n",
      "  File \"/home/dave/.conda/envs/dvc/lib/python3.8/logging/__init__.py\", line 925, in format\n",
      "    return fmt.format(record)\n",
      "  File \"/home/dave/.conda/envs/dvc/lib/python3.8/site-packages/dvc/logger.py\", line 94, in format\n",
      "    cause = \": \".join(_iter_causes(record.exc_info[1]))\n",
      "  File \"/home/dave/.conda/envs/dvc/lib/python3.8/site-packages/dvc/logger.py\", line 155, in _iter_causes\n",
      "    yield str(exc)\n",
      "  File \"/home/dave/.conda/envs/dvc/lib/python3.8/site-packages/dvc/stage/__init__.py\", line 166, in __repr__\n",
      "    return f\"Stage: '{self.addressing}'\"\n",
      "  File \"/home/dave/.conda/envs/dvc/lib/python3.8/site-packages/dvc/stage/__init__.py\", line 635, in addressing\n",
      "    if self.path and self.relpath == PIPELINE_FILE:\n",
      "  File \"/home/dave/.conda/envs/dvc/lib/python3.8/site-packages/funcy/objects.py\", line 28, in __get__\n",
      "    res = instance.__dict__[self.fget.__name__] = self.fget(instance)\n",
      "  File \"/home/dave/.conda/envs/dvc/lib/python3.8/site-packages/dvc/stage/__init__.py\", line 195, in relpath\n",
      "    return relpath(self.path)\n",
      "  File \"/home/dave/.conda/envs/dvc/lib/python3.8/site-packages/dvc/utils/__init__.py\", line 321, in relpath\n",
      "    start = os.path.abspath(os.fspath(start))\n",
      "  File \"/home/dave/.conda/envs/dvc/lib/python3.8/posixpath.py\", line 379, in abspath\n",
      "    cwd = os.getcwd()\n",
      "FileNotFoundError: [Errno 2] No such file or directory\n",
      "\n",
      "During handling of the above exception, another exception occurred:\n",
      "\n",
      "Traceback (most recent call last):\n",
      "  File \"/home/dave/.conda/envs/dvc/lib/python3.8/site-packages/dvc/main.py\", line 90, in main\n",
      "    ret = cmd.run()\n",
      "  File \"/home/dave/.conda/envs/dvc/lib/python3.8/site-packages/dvc/command/experiments.py\", line 462, in run\n",
      "    self.repo.experiments.run(\n",
      "  File \"/home/dave/.conda/envs/dvc/lib/python3.8/site-packages/dvc/repo/experiments/__init__.py\", line 980, in run\n",
      "    return run(self.repo, *args, **kwargs)\n",
      "  File \"/home/dave/.conda/envs/dvc/lib/python3.8/site-packages/dvc/repo/__init__.py\", line 54, in wrapper\n",
      "    return f(repo, *args, **kwargs)\n",
      "  File \"/home/dave/.conda/envs/dvc/lib/python3.8/site-packages/dvc/repo/experiments/run.py\", line 54, in run\n",
      "    return repo.experiments.reproduce_queued(jobs=jobs)\n",
      "  File \"/home/dave/.conda/envs/dvc/lib/python3.8/site-packages/dvc/repo/experiments/__init__.py\", line 427, in reproduce_queued\n",
      "    results = self.reproduce(**kwargs)\n",
      "  File \"/home/dave/.conda/envs/dvc/lib/python3.8/site-packages/dvc/repo/experiments/__init__.py\", line 38, in wrapper\n",
      "    return f(exp, *args, **kwargs)\n",
      "  File \"/home/dave/.conda/envs/dvc/lib/python3.8/site-packages/dvc/repo/experiments/__init__.py\", line 594, in reproduce\n",
      "    exec_results = self._reproduce(executors, **kwargs)\n",
      "  File \"/home/dave/.conda/envs/dvc/lib/python3.8/site-packages/dvc/repo/experiments/__init__.py\", line 661, in _reproduce\n",
      "    logger.exception(\n",
      "  File \"/home/dave/.conda/envs/dvc/lib/python3.8/logging/__init__.py\", line 1469, in exception\n",
      "    self.error(msg, *args, exc_info=exc_info, **kwargs)\n",
      "  File \"/home/dave/.conda/envs/dvc/lib/python3.8/logging/__init__.py\", line 1463, in error\n",
      "    self._log(ERROR, msg, args, **kwargs)\n",
      "  File \"/home/dave/.conda/envs/dvc/lib/python3.8/logging/__init__.py\", line 1577, in _log\n",
      "    self.handle(record)\n",
      "  File \"/home/dave/.conda/envs/dvc/lib/python3.8/logging/__init__.py\", line 1587, in handle\n",
      "    self.callHandlers(record)\n",
      "  File \"/home/dave/.conda/envs/dvc/lib/python3.8/logging/__init__.py\", line 1649, in callHandlers\n",
      "    hdlr.handle(record)\n",
      "  File \"/home/dave/.conda/envs/dvc/lib/python3.8/logging/__init__.py\", line 950, in handle\n",
      "    self.emit(record)\n",
      "  File \"/home/dave/.conda/envs/dvc/lib/python3.8/site-packages/dvc/logger.py\", line 142, in emit\n",
      "    self.handleError(record)\n",
      "  File \"/home/dave/.conda/envs/dvc/lib/python3.8/site-packages/dvc/logger.py\", line 129, in handleError\n",
      "    raise LoggingException(record)\n",
      "dvc.logger.LoggingException: failed to log <LogRecord: dvc.repo.experiments, 40, /home/dave/.conda/envs/dvc/lib/python3.8/site-packages/dvc/repo/experiments/__init__.py, 661, \"Failed to reproduce experiment '%s'\">\n",
      "\n",
      "During handling of the above exception, another exception occurred:\n",
      "\n",
      "Traceback (most recent call last):\n",
      "  File \"/home/dave/.conda/envs/dvc/bin/dvc\", line 8, in <module>\n",
      "    sys.exit(main())\n",
      "  File \"/home/dave/.conda/envs/dvc/lib/python3.8/site-packages/dvc/main.py\", line 119, in main\n",
      "    dvc_info = get_dvc_info()\n",
      "  File \"/home/dave/.conda/envs/dvc/lib/python3.8/site-packages/dvc/info.py\", line 37, in get_dvc_info\n",
      "    repo = Repo()\n",
      "  File \"/home/dave/.conda/envs/dvc/lib/python3.8/site-packages/dvc/repo/__init__.py\", line 136, in __init__\n",
      "    self.root_dir, self.dvc_dir, self.tmp_dir = self._get_repo_dirs(\n",
      "  File \"/home/dave/.conda/envs/dvc/lib/python3.8/site-packages/dvc/repo/__init__.py\", line 100, in _get_repo_dirs\n",
      "    root_dir = self.find_root(root_dir, tree)\n",
      "  File \"/home/dave/.conda/envs/dvc/lib/python3.8/site-packages/dvc/repo/__init__.py\", line 206, in find_root\n",
      "    root_dir = os.path.realpath(root or os.curdir)\n",
      "  File \"/home/dave/.conda/envs/dvc/lib/python3.8/posixpath.py\", line 392, in realpath\n",
      "    return abspath(path)\n",
      "  File \"/home/dave/.conda/envs/dvc/lib/python3.8/posixpath.py\", line 379, in abspath\n",
      "    cwd = os.getcwd()\n",
      "FileNotFoundError: [Errno 2] No such file or directory\n"
     ]
    },
    {
     "ename": "CalledProcessError",
     "evalue": "Command 'b'dvc exp run --run-all\\n'' returned non-zero exit status 1.",
     "output_type": "error",
     "traceback": [
      "\u001b[0;31m--------------------------------------------------------------------------\u001b[0m",
      "\u001b[0;31mCalledProcessError\u001b[0m                       Traceback (most recent call last)",
      "\u001b[0;32m<ipython-input-10-a2ef4bb8efb4>\u001b[0m in \u001b[0;36m<module>\u001b[0;34m\u001b[0m\n\u001b[0;32m----> 1\u001b[0;31m \u001b[0mget_ipython\u001b[0m\u001b[0;34m(\u001b[0m\u001b[0;34m)\u001b[0m\u001b[0;34m.\u001b[0m\u001b[0mrun_cell_magic\u001b[0m\u001b[0;34m(\u001b[0m\u001b[0;34m'bash'\u001b[0m\u001b[0;34m,\u001b[0m \u001b[0;34m''\u001b[0m\u001b[0;34m,\u001b[0m \u001b[0;34m'dvc exp run --run-all\\n'\u001b[0m\u001b[0;34m)\u001b[0m\u001b[0;34m\u001b[0m\u001b[0;34m\u001b[0m\u001b[0m\n\u001b[0m",
      "\u001b[0;32m~/.conda/envs/dvc/lib/python3.8/site-packages/IPython/core/interactiveshell.py\u001b[0m in \u001b[0;36mrun_cell_magic\u001b[0;34m(self, magic_name, line, cell)\u001b[0m\n\u001b[1;32m   2380\u001b[0m             \u001b[0;32mwith\u001b[0m \u001b[0mself\u001b[0m\u001b[0;34m.\u001b[0m\u001b[0mbuiltin_trap\u001b[0m\u001b[0;34m:\u001b[0m\u001b[0;34m\u001b[0m\u001b[0;34m\u001b[0m\u001b[0m\n\u001b[1;32m   2381\u001b[0m                 \u001b[0margs\u001b[0m \u001b[0;34m=\u001b[0m \u001b[0;34m(\u001b[0m\u001b[0mmagic_arg_s\u001b[0m\u001b[0;34m,\u001b[0m \u001b[0mcell\u001b[0m\u001b[0;34m)\u001b[0m\u001b[0;34m\u001b[0m\u001b[0;34m\u001b[0m\u001b[0m\n\u001b[0;32m-> 2382\u001b[0;31m                 \u001b[0mresult\u001b[0m \u001b[0;34m=\u001b[0m \u001b[0mfn\u001b[0m\u001b[0;34m(\u001b[0m\u001b[0;34m*\u001b[0m\u001b[0margs\u001b[0m\u001b[0;34m,\u001b[0m \u001b[0;34m**\u001b[0m\u001b[0mkwargs\u001b[0m\u001b[0;34m)\u001b[0m\u001b[0;34m\u001b[0m\u001b[0;34m\u001b[0m\u001b[0m\n\u001b[0m\u001b[1;32m   2383\u001b[0m             \u001b[0;32mreturn\u001b[0m \u001b[0mresult\u001b[0m\u001b[0;34m\u001b[0m\u001b[0;34m\u001b[0m\u001b[0m\n\u001b[1;32m   2384\u001b[0m \u001b[0;34m\u001b[0m\u001b[0m\n",
      "\u001b[0;32m~/.conda/envs/dvc/lib/python3.8/site-packages/IPython/core/magics/script.py\u001b[0m in \u001b[0;36mnamed_script_magic\u001b[0;34m(line, cell)\u001b[0m\n\u001b[1;32m    140\u001b[0m             \u001b[0;32melse\u001b[0m\u001b[0;34m:\u001b[0m\u001b[0;34m\u001b[0m\u001b[0;34m\u001b[0m\u001b[0m\n\u001b[1;32m    141\u001b[0m                 \u001b[0mline\u001b[0m \u001b[0;34m=\u001b[0m \u001b[0mscript\u001b[0m\u001b[0;34m\u001b[0m\u001b[0;34m\u001b[0m\u001b[0m\n\u001b[0;32m--> 142\u001b[0;31m             \u001b[0;32mreturn\u001b[0m \u001b[0mself\u001b[0m\u001b[0;34m.\u001b[0m\u001b[0mshebang\u001b[0m\u001b[0;34m(\u001b[0m\u001b[0mline\u001b[0m\u001b[0;34m,\u001b[0m \u001b[0mcell\u001b[0m\u001b[0;34m)\u001b[0m\u001b[0;34m\u001b[0m\u001b[0;34m\u001b[0m\u001b[0m\n\u001b[0m\u001b[1;32m    143\u001b[0m \u001b[0;34m\u001b[0m\u001b[0m\n\u001b[1;32m    144\u001b[0m         \u001b[0;31m# write a basic docstring:\u001b[0m\u001b[0;34m\u001b[0m\u001b[0;34m\u001b[0m\u001b[0;34m\u001b[0m\u001b[0m\n",
      "\u001b[0;32m<decorator-gen-103>\u001b[0m in \u001b[0;36mshebang\u001b[0;34m(self, line, cell)\u001b[0m\n",
      "\u001b[0;32m~/.conda/envs/dvc/lib/python3.8/site-packages/IPython/core/magic.py\u001b[0m in \u001b[0;36m<lambda>\u001b[0;34m(f, *a, **k)\u001b[0m\n\u001b[1;32m    185\u001b[0m     \u001b[0;31m# but it's overkill for just that one bit of state.\u001b[0m\u001b[0;34m\u001b[0m\u001b[0;34m\u001b[0m\u001b[0;34m\u001b[0m\u001b[0m\n\u001b[1;32m    186\u001b[0m     \u001b[0;32mdef\u001b[0m \u001b[0mmagic_deco\u001b[0m\u001b[0;34m(\u001b[0m\u001b[0marg\u001b[0m\u001b[0;34m)\u001b[0m\u001b[0;34m:\u001b[0m\u001b[0;34m\u001b[0m\u001b[0;34m\u001b[0m\u001b[0m\n\u001b[0;32m--> 187\u001b[0;31m         \u001b[0mcall\u001b[0m \u001b[0;34m=\u001b[0m \u001b[0;32mlambda\u001b[0m \u001b[0mf\u001b[0m\u001b[0;34m,\u001b[0m \u001b[0;34m*\u001b[0m\u001b[0ma\u001b[0m\u001b[0;34m,\u001b[0m \u001b[0;34m**\u001b[0m\u001b[0mk\u001b[0m\u001b[0;34m:\u001b[0m \u001b[0mf\u001b[0m\u001b[0;34m(\u001b[0m\u001b[0;34m*\u001b[0m\u001b[0ma\u001b[0m\u001b[0;34m,\u001b[0m \u001b[0;34m**\u001b[0m\u001b[0mk\u001b[0m\u001b[0;34m)\u001b[0m\u001b[0;34m\u001b[0m\u001b[0;34m\u001b[0m\u001b[0m\n\u001b[0m\u001b[1;32m    188\u001b[0m \u001b[0;34m\u001b[0m\u001b[0m\n\u001b[1;32m    189\u001b[0m         \u001b[0;32mif\u001b[0m \u001b[0mcallable\u001b[0m\u001b[0;34m(\u001b[0m\u001b[0marg\u001b[0m\u001b[0;34m)\u001b[0m\u001b[0;34m:\u001b[0m\u001b[0;34m\u001b[0m\u001b[0;34m\u001b[0m\u001b[0m\n",
      "\u001b[0;32m~/.conda/envs/dvc/lib/python3.8/site-packages/IPython/core/magics/script.py\u001b[0m in \u001b[0;36mshebang\u001b[0;34m(self, line, cell)\u001b[0m\n\u001b[1;32m    243\u001b[0m             \u001b[0msys\u001b[0m\u001b[0;34m.\u001b[0m\u001b[0mstderr\u001b[0m\u001b[0;34m.\u001b[0m\u001b[0mflush\u001b[0m\u001b[0;34m(\u001b[0m\u001b[0;34m)\u001b[0m\u001b[0;34m\u001b[0m\u001b[0;34m\u001b[0m\u001b[0m\n\u001b[1;32m    244\u001b[0m         \u001b[0;32mif\u001b[0m \u001b[0margs\u001b[0m\u001b[0;34m.\u001b[0m\u001b[0mraise_error\u001b[0m \u001b[0;32mand\u001b[0m \u001b[0mp\u001b[0m\u001b[0;34m.\u001b[0m\u001b[0mreturncode\u001b[0m\u001b[0;34m!=\u001b[0m\u001b[0;36m0\u001b[0m\u001b[0;34m:\u001b[0m\u001b[0;34m\u001b[0m\u001b[0;34m\u001b[0m\u001b[0m\n\u001b[0;32m--> 245\u001b[0;31m             \u001b[0;32mraise\u001b[0m \u001b[0mCalledProcessError\u001b[0m\u001b[0;34m(\u001b[0m\u001b[0mp\u001b[0m\u001b[0;34m.\u001b[0m\u001b[0mreturncode\u001b[0m\u001b[0;34m,\u001b[0m \u001b[0mcell\u001b[0m\u001b[0;34m,\u001b[0m \u001b[0moutput\u001b[0m\u001b[0;34m=\u001b[0m\u001b[0mout\u001b[0m\u001b[0;34m,\u001b[0m \u001b[0mstderr\u001b[0m\u001b[0;34m=\u001b[0m\u001b[0merr\u001b[0m\u001b[0;34m)\u001b[0m\u001b[0;34m\u001b[0m\u001b[0;34m\u001b[0m\u001b[0m\n\u001b[0m\u001b[1;32m    246\u001b[0m \u001b[0;34m\u001b[0m\u001b[0m\n\u001b[1;32m    247\u001b[0m     \u001b[0;32mdef\u001b[0m \u001b[0m_run_script\u001b[0m\u001b[0;34m(\u001b[0m\u001b[0mself\u001b[0m\u001b[0;34m,\u001b[0m \u001b[0mp\u001b[0m\u001b[0;34m,\u001b[0m \u001b[0mcell\u001b[0m\u001b[0;34m,\u001b[0m \u001b[0mto_close\u001b[0m\u001b[0;34m)\u001b[0m\u001b[0;34m:\u001b[0m\u001b[0;34m\u001b[0m\u001b[0;34m\u001b[0m\u001b[0m\n",
      "\u001b[0;31mCalledProcessError\u001b[0m: Command 'b'dvc exp run --run-all\\n'' returned non-zero exit status 1."
     ]
    }
   ],
   "source": [
    "%%bash\n",
    "dvc exp run --run-all"
   ]
  },
  {
   "cell_type": "markdown",
   "metadata": {},
   "source": [
    "### Checkpoints\n",
    "\n",
    "Use checkpoints to periodically save the model during training (as shown above), and to resume training from previously saved state.\n",
    "\n",
    "**NOTE:** Using `dvc exp checkout` does not cause checkpoints to resume from that experiment. Instead, the latest experiment seems to be used."
   ]
  },
  {
   "cell_type": "code",
   "execution_count": 11,
   "metadata": {},
   "outputs": [
    {
     "name": "stdout",
     "output_type": "stream",
     "text": [
      "Changes for experiment 'e2ffa86' have been applied to your current workspace.\n"
     ]
    }
   ],
   "source": [
    "%%bash\n",
    "dvc exp checkout e2ffa86"
   ]
  },
  {
   "cell_type": "code",
   "execution_count": 13,
   "metadata": {},
   "outputs": [
    {
     "name": "stdout",
     "output_type": "stream",
     "text": [
      "Stage 'download' didn't change, skipping\n",
      "Running stage 'train' with command:\n",
      "\tpython train.py\n",
      "Updating lock file 'dvc.lock'\n",
      "Checkpoint experiment iteration '6f0e255'.\n",
      "Updating lock file 'dvc.lock'\n",
      "Checkpoint experiment iteration 'c365431'.\n",
      "Reproduced experiment 'c365431'.\n"
     ]
    }
   ],
   "source": [
    "%%bash\n",
    "dvc exp res"
   ]
  },
  {
   "cell_type": "code",
   "execution_count": 15,
   "metadata": {},
   "outputs": [
    {
     "name": "stdout",
     "output_type": "stream",
     "text": [
      "┏━━━━━━━━━━━━━━┳━━━━━━━━━━┳━━━━━━━━┳━━━━━━━━┳━━━━━━━┳━━━━━━━━━━━━━━┓\n",
      "┃ Experiment   ┃ Created  ┃    acc ┃   loss ┃ lr    ┃ weight_decay ┃\n",
      "┡━━━━━━━━━━━━━━╇━━━━━━━━━━╇━━━━━━━━╇━━━━━━━━╇━━━━━━━╇━━━━━━━━━━━━━━┩\n",
      "│ workspace    │ -        │ 0.2381 │ 2.2053 │ 0.001 │ 0.1          │\n",
      "│ queue        │ 05:50 PM │      - │      - │ 0.001 │ 0            │\n",
      "│ │ ╓ c365431  │ 05:53 PM │ 0.2381 │ 2.2053 │ 0.001 │ 0.1          │\n",
      "│ │ ╟ 6f0e255  │ 05:53 PM │ 0.1737 │ 2.2443 │ 0.001 │ 0.1          │\n",
      "│ │ ╟ 0344357  │ 05:51 PM │ 0.1734 │ 2.2749 │ 0.001 │ 0.1          │\n",
      "│ ├─╨ 19ebc1a  │ 05:51 PM │ 0.1458 │ 2.2951 │ 0.001 │ 0.1          │\n",
      "│ │ ╓ e2ffa86  │ 05:50 PM │ 0.4525 │ 2.1344 │ 0.001 │ 0            │\n",
      "│ ├─╨ b5b98cd  │ 05:50 PM │ 0.3122 │ 2.2351 │ 0.001 │ 0            │\n",
      "│ ├── *9d44f85 │ 05:52 PM │      - │      - │ 0.1   │ 0            │\n",
      "│ └── *408a8a1 │ 05:52 PM │      - │      - │ 0.01  │ 0            │\n",
      "└──────────────┴──────────┴────────┴────────┴───────┴──────────────┘\n"
     ]
    }
   ],
   "source": [
    "%%bash\n",
    "dvc exp show --sort-by acc"
   ]
  }
 ],
 "metadata": {
  "kernelspec": {
   "display_name": "Python 3",
   "language": "python",
   "name": "python3"
  },
  "language_info": {
   "codemirror_mode": {
    "name": "ipython",
    "version": 3
   },
   "file_extension": ".py",
   "mimetype": "text/x-python",
   "name": "python",
   "nbconvert_exporter": "python",
   "pygments_lexer": "ipython3",
   "version": "3.8.5"
  }
 },
 "nbformat": 4,
 "nbformat_minor": 4
}
