{
 "cells": [
  {
   "cell_type": "markdown",
   "metadata": {},
   "source": [
    "This notebook shows how to use [dvc](https://dvc.org/) [experiments](https://github.com/iterative/dvc/wiki/Experiments) in model development. This example uses the [MNIST](http://yann.lecun.com/exdb/mnist/) data of handwritten digits and builds a classification model to predict the digit (0-9) in each image. The model is built in [pytorch](https://pytorch.org/) as a convolutional neural network with a simplified architecture, which should be able to quickly run on most computers."
   ]
  },
  {
   "cell_type": "markdown",
   "metadata": {},
   "source": [
    "### Get started\n",
    "\n",
    "To get started, clone this repository and navigate to it.\n",
    "\n",
    "The only other prerequisite is [conda](https://docs.conda.io/projects/conda/en/latest/user-guide/install/). Once conda is installed, create a virtual environment from the existing `environment.yaml` file and activate it:\n",
    "\n",
    "```bash\n",
    "conda env create -f environment.yml\n",
    "conda activate dvc\n",
    "```\n",
    "\n",
    "If you want to run this notebook directly, do so after activating the conda environment.\n",
    "\n",
    "Finally, initialize dvc and enable the experiments feature:"
   ]
  },
  {
   "cell_type": "code",
   "execution_count": 1,
   "metadata": {},
   "outputs": [
    {
     "name": "stdout",
     "output_type": "stream",
     "text": [
      "\n",
      "You can now commit the changes to git.\n",
      "\n",
      "+---------------------------------------------------------------------+\n",
      "|                                                                     |\n",
      "|        DVC has enabled anonymous aggregate usage analytics.         |\n",
      "|     Read the analytics documentation (and how to opt-out) here:     |\n",
      "|             <https://dvc.org/doc/user-guide/analytics>              |\n",
      "|                                                                     |\n",
      "+---------------------------------------------------------------------+\n",
      "\n",
      "What's next?\n",
      "------------\n",
      "- Check out the documentation: <https://dvc.org/doc>\n",
      "- Get help and share ideas: <https://dvc.org/chat>\n",
      "- Star us on GitHub: <https://github.com/iterative/dvc>\n"
     ]
    }
   ],
   "source": [
    "%%bash\n",
    "dvc init\n",
    "dvc config --global core.experiments true"
   ]
  },
  {
   "cell_type": "markdown",
   "metadata": {},
   "source": [
    "### Establish the pipeline DAG\n",
    "\n",
    "Before experimenting, a dvc pipeline must be established (see the docs if you are new to dvc). Review the contents of `dvc.yaml` below to see the pipeline."
   ]
  },
  {
   "cell_type": "code",
   "execution_count": 2,
   "metadata": {},
   "outputs": [
    {
     "name": "stdout",
     "output_type": "stream",
     "text": [
      "stages:\n",
      "  download:\n",
      "    cmd: python download.py\n",
      "    deps:\n",
      "    - download.py\n",
      "    outs:\n",
      "    - data/MNIST\n",
      "  train:\n",
      "    cmd: python train.py\n",
      "    deps:\n",
      "    - data/MNIST\n",
      "    - train.py\n",
      "    params:\n",
      "    - lr\n",
      "    - weight_decay\n",
      "    outs:\n",
      "    - model.pt:\n",
      "        checkpoint: true\n",
      "    metrics:\n",
      "    - metrics.yaml\n"
     ]
    }
   ],
   "source": [
    "%%bash\n",
    "cat dvc.yaml"
   ]
  },
  {
   "cell_type": "markdown",
   "metadata": {},
   "source": [
    "The download stage gets the data using the `download.py` script. The train stage performs model training and evaluation on the downloaded data using the `train.py` script. The train stage uses the lr and weight_decay metrics defined in `params.yaml`. The model output is saved to `model.pt`, and the metrics are saved to `metrics.yaml`.\n",
    "\n",
    "Execute the download stage to get the data."
   ]
  },
  {
   "cell_type": "code",
   "execution_count": 3,
   "metadata": {},
   "outputs": [
    {
     "name": "stdout",
     "output_type": "stream",
     "text": [
      "Running stage 'download' with command:\n",
      "\tpython download.py\n",
      "Downloading http://yann.lecun.com/exdb/mnist/train-images-idx3-ubyte.gz to data/MNIST/raw/train-images-idx3-ubyte.gz\n",
      "Extracting data/MNIST/raw/train-images-idx3-ubyte.gz to data/MNIST/raw\n",
      "Downloading http://yann.lecun.com/exdb/mnist/train-labels-idx1-ubyte.gz to data/MNIST/raw/train-labels-idx1-ubyte.gz\n",
      "Extracting data/MNIST/raw/train-labels-idx1-ubyte.gz to data/MNIST/raw\n",
      "Downloading http://yann.lecun.com/exdb/mnist/t10k-images-idx3-ubyte.gz to data/MNIST/raw/t10k-images-idx3-ubyte.gz\n",
      "Extracting data/MNIST/raw/t10k-images-idx3-ubyte.gz to data/MNIST/raw\n",
      "Downloading http://yann.lecun.com/exdb/mnist/t10k-labels-idx1-ubyte.gz to data/MNIST/raw/t10k-labels-idx1-ubyte.gz\n",
      "Extracting data/MNIST/raw/t10k-labels-idx1-ubyte.gz to data/MNIST/raw\n",
      "Processing...\n",
      "Done!\n",
      "Generating lock file 'dvc.lock'\n",
      "Updating lock file 'dvc.lock'\n",
      "\n",
      "To track the changes with git, run:\n",
      "\n",
      "\tgit add data/.gitignore dvc.lock\n",
      "Use `dvc push` to send your updates to remote storage.\n"
     ]
    },
    {
     "name": "stderr",
     "output_type": "stream",
     "text": [
      "\r",
      "0it [00:00, ?it/s]\r",
      "  0%|          | 0/9912422 [00:00<?, ?it/s]\r",
      "  2%|▏         | 196608/9912422 [00:00<00:05, 1898870.12it/s]\r",
      "  7%|▋         | 671744/9912422 [00:00<00:04, 2309961.21it/s]\r",
      " 12%|█▏        | 1146880/9912422 [00:00<00:03, 2711486.32it/s]\r",
      " 16%|█▌        | 1605632/9912422 [00:00<00:02, 3079346.11it/s]\r",
      " 22%|██▏       | 2187264/9912422 [00:00<00:02, 3574418.28it/s]\r",
      " 29%|██▉       | 2850816/9912422 [00:00<00:01, 4135211.29it/s]\r",
      " 36%|███▌      | 3522560/9912422 [00:00<00:01, 4670442.26it/s]\r",
      " 42%|████▏     | 4145152/9912422 [00:00<00:01, 5042532.08it/s]\r",
      " 48%|████▊     | 4710400/9912422 [00:01<00:01, 4808529.78it/s]\r",
      " 53%|█████▎    | 5234688/9912422 [00:01<00:00, 4912491.21it/s]\r",
      " 59%|█████▊    | 5799936/9912422 [00:01<00:00, 5083955.24it/s]\r",
      " 65%|██████▍   | 6438912/9912422 [00:01<00:00, 5415860.95it/s]\r",
      " 71%|███████   | 7004160/9912422 [00:01<00:00, 5070727.80it/s]\r",
      " 78%|███████▊  | 7749632/9912422 [00:01<00:00, 5587380.47it/s]\r",
      " 84%|████████▍ | 8339456/9912422 [00:01<00:00, 5366730.58it/s]\r",
      " 91%|█████████ | 9019392/9912422 [00:01<00:00, 5705626.98it/s]\r",
      " 97%|█████████▋| 9617408/9912422 [00:01<00:00, 5665678.80it/s]\r",
      "9920512it [00:02, 4331193.65it/s]                             \n",
      "\r",
      "0it [00:00, ?it/s]\r",
      "  0%|          | 0/28881 [00:00<?, ?it/s]\n",
      "\r",
      "0it [00:00, ?it/s]\u001b[A\n",
      "\r",
      "  0%|          | 0/1648877 [00:00<?, ?it/s]\u001b[A\n",
      "\r",
      " 15%|█▌        | 253952/1648877 [00:00<00:00, 2504430.66it/s]\u001b[A\n",
      "\r",
      " 48%|████▊     | 794624/1648877 [00:00<00:00, 2984246.52it/s]\u001b[A\n",
      "\r",
      " 82%|████████▏ | 1359872/1648877 [00:00<00:00, 3462807.98it/s]\u001b[A\n",
      "\n",
      "\r",
      "0it [00:00, ?it/s]\u001b[A\u001b[A\n",
      "\n",
      "\r",
      "  0%|          | 0/4542 [00:00<?, ?it/s]\u001b[A\u001b[A/home/dave/.conda/envs/dvc/lib/python3.8/site-packages/torchvision/datasets/mnist.py:480: UserWarning: The given NumPy array is not writeable, and PyTorch does not support non-writeable tensors. This means you can write to the underlying (supposedly non-writeable) NumPy array using the tensor. You may want to copy the array to protect its data or make it writeable before converting it to a tensor. This type of warning will be suppressed for the rest of this program. (Triggered internally at  /opt/conda/conda-bld/pytorch_1603729002806/work/torch/csrc/utils/tensor_numpy.cpp:141.)\n",
      "  return torch.from_numpy(parsed.astype(m[2], copy=False)).view(*s)\n",
      "\r",
      "1654784it [00:00, 2011229.10it/s]                             \n",
      "\r",
      "8192it [00:00, 31036.11it/s]            \n",
      "\r",
      "32768it [00:00, 32930.16it/s]            "
     ]
    }
   ],
   "source": [
    "%%bash\n",
    "dvc repro download"
   ]
  },
  {
   "cell_type": "markdown",
   "metadata": {},
   "source": [
    "**IMPORTANT:** Be sure to run the `git add` command above and also `git commit` before running experiments. Anytime you modify the pipeline, be sure to `dvc repro` and track changes with git before running experiments."
   ]
  },
  {
   "cell_type": "code",
   "execution_count": 4,
   "metadata": {},
   "outputs": [
    {
     "name": "stdout",
     "output_type": "stream",
     "text": [
      "[checkpoint_only 14d8c3b] download data\n",
      " 1 file changed, 1 insertion(+), 1 deletion(-)\n"
     ]
    }
   ],
   "source": [
    "%%bash\n",
    "git add dvc.lock data/.gitignore\n",
    "git commit -m \"download data\""
   ]
  },
  {
   "cell_type": "markdown",
   "metadata": {},
   "source": [
    "### Run an experiment\n",
    "\n",
    "Run an experiment with the default parameters defined in `params.yaml`."
   ]
  },
  {
   "cell_type": "code",
   "execution_count": 5,
   "metadata": {},
   "outputs": [
    {
     "name": "stdout",
     "output_type": "stream",
     "text": [
      "Stage 'download' didn't change, skipping\n",
      "Running stage 'train' with command:\n",
      "\tpython train.py\n",
      "Updating lock file 'dvc.lock'\n",
      "Checkpoint experiment iteration '442c72c'.\n",
      "Updating lock file 'dvc.lock'\n",
      "Checkpoint experiment iteration '5b61485'.\n",
      "Reproduced experiment '5b61485'.\n"
     ]
    }
   ],
   "source": [
    "%%bash\n",
    "dvc exp run"
   ]
  },
  {
   "cell_type": "markdown",
   "metadata": {},
   "source": [
    "Review the output of the run, including identifying hashes, metrics, and parameters:"
   ]
  },
  {
   "cell_type": "code",
   "execution_count": 7,
   "metadata": {},
   "outputs": [
    {
     "name": "stdout",
     "output_type": "stream",
     "text": [
      "┏━━━━━━━━━━━━━━━━━┳━━━━━━━━━━┳━━━━━━━━┳━━━━━━━━┳━━━━━━━┳━━━━━━━━━━━━━━┓\n",
      "┃ Experiment      ┃ Created  ┃    acc ┃   loss ┃ lr    ┃ weight_decay ┃\n",
      "┡━━━━━━━━━━━━━━━━━╇━━━━━━━━━━╇━━━━━━━━╇━━━━━━━━╇━━━━━━━╇━━━━━━━━━━━━━━┩\n",
      "│ workspace       │ -        │ 0.1292 │ 2.2936 │ 0.001 │ 0            │\n",
      "│ checkpoint_only │ 03:32 PM │      - │      - │ 0.001 │ 0            │\n",
      "│ │ ╓ 5b61485     │ 03:32 PM │ 0.1292 │ 2.2936 │ 0.001 │ 0            │\n",
      "│ ├─╨ 442c72c     │ 03:32 PM │  0.101 │ 2.2998 │ 0.001 │ 0            │\n",
      "└─────────────────┴──────────┴────────┴────────┴───────┴──────────────┘\n"
     ]
    }
   ],
   "source": [
    "%%bash\n",
    "dvc exp show"
   ]
  },
  {
   "cell_type": "markdown",
   "metadata": {},
   "source": [
    "Note that two experiments were run. These are checkpoints for the run. It's not necessary to have checkpoints for experiments, but they can be helpful for models that may be run for a number of epochs. See below for more information about how checkpoints work."
   ]
  },
  {
   "cell_type": "markdown",
   "metadata": {},
   "source": [
    "### Experiment with different parameters\n",
    "\n",
    "Experiments can be run and compared with different parameters."
   ]
  },
  {
   "cell_type": "code",
   "execution_count": 8,
   "metadata": {},
   "outputs": [
    {
     "name": "stdout",
     "output_type": "stream",
     "text": [
      "Stage 'download' didn't change, skipping\n",
      "Running stage 'train' with command:\n",
      "\tpython train.py\n",
      "Updating lock file 'dvc.lock'\n",
      "Checkpoint experiment iteration '6c1e6bd'.\n",
      "Updating lock file 'dvc.lock'\n",
      "Checkpoint experiment iteration '5ed8c14'.\n",
      "Reproduced experiment '5ed8c14'.\n"
     ]
    }
   ],
   "source": [
    "%%bash\n",
    "dvc exp run --params weight_decay=0.1"
   ]
  },
  {
   "cell_type": "code",
   "execution_count": 9,
   "metadata": {},
   "outputs": [
    {
     "name": "stdout",
     "output_type": "stream",
     "text": [
      "┏━━━━━━━━━━━━━━━━━┳━━━━━━━━━━┳━━━━━━━━┳━━━━━━━━┳━━━━━━━┳━━━━━━━━━━━━━━┓\n",
      "┃ Experiment      ┃ Created  ┃    acc ┃   loss ┃ lr    ┃ weight_decay ┃\n",
      "┡━━━━━━━━━━━━━━━━━╇━━━━━━━━━━╇━━━━━━━━╇━━━━━━━━╇━━━━━━━╇━━━━━━━━━━━━━━┩\n",
      "│ workspace       │ -        │ 0.1933 │ 2.2893 │ 0.001 │ 0.1          │\n",
      "│ checkpoint_only │ 03:32 PM │      - │      - │ 0.001 │ 0            │\n",
      "│ │ ╓ 5ed8c14     │ 03:33 PM │ 0.1933 │ 2.2893 │ 0.001 │ 0.1          │\n",
      "│ ├─╨ 6c1e6bd     │ 03:33 PM │  0.183 │ 2.2972 │ 0.001 │ 0.1          │\n",
      "│ │ ╓ 5b61485     │ 03:32 PM │ 0.1292 │ 2.2936 │ 0.001 │ 0            │\n",
      "│ ├─╨ 442c72c     │ 03:32 PM │  0.101 │ 2.2998 │ 0.001 │ 0            │\n",
      "└─────────────────┴──────────┴────────┴────────┴───────┴──────────────┘\n"
     ]
    }
   ],
   "source": [
    "%%bash\n",
    "dvc exp show"
   ]
  },
  {
   "cell_type": "markdown",
   "metadata": {},
   "source": [
    "Increasing `weight_decay` helped a bit. Next, try different `lr` parameters.\n",
    "\n",
    "Experiments can be added in bulk to the queue and executed on demand (see the `-j` flag for parallel execution!)."
   ]
  },
  {
   "cell_type": "code",
   "execution_count": 10,
   "metadata": {},
   "outputs": [
    {
     "name": "stdout",
     "output_type": "stream",
     "text": [
      "Queued experiment '50deaf6' for future execution.\n",
      "Queued experiment '928d58d' for future execution.\n"
     ]
    }
   ],
   "source": [
    "%%bash\n",
    "dvc exp run --params lr=0.01 --queue\n",
    "dvc exp run --params lr=0.1 --queue"
   ]
  },
  {
   "cell_type": "code",
   "execution_count": 11,
   "metadata": {},
   "outputs": [
    {
     "name": "stdout",
     "output_type": "stream",
     "text": [
      "┏━━━━━━━━━━━━━━━━━┳━━━━━━━━━━┳━━━━━━━━┳━━━━━━━━┳━━━━━━━┳━━━━━━━━━━━━━━┓\n",
      "┃ Experiment      ┃ Created  ┃    acc ┃   loss ┃ lr    ┃ weight_decay ┃\n",
      "┡━━━━━━━━━━━━━━━━━╇━━━━━━━━━━╇━━━━━━━━╇━━━━━━━━╇━━━━━━━╇━━━━━━━━━━━━━━┩\n",
      "│ workspace       │ -        │ 0.1933 │ 2.2893 │ 0.001 │ 0.1          │\n",
      "│ checkpoint_only │ 03:32 PM │      - │      - │ 0.001 │ 0            │\n",
      "│ │ ╓ 5ed8c14     │ 03:33 PM │ 0.1933 │ 2.2893 │ 0.001 │ 0.1          │\n",
      "│ ├─╨ 6c1e6bd     │ 03:33 PM │  0.183 │ 2.2972 │ 0.001 │ 0.1          │\n",
      "│ │ ╓ 5b61485     │ 03:32 PM │ 0.1292 │ 2.2936 │ 0.001 │ 0            │\n",
      "│ ├─╨ 442c72c     │ 03:32 PM │  0.101 │ 2.2998 │ 0.001 │ 0            │\n",
      "│ ├── *928d58d    │ 03:36 PM │      - │      - │ 0.1   │ 0.1          │\n",
      "│ └── *50deaf6    │ 03:36 PM │      - │      - │ 0.01  │ 0.1          │\n",
      "└─────────────────┴──────────┴────────┴────────┴───────┴──────────────┘\n"
     ]
    }
   ],
   "source": [
    "%%bash\n",
    "dvc exp show"
   ]
  },
  {
   "cell_type": "code",
   "execution_count": 12,
   "metadata": {},
   "outputs": [
    {
     "name": "stdout",
     "output_type": "stream",
     "text": [
      "Stage '../../../../tmp/tmpkgcbkf4q/dvc.yaml:download' didn't change, skipping\n",
      "Running stage '../../../../tmp/tmpkgcbkf4q/dvc.yaml:train' with command:\n",
      "\tpython train.py\n"
     ]
    },
    {
     "name": "stderr",
     "output_type": "stream",
     "text": [
      "ERROR: Failed to reproduce experiment '928d58d' - Stage: '../../../../tmp/tmpkgcbkf4q/dvc.yaml:download'\n",
      "ERROR: Error generating checkpoint, stage: '../../../../tmp/tmpkgcbkf4q/dvc.yaml:train' will be aborted - file path '/home/dave/Code/dvc-exp-mnist' is outside of DVC repo\n",
      "ERROR: Failed to reproduce experiment '50deaf6' - [Errno 2] No such file or directory: '/tmp/tmpq74w6liy'\n"
     ]
    }
   ],
   "source": [
    "%%bash\n",
    "dvc exp run --run-all"
   ]
  },
  {
   "cell_type": "markdown",
   "metadata": {},
   "source": [
    "### Iteratively train using checkpoints\n",
    "\n",
    "Use checkpoints to periodically save the model during training (as shown above), and to resume training from previously saved state. Resume training the experiment with the best accuracy."
   ]
  },
  {
   "cell_type": "code",
   "execution_count": 13,
   "metadata": {},
   "outputs": [
    {
     "name": "stdout",
     "output_type": "stream",
     "text": [
      "┏━━━━━━━━━━━━━━━━━┳━━━━━━━━━━┳━━━━━━━━┳━━━━━━━━┳━━━━━━━┳━━━━━━━━━━━━━━┓\n",
      "┃ Experiment      ┃ Created  ┃    acc ┃   loss ┃ lr    ┃ weight_decay ┃\n",
      "┡━━━━━━━━━━━━━━━━━╇━━━━━━━━━━╇━━━━━━━━╇━━━━━━━━╇━━━━━━━╇━━━━━━━━━━━━━━┩\n",
      "│ workspace       │ -        │ 0.1933 │ 2.2893 │ 0.001 │ 0.1          │\n",
      "│ checkpoint_only │ 03:32 PM │      - │      - │ 0.001 │ 0            │\n",
      "│ │ ╓ 5b61485     │ 03:32 PM │ 0.1292 │ 2.2936 │ 0.001 │ 0            │\n",
      "│ ├─╨ 442c72c     │ 03:32 PM │  0.101 │ 2.2998 │ 0.001 │ 0            │\n",
      "│ │ ╓ 5ed8c14     │ 03:33 PM │ 0.1933 │ 2.2893 │ 0.001 │ 0.1          │\n",
      "│ ├─╨ 6c1e6bd     │ 03:33 PM │  0.183 │ 2.2972 │ 0.001 │ 0.1          │\n",
      "│ ├── *928d58d    │ 03:36 PM │      - │      - │ 0.1   │ 0.1          │\n",
      "│ └── *50deaf6    │ 03:36 PM │      - │      - │ 0.01  │ 0.1          │\n",
      "└─────────────────┴──────────┴────────┴────────┴───────┴──────────────┘\n"
     ]
    }
   ],
   "source": [
    "%%bash\n",
    "dvc exp show --sort-by acc"
   ]
  },
  {
   "cell_type": "code",
   "execution_count": 14,
   "metadata": {},
   "outputs": [
    {
     "name": "stdout",
     "output_type": "stream",
     "text": [
      "Stage 'download' didn't change, skipping\n",
      "Running stage 'train' with command:\n",
      "\tpython train.py\n",
      "Updating lock file 'dvc.lock'\n",
      "Checkpoint experiment iteration '7e5c6cd'.\n",
      "Updating lock file 'dvc.lock'\n",
      "Checkpoint experiment iteration '0f01a80'.\n",
      "Reproduced experiment '0f01a80'.\n"
     ]
    }
   ],
   "source": [
    "%%bash\n",
    "dvc exp res -r 5ed8c14"
   ]
  },
  {
   "cell_type": "code",
   "execution_count": 15,
   "metadata": {},
   "outputs": [
    {
     "name": "stdout",
     "output_type": "stream",
     "text": [
      "┏━━━━━━━━━━━━━━━━━┳━━━━━━━━━━┳━━━━━━━━┳━━━━━━━━┳━━━━━━━┳━━━━━━━━━━━━━━┓\n",
      "┃ Experiment      ┃ Created  ┃    acc ┃   loss ┃ lr    ┃ weight_decay ┃\n",
      "┡━━━━━━━━━━━━━━━━━╇━━━━━━━━━━╇━━━━━━━━╇━━━━━━━━╇━━━━━━━╇━━━━━━━━━━━━━━┩\n",
      "│ workspace       │ -        │ 0.1536 │ 2.2662 │ 0.001 │ 0.1          │\n",
      "│ checkpoint_only │ 03:32 PM │      - │      - │ 0.001 │ 0            │\n",
      "│ │ ╓ 0f01a80     │ 03:37 PM │ 0.1536 │ 2.2662 │ 0.001 │ 0.1          │\n",
      "│ │ ╟ 7e5c6cd     │ 03:36 PM │ 0.2337 │ 2.2796 │ 0.001 │ 0.1          │\n",
      "│ │ ╟ 5ed8c14     │ 03:33 PM │ 0.1933 │ 2.2893 │ 0.001 │ 0.1          │\n",
      "│ ├─╨ 6c1e6bd     │ 03:33 PM │  0.183 │ 2.2972 │ 0.001 │ 0.1          │\n",
      "│ │ ╓ 5b61485     │ 03:32 PM │ 0.1292 │ 2.2936 │ 0.001 │ 0            │\n",
      "│ ├─╨ 442c72c     │ 03:32 PM │  0.101 │ 2.2998 │ 0.001 │ 0            │\n",
      "│ ├── *928d58d    │ 03:36 PM │      - │      - │ 0.1   │ 0.1          │\n",
      "│ └── *50deaf6    │ 03:36 PM │      - │      - │ 0.01  │ 0.1          │\n",
      "└─────────────────┴──────────┴────────┴────────┴───────┴──────────────┘\n"
     ]
    }
   ],
   "source": [
    "%%bash\n",
    "dvc exp show"
   ]
  },
  {
   "cell_type": "markdown",
   "metadata": {},
   "source": [
    "### Persist models\n",
    "\n",
    "Additonal epochs didn't improve accuracy, so commit the model iteration with peak accuracy. Checkout the experiment rev in dvc and then commit to git."
   ]
  },
  {
   "cell_type": "code",
   "execution_count": 16,
   "metadata": {},
   "outputs": [
    {
     "name": "stdout",
     "output_type": "stream",
     "text": [
      "acc: 0.1536\n",
      "loss: 2.2661871910095215\n"
     ]
    },
    {
     "name": "stderr",
     "output_type": "stream",
     "text": [
      "ERROR: Experiment derived from '5ed8c14', expected '14d8c3b'.\n"
     ]
    }
   ],
   "source": [
    "%%bash\n",
    "dvc exp checkout 7e5c6cd\n",
    "cat metrics.yaml"
   ]
  },
  {
   "cell_type": "code",
   "execution_count": null,
   "metadata": {},
   "outputs": [],
   "source": []
  }
 ],
 "metadata": {
  "kernelspec": {
   "display_name": "Python 3",
   "language": "python",
   "name": "python3"
  },
  "language_info": {
   "codemirror_mode": {
    "name": "ipython",
    "version": 3
   },
   "file_extension": ".py",
   "mimetype": "text/x-python",
   "name": "python",
   "nbconvert_exporter": "python",
   "pygments_lexer": "ipython3",
   "version": "3.8.5"
  }
 },
 "nbformat": 4,
 "nbformat_minor": 4
}
