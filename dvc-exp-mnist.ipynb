{
 "cells": [
  {
   "cell_type": "markdown",
   "metadata": {},
   "source": [
    "This notebook shows how to use [dvc](https://dvc.org/) [experiments](https://github.com/iterative/dvc/wiki/Experiments) in model development. This example uses the [MNIST](http://yann.lecun.com/exdb/mnist/) data of handwritten digits and builds a classification model to predict the digit (0-9) in each image. The model is built in [pytorch](https://pytorch.org/) as a convolutional neural network with a simplified architecture, which should be able to quickly run on most computers."
   ]
  },
  {
   "cell_type": "markdown",
   "metadata": {},
   "source": [
    "### Get started\n",
    "\n",
    "To get started, clone this repository and navigate to it.\n",
    "\n",
    "The only other prerequisite is [conda](https://docs.conda.io/projects/conda/en/latest/user-guide/install/). Once conda is installed, create a virtual environment from the existing `environment.yaml` file and activate it:\n",
    "\n",
    "```bash\n",
    "conda env create -f environment.yml\n",
    "conda activate dvc\n",
    "```\n",
    "\n",
    "If you want to run this notebook directly, do so after activating the conda environment.\n",
    "\n",
    "Finally, initialize dvc and enable the experiments feature:"
   ]
  },
  {
   "cell_type": "code",
   "execution_count": 43,
   "metadata": {},
   "outputs": [
    {
     "name": "stdout",
     "output_type": "stream",
     "text": [
      "Initialized DVC repository.\n",
      "\n",
      "You can now commit the changes to git.\n",
      "\n",
      "+---------------------------------------------------------------------+\n",
      "|                                                                     |\n",
      "|        DVC has enabled anonymous aggregate usage analytics.         |\n",
      "|     Read the analytics documentation (and how to opt-out) here:     |\n",
      "|             <https://dvc.org/doc/user-guide/analytics>              |\n",
      "|                                                                     |\n",
      "+---------------------------------------------------------------------+\n",
      "\n",
      "What's next?\n",
      "------------\n",
      "- Check out the documentation: <https://dvc.org/doc>\n",
      "- Get help and share ideas: <https://dvc.org/chat>\n",
      "- Star us on GitHub: <https://github.com/iterative/dvc>\n"
     ]
    }
   ],
   "source": [
    "%%bash\n",
    "dvc init -f\n",
    "dvc config --global core.experiments true"
   ]
  },
  {
   "cell_type": "markdown",
   "metadata": {},
   "source": [
    "### Establish the pipeline DAG\n",
    "\n",
    "Before experimenting, a dvc pipeline must be established (see the docs if you are new to dvc). Review the contents of `dvc.yaml` below to see the pipeline."
   ]
  },
  {
   "cell_type": "code",
   "execution_count": 44,
   "metadata": {},
   "outputs": [
    {
     "name": "stdout",
     "output_type": "stream",
     "text": [
      "stages:\n",
      "  download:\n",
      "    cmd: python download.py\n",
      "    deps:\n",
      "    - download.py\n",
      "    outs:\n",
      "    - data/MNIST\n",
      "  train:\n",
      "    cmd: python train.py\n",
      "    deps:\n",
      "    - data/MNIST\n",
      "    - train.py\n",
      "    params:\n",
      "    - lr\n",
      "    - weight_decay\n",
      "    outs:\n",
      "    - model.pt:\n",
      "        checkpoint: true\n",
      "    metrics:\n",
      "    - metrics.yaml\n"
     ]
    }
   ],
   "source": [
    "%%bash\n",
    "cat dvc.yaml"
   ]
  },
  {
   "cell_type": "markdown",
   "metadata": {},
   "source": [
    "The download stage gets the data using the `download.py` script. The train stage performs model training and evaluation on the downloaded data using the `train.py` script. The train stage uses the lr and weight_decay metrics defined in `params.yaml`. The model output is saved to `model.pt`, and the metrics are saved to `metrics.yaml`.\n",
    "\n",
    "Execute the download stage to get the data."
   ]
  },
  {
   "cell_type": "code",
   "execution_count": 45,
   "metadata": {},
   "outputs": [
    {
     "name": "stdout",
     "output_type": "stream",
     "text": [
      "Running stage 'download':\n",
      "> python download.py\n",
      "Downloading http://yann.lecun.com/exdb/mnist/train-images-idx3-ubyte.gz to data/MNIST/raw/train-images-idx3-ubyte.gz\n",
      "Extracting data/MNIST/raw/train-images-idx3-ubyte.gz to data/MNIST/raw\n",
      "Downloading http://yann.lecun.com/exdb/mnist/train-labels-idx1-ubyte.gz to data/MNIST/raw/train-labels-idx1-ubyte.gz\n",
      "Extracting data/MNIST/raw/train-labels-idx1-ubyte.gz to data/MNIST/raw\n",
      "Downloading http://yann.lecun.com/exdb/mnist/t10k-images-idx3-ubyte.gz to data/MNIST/raw/t10k-images-idx3-ubyte.gz\n",
      "Extracting data/MNIST/raw/t10k-images-idx3-ubyte.gz to data/MNIST/raw\n",
      "Downloading http://yann.lecun.com/exdb/mnist/t10k-labels-idx1-ubyte.gz to data/MNIST/raw/t10k-labels-idx1-ubyte.gz\n",
      "Extracting data/MNIST/raw/t10k-labels-idx1-ubyte.gz to data/MNIST/raw\n",
      "Processing...\n",
      "Done!\n",
      "Migrating lock file 'dvc.lock' from v1 to v2\n",
      "Updating lock file 'dvc.lock'\n",
      "\n",
      "To track the changes with git, run:\n",
      "\n",
      "\tgit add dvc.lock\n",
      "Use `dvc push` to send your updates to remote storage.\n"
     ]
    },
    {
     "name": "stderr",
     "output_type": "stream",
     "text": [
      "\r",
      "0it [00:00, ?it/s]\r",
      "  0%|          | 0/9912422 [00:00<?, ?it/s]\r",
      "  0%|          | 16384/9912422 [00:00<01:06, 149619.47it/s]\r",
      "  1%|          | 81920/9912422 [00:00<00:25, 389935.16it/s]\r",
      "  2%|▏         | 245760/9912422 [00:00<00:12, 801454.96it/s]\r",
      "  4%|▎         | 360448/9912422 [00:00<00:10, 912645.68it/s]\r",
      "  5%|▍         | 450560/9912422 [00:00<00:17, 531958.87it/s]\r",
      "  8%|▊         | 761856/9912422 [00:01<00:08, 1084664.30it/s]\r",
      " 16%|█▌        | 1581056/9912422 [00:01<00:03, 2710814.66it/s]\r",
      " 19%|█▉        | 1925120/9912422 [00:01<00:02, 2767776.42it/s]\r",
      " 23%|██▎       | 2252800/9912422 [00:01<00:02, 2809576.46it/s]\r",
      " 26%|██▌       | 2572288/9912422 [00:01<00:02, 2901928.68it/s]\r",
      " 30%|██▉       | 2957312/9912422 [00:01<00:02, 3109004.18it/s]\r",
      " 34%|███▎      | 3334144/9912422 [00:01<00:02, 3286696.20it/s]\r",
      " 37%|███▋      | 3686400/9912422 [00:01<00:01, 3332626.60it/s]\r",
      " 41%|████      | 4071424/9912422 [00:01<00:01, 3473803.43it/s]\r",
      " 45%|████▍     | 4431872/9912422 [00:02<00:01, 3043430.70it/s]\r",
      " 48%|████▊     | 4759552/9912422 [00:02<00:01, 2957500.50it/s]\r",
      " 52%|█████▏    | 5144576/9912422 [00:02<00:01, 3169173.06it/s]\r",
      " 56%|█████▌    | 5545984/9912422 [00:02<00:01, 3367780.85it/s]\r",
      " 60%|█████▉    | 5931008/9912422 [00:02<00:01, 3496551.41it/s]\r",
      " 64%|██████▍   | 6373376/9912422 [00:02<00:00, 3706169.82it/s]\r",
      " 69%|██████▉   | 6848512/9912422 [00:02<00:00, 3985280.06it/s]\r",
      " 73%|███████▎  | 7258112/9912422 [00:02<00:00, 3986767.79it/s]\r",
      " 77%|███████▋  | 7667712/9912422 [00:02<00:00, 3968933.54it/s]\r",
      " 82%|████████▏ | 8118272/9912422 [00:02<00:00, 4122298.85it/s]\r",
      " 87%|████████▋ | 8609792/9912422 [00:03<00:00, 4300647.78it/s]\r",
      " 92%|█████████▏| 9142272/9912422 [00:03<00:00, 4587962.88it/s]\r",
      " 97%|█████████▋| 9609216/9912422 [00:03<00:00, 4430304.19it/s]\n",
      "\r",
      "0it [00:00, ?it/s]\u001b[A\n",
      "\r",
      "  0%|          | 0/28881 [00:00<?, ?it/s]\u001b[A\n",
      "\n",
      "\r",
      "0it [00:00, ?it/s]\u001b[A\u001b[A\n",
      "\n",
      "\r",
      "  1%|          | 16384/1648877 [00:00<00:12, 125983.52it/s]\u001b[A\u001b[A\n",
      "\n",
      "\r",
      " 16%|█▌        | 262144/1648877 [00:00<00:01, 1263258.51it/s]\u001b[A\u001b[A\n",
      "\n",
      "\r",
      " 35%|███▍      | 573440/1648877 [00:00<00:00, 2023186.01it/s]\u001b[A\u001b[A\n",
      "\n",
      "\r",
      " 48%|████▊     | 794624/1648877 [00:00<00:00, 2039029.91it/s]\u001b[A\u001b[A\n",
      "\n",
      "\r",
      " 68%|██████▊   | 1114112/1648877 [00:00<00:00, 2395510.57it/s]\u001b[A\u001b[A\n",
      "\n",
      "\r",
      " 85%|████████▍ | 1400832/1648877 [00:00<00:00, 2547978.78it/s]\u001b[A\u001b[A\n",
      "\n",
      "\n",
      "\r",
      "0it [00:00, ?it/s]\u001b[A\u001b[A\u001b[A/home/dave/anaconda3/envs/dvc-exp-mnist/lib/python3.8/site-packages/torchvision/datasets/mnist.py:480: UserWarning: The given NumPy array is not writeable, and PyTorch does not support non-writeable tensors. This means you can write to the underlying (supposedly non-writeable) NumPy array using the tensor. You may want to copy the array to protect its data or make it writeable before converting it to a tensor. This type of warning will be suppressed for the rest of this program. (Triggered internally at  /opt/conda/conda-bld/pytorch_1603729002806/work/torch/csrc/utils/tensor_numpy.cpp:141.)\n",
      "  return torch.from_numpy(parsed.astype(m[2], copy=False)).view(*s)\n",
      "\r",
      "1654784it [00:01, 1606769.44it/s]                             \n",
      "\r",
      "8192it [00:00, 35949.12it/s]\n",
      "\r",
      "9920512it [00:04, 2028886.86it/s]                             \n",
      "\r",
      "32768it [00:01, 26219.21it/s]            "
     ]
    }
   ],
   "source": [
    "%%bash\n",
    "dvc repro download"
   ]
  },
  {
   "cell_type": "markdown",
   "metadata": {},
   "source": [
    "**IMPORTANT:** Be sure to run the `git add` command above and also `git commit` before running experiments. Anytime you modify the pipeline, be sure to `dvc repro` and track changes with git before running experiments."
   ]
  },
  {
   "cell_type": "code",
   "execution_count": 46,
   "metadata": {},
   "outputs": [
    {
     "name": "stdout",
     "output_type": "stream",
     "text": [
      "[main 77a93c2] download data\n",
      " 2 files changed, 34 insertions(+), 12 deletions(-)\n",
      " rewrite dvc.lock (100%)\n"
     ]
    }
   ],
   "source": [
    "%%bash\n",
    "git add dvc.lock data/.gitignore\n",
    "git commit -m \"download data\""
   ]
  },
  {
   "cell_type": "markdown",
   "metadata": {},
   "source": [
    "### Run an experiment\n",
    "\n",
    "Run an experiment with the default parameters defined in `params.yaml`."
   ]
  },
  {
   "cell_type": "code",
   "execution_count": 47,
   "metadata": {},
   "outputs": [
    {
     "name": "stdout",
     "output_type": "stream",
     "text": [
      "Stage 'download' didn't change, skipping\n",
      "Running stage 'train':\n",
      "> python train.py\n",
      "Updating lock file 'dvc.lock'\n",
      "Checkpoint experiment iteration 'a4cce79'.\n",
      "Updating lock file 'dvc.lock'\n",
      "Checkpoint experiment iteration 'e622bc1'.\n",
      "\n",
      "To track the changes with git, run:\n",
      "\n",
      "\tgit add data/MNIST .gitignore dvc.lock params.yaml train.py dvc.yaml\n",
      "\n",
      "Reproduced experiment(s): exp-17fa7\n",
      "Experiment results have been applied to your workspace.\n",
      "\n",
      "To promote an experiment to a Git branch run:\n",
      "\n",
      "\tdvc exp branch <exp>\n",
      "\n"
     ]
    }
   ],
   "source": [
    "%%bash\n",
    "dvc exp run"
   ]
  },
  {
   "cell_type": "markdown",
   "metadata": {},
   "source": [
    "Review the output of the run, including identifying hashes, metrics, and parameters:"
   ]
  },
  {
   "cell_type": "code",
   "execution_count": 49,
   "metadata": {},
   "outputs": [
    {
     "name": "stdout",
     "output_type": "stream",
     "text": [
      "┏━━━━━━━━━━━━━━━┳━━━━━━━━━━┳━━━━━━━━┳━━━━━━━━┳━━━━━━━┳━━━━━━━━━━━━━━┓\n",
      "┃ Experiment    ┃ Created  ┃    acc ┃   loss ┃ lr    ┃ weight_decay ┃\n",
      "┡━━━━━━━━━━━━━━━╇━━━━━━━━━━╇━━━━━━━━╇━━━━━━━━╇━━━━━━━╇━━━━━━━━━━━━━━┩\n",
      "│ workspace     │ -        │  0.144 │ 2.2961 │ 0.001 │ 0.1          │\n",
      "│ main          │ 11:12 AM │      - │      - │ 0.001 │ 0            │\n",
      "│ │ ╓ exp-17fa7 │ 11:12 AM │  0.144 │ 2.2961 │ 0.001 │ 0.1          │\n",
      "│ ├─╨ a4cce79   │ 11:12 AM │ 0.1695 │ 2.2989 │ 0.001 │ 0.1          │\n",
      "└───────────────┴──────────┴────────┴────────┴───────┴──────────────┘\n"
     ]
    }
   ],
   "source": [
    "%%bash\n",
    "dvc exp show"
   ]
  },
  {
   "cell_type": "markdown",
   "metadata": {},
   "source": [
    "Note that two experiments were run. These are checkpoints for the run. It's not necessary to have checkpoints for experiments, but they can be helpful for models that may be run for a number of epochs. See below for more information about how checkpoints work."
   ]
  },
  {
   "cell_type": "markdown",
   "metadata": {},
   "source": [
    "### Experiment with different parameters\n",
    "\n",
    "Experiments can be run and compared with different parameters."
   ]
  },
  {
   "cell_type": "code",
   "execution_count": 50,
   "metadata": {},
   "outputs": [
    {
     "name": "stdout",
     "output_type": "stream",
     "text": [
      "Stage 'download' didn't change, skipping\n",
      "Running stage 'train':\n",
      "> python train.py\n",
      "Updating lock file 'dvc.lock'\n",
      "Checkpoint experiment iteration '0569f30'.\n",
      "Updating lock file 'dvc.lock'\n",
      "Checkpoint experiment iteration 'e28ad6f'.\n",
      "\n",
      "To track the changes with git, run:\n",
      "\n",
      "\tgit add params.yaml dvc.lock data/MNIST train.py dvc.yaml\n",
      "\n",
      "Reproduced experiment(s): exp-1ab12\n",
      "Experiment results have been applied to your workspace.\n",
      "\n",
      "To promote an experiment to a Git branch run:\n",
      "\n",
      "\tdvc exp branch <exp>\n",
      "\n"
     ]
    }
   ],
   "source": [
    "%%bash\n",
    "dvc exp run --params weight_decay=0.1"
   ]
  },
  {
   "cell_type": "code",
   "execution_count": 8,
   "metadata": {},
   "outputs": [
    {
     "name": "stdout",
     "output_type": "stream",
     "text": [
      "┏━━━━━━━━━━━━━━━┳━━━━━━━━━━┳━━━━━━━━┳━━━━━━━━┳━━━━━━━┳━━━━━━━━━━━━━━┓\n",
      "┃ Experiment    ┃ Created  ┃    acc ┃   loss ┃ lr    ┃ weight_decay ┃\n",
      "┡━━━━━━━━━━━━━━━╇━━━━━━━━━━╇━━━━━━━━╇━━━━━━━━╇━━━━━━━╇━━━━━━━━━━━━━━┩\n",
      "│ workspace     │ -        │      - │      - │ 0.001 │ 0            │\n",
      "│ main          │ 10:06 AM │      - │      - │ 0.001 │ 0            │\n",
      "│ │ ╓ exp-fccd3 │ 10:09 AM │ 0.1025 │ 2.3051 │ 0.001 │ 0.1          │\n",
      "│ ├─╨ 31e8e72   │ 10:08 AM │ 0.0947 │  2.308 │ 0.001 │ 0.1          │\n",
      "│ │ ╓ exp-d0a96 │ 10:07 AM │ 0.2445 │ 2.2616 │ 0.001 │ 0            │\n",
      "│ ├─╨ d025f19   │ 10:07 AM │ 0.1895 │ 2.2934 │ 0.001 │ 0            │\n",
      "└───────────────┴──────────┴────────┴────────┴───────┴──────────────┘\n"
     ]
    }
   ],
   "source": [
    "%%bash\n",
    "dvc exp show"
   ]
  },
  {
   "cell_type": "markdown",
   "metadata": {},
   "source": [
    "Increasing `weight_decay` helped a bit. Next, try different `lr` parameters.\n",
    "\n",
    "Experiments can be added in bulk to the queue and executed on demand (see the `-j` flag for parallel execution!)."
   ]
  },
  {
   "cell_type": "code",
   "execution_count": 9,
   "metadata": {},
   "outputs": [
    {
     "name": "stdout",
     "output_type": "stream",
     "text": [
      "Queued experiment '0c2ae1f' for future execution.\n",
      "Queued experiment '927d26e' for future execution.\n"
     ]
    }
   ],
   "source": [
    "%%bash\n",
    "dvc exp run --params lr=0.01 --queue\n",
    "dvc exp run --params lr=0.1 --queue"
   ]
  },
  {
   "cell_type": "code",
   "execution_count": 10,
   "metadata": {},
   "outputs": [
    {
     "name": "stdout",
     "output_type": "stream",
     "text": [
      "┏━━━━━━━━━━━━━━━┳━━━━━━━━━━┳━━━━━━━━┳━━━━━━━━┳━━━━━━━┳━━━━━━━━━━━━━━┓\n",
      "┃ Experiment    ┃ Created  ┃    acc ┃   loss ┃ lr    ┃ weight_decay ┃\n",
      "┡━━━━━━━━━━━━━━━╇━━━━━━━━━━╇━━━━━━━━╇━━━━━━━━╇━━━━━━━╇━━━━━━━━━━━━━━┩\n",
      "│ workspace     │ -        │      - │      - │ 0.001 │ 0            │\n",
      "│ main          │ 10:06 AM │      - │      - │ 0.001 │ 0            │\n",
      "│ │ ╓ exp-fccd3 │ 10:09 AM │ 0.1025 │ 2.3051 │ 0.001 │ 0.1          │\n",
      "│ ├─╨ 31e8e72   │ 10:08 AM │ 0.0947 │  2.308 │ 0.001 │ 0.1          │\n",
      "│ │ ╓ exp-d0a96 │ 10:07 AM │ 0.2445 │ 2.2616 │ 0.001 │ 0            │\n",
      "│ ├─╨ d025f19   │ 10:07 AM │ 0.1895 │ 2.2934 │ 0.001 │ 0            │\n",
      "│ ├── *927d26e  │ 10:10 AM │      - │      - │ 0.1   │ 0            │\n",
      "│ └── *0c2ae1f  │ 10:10 AM │      - │      - │ 0.01  │ 0            │\n",
      "└───────────────┴──────────┴────────┴────────┴───────┴──────────────┘\n"
     ]
    }
   ],
   "source": [
    "%%bash\n",
    "dvc exp show"
   ]
  },
  {
   "cell_type": "code",
   "execution_count": 11,
   "metadata": {},
   "outputs": [
    {
     "name": "stdout",
     "output_type": "stream",
     "text": [
      "Stage 'download' didn't change, skipping\n",
      "Running stage 'train' with command:\n",
      "\tpython train.py\n",
      "Updating lock file 'dvc.lock'\n",
      "Checkpoint experiment iteration 'd4db485'.\n",
      "Updating lock file 'dvc.lock'\n",
      "Checkpoint experiment iteration '046300d'.\n",
      "\n",
      "Reproduced experiment(s): exp-7edff\n",
      "To promote an experiment to a Git branch run:\n",
      "\n",
      "\tdvc exp branch <exp>\n",
      "\n",
      "To apply the results of an experiment to your workspace run:\n",
      "\n",
      "\tdvc exp apply <exp>\n"
     ]
    }
   ],
   "source": [
    "%%bash\n",
    "dvc exp run --run-all"
   ]
  },
  {
   "cell_type": "code",
   "execution_count": 12,
   "metadata": {},
   "outputs": [
    {
     "name": "stdout",
     "output_type": "stream",
     "text": [
      "┏━━━━━━━━━━━━━━━┳━━━━━━━━━━┳━━━━━━━━┳━━━━━━━━┳━━━━━━━┳━━━━━━━━━━━━━━┓\n",
      "┃ Experiment    ┃ Created  ┃    acc ┃   loss ┃ lr    ┃ weight_decay ┃\n",
      "┡━━━━━━━━━━━━━━━╇━━━━━━━━━━╇━━━━━━━━╇━━━━━━━━╇━━━━━━━╇━━━━━━━━━━━━━━┩\n",
      "│ workspace     │ -        │      - │      - │ 0.001 │ 0            │\n",
      "│ main          │ 10:06 AM │      - │      - │ 0.001 │ 0            │\n",
      "│ │ ╓ exp-7edff │ 10:10 AM │ 0.5774 │ 1.6223 │ 0.01  │ 0            │\n",
      "│ ├─╨ d4db485   │ 10:10 AM │ 0.1157 │ 2.0914 │ 0.01  │ 0            │\n",
      "│ │ ╓ exp-fccd3 │ 10:09 AM │ 0.1025 │ 2.3051 │ 0.001 │ 0.1          │\n",
      "│ ├─╨ 31e8e72   │ 10:08 AM │ 0.0947 │  2.308 │ 0.001 │ 0.1          │\n",
      "│ │ ╓ exp-d0a96 │ 10:07 AM │ 0.2445 │ 2.2616 │ 0.001 │ 0            │\n",
      "│ ├─╨ d025f19   │ 10:07 AM │ 0.1895 │ 2.2934 │ 0.001 │ 0            │\n",
      "│ ├── *927d26e  │ 10:10 AM │      - │      - │ 0.1   │ 0            │\n",
      "│ └── *0c2ae1f  │ 10:10 AM │      - │      - │ 0.01  │ 0            │\n",
      "└───────────────┴──────────┴────────┴────────┴───────┴──────────────┘\n"
     ]
    }
   ],
   "source": [
    "%%bash\n",
    "dvc exp show"
   ]
  },
  {
   "cell_type": "markdown",
   "metadata": {},
   "source": [
    "**FIXME:** Running queued experiments runs new experiments, but not the same ones that were in the queue for `dvc exp show` (nor with the same parameters specified there). The queued experiments remain in the queue."
   ]
  },
  {
   "cell_type": "code",
   "execution_count": 14,
   "metadata": {},
   "outputs": [
    {
     "name": "stdout",
     "output_type": "stream",
     "text": [
      "lr: 0.001\n",
      "weight_decay: 0\n"
     ]
    }
   ],
   "source": [
    "%%bash\n",
    "cat params.yaml"
   ]
  },
  {
   "cell_type": "code",
   "execution_count": 16,
   "metadata": {},
   "outputs": [
    {
     "name": "stdout",
     "output_type": "stream",
     "text": [
      "Stage 'download' didn't change, skipping\n",
      "Running stage 'train' with command:\n",
      "\tpython train.py\n",
      "Updating lock file 'dvc.lock'\n",
      "Checkpoint experiment iteration '0922cba'.\n",
      "Updating lock file 'dvc.lock'\n",
      "Checkpoint experiment iteration '36442f5'.\n",
      "\n",
      "Reproduced experiment(s): exp-688c1\n",
      "To promote an experiment to a Git branch run:\n",
      "\n",
      "\tdvc exp branch <exp>\n",
      "\n",
      "To apply the results of an experiment to your workspace run:\n",
      "\n",
      "\tdvc exp apply <exp>\n"
     ]
    }
   ],
   "source": [
    "%%bash\n",
    "dvc exp run --run-all"
   ]
  },
  {
   "cell_type": "code",
   "execution_count": 17,
   "metadata": {},
   "outputs": [
    {
     "name": "stdout",
     "output_type": "stream",
     "text": [
      "┏━━━━━━━━━━━━━━━┳━━━━━━━━━━┳━━━━━━━━┳━━━━━━━━┳━━━━━━━┳━━━━━━━━━━━━━━┓\n",
      "┃ Experiment    ┃ Created  ┃    acc ┃   loss ┃ lr    ┃ weight_decay ┃\n",
      "┡━━━━━━━━━━━━━━━╇━━━━━━━━━━╇━━━━━━━━╇━━━━━━━━╇━━━━━━━╇━━━━━━━━━━━━━━┩\n",
      "│ workspace     │ -        │      - │      - │ 0.001 │ 0            │\n",
      "│ main          │ 10:06 AM │      - │      - │ 0.001 │ 0            │\n",
      "│ │ ╓ exp-688c1 │ 10:24 AM │ 0.3938 │ 1.6869 │ 0.01  │ 0            │\n",
      "│ ├─╨ 0922cba   │ 10:23 AM │ 0.2464 │ 2.0991 │ 0.01  │ 0            │\n",
      "│ │ ╓ exp-7edff │ 10:10 AM │ 0.5774 │ 1.6223 │ 0.01  │ 0            │\n",
      "│ ├─╨ d4db485   │ 10:10 AM │ 0.1157 │ 2.0914 │ 0.01  │ 0            │\n",
      "│ │ ╓ exp-fccd3 │ 10:09 AM │ 0.1025 │ 2.3051 │ 0.001 │ 0.1          │\n",
      "│ ├─╨ 31e8e72   │ 10:08 AM │ 0.0947 │  2.308 │ 0.001 │ 0.1          │\n",
      "│ │ ╓ exp-d0a96 │ 10:07 AM │ 0.2445 │ 2.2616 │ 0.001 │ 0            │\n",
      "│ ├─╨ d025f19   │ 10:07 AM │ 0.1895 │ 2.2934 │ 0.001 │ 0            │\n",
      "│ ├── *927d26e  │ 10:10 AM │      - │      - │ 0.1   │ 0            │\n",
      "│ └── *0c2ae1f  │ 10:10 AM │      - │      - │ 0.01  │ 0            │\n",
      "└───────────────┴──────────┴────────┴────────┴───────┴──────────────┘\n"
     ]
    }
   ],
   "source": [
    "%%bash\n",
    "dvc exp show"
   ]
  },
  {
   "cell_type": "markdown",
   "metadata": {},
   "source": [
    "Running `dvc exp run --run-all` again repeats the same process of generating new experiments but not the ones specified in the queue."
   ]
  },
  {
   "cell_type": "markdown",
   "metadata": {},
   "source": [
    "Next, let's test that parallel execution works:"
   ]
  },
  {
   "cell_type": "code",
   "execution_count": 20,
   "metadata": {},
   "outputs": [
    {
     "name": "stdout",
     "output_type": "stream",
     "text": [
      "Stage 'download' didn't change, skipping\n",
      "Running stage 'train' with command:\n",
      "\tpython train.py\n",
      "Updating lock file 'dvc.lock'\n",
      "Checkpoint experiment iteration '381b51d'.\n",
      "Updating lock file 'dvc.lock'\n",
      "Checkpoint experiment iteration '2ea74c6'.\n",
      "\n",
      "Reproduced experiment(s): exp-b8d47\n",
      "To promote an experiment to a Git branch run:\n",
      "\n",
      "\tdvc exp branch <exp>\n",
      "\n",
      "To apply the results of an experiment to your workspace run:\n",
      "\n",
      "\tdvc exp apply <exp>\n"
     ]
    }
   ],
   "source": [
    "%%bash\n",
    "dvc exp run --run-all -j 2"
   ]
  },
  {
   "cell_type": "markdown",
   "metadata": {},
   "source": [
    "### Iteratively train using checkpoints\n",
    "\n",
    "Use checkpoints to periodically save the model during training (as shown above), and to resume training from previously saved state. Resume training the experiment with the best accuracy."
   ]
  },
  {
   "cell_type": "code",
   "execution_count": 22,
   "metadata": {},
   "outputs": [
    {
     "name": "stdout",
     "output_type": "stream",
     "text": [
      "┏━━━━━━━━━━━━━━━┳━━━━━━━━━━┳━━━━━━━━┳━━━━━━━┳━━━━━━━━━━━━━━┓\n",
      "┃ Experiment    ┃ Created  ┃    acc ┃ lr    ┃ weight_decay ┃\n",
      "┡━━━━━━━━━━━━━━━╇━━━━━━━━━━╇━━━━━━━━╇━━━━━━━╇━━━━━━━━━━━━━━┩\n",
      "│ workspace     │ -        │      - │ 0.001 │ 0            │\n",
      "│ main          │ 10:06 AM │      - │ 0.001 │ 0            │\n",
      "│ │ ╓ exp-fccd3 │ 10:09 AM │ 0.1025 │ 0.001 │ 0.1          │\n",
      "│ ├─╨ 31e8e72   │ 10:08 AM │ 0.0947 │ 0.001 │ 0.1          │\n",
      "│ │ ╓ exp-d0a96 │ 10:07 AM │ 0.2445 │ 0.001 │ 0            │\n",
      "│ ├─╨ d025f19   │ 10:07 AM │ 0.1895 │ 0.001 │ 0            │\n",
      "│ │ ╓ exp-688c1 │ 10:24 AM │ 0.3938 │ 0.01  │ 0            │\n",
      "│ ├─╨ 0922cba   │ 10:23 AM │ 0.2464 │ 0.01  │ 0            │\n",
      "│ │ ╓ exp-b8d47 │ 10:27 AM │ 0.4016 │ 0.01  │ 0            │\n",
      "│ ├─╨ 381b51d   │ 10:27 AM │ 0.2116 │ 0.01  │ 0            │\n",
      "│ │ ╓ exp-7edff │ 10:10 AM │ 0.5774 │ 0.01  │ 0            │\n",
      "│ ├─╨ d4db485   │ 10:10 AM │ 0.1157 │ 0.01  │ 0            │\n",
      "│ ├── *927d26e  │ 10:10 AM │      - │ 0.1   │ 0            │\n",
      "│ └── *0c2ae1f  │ 10:10 AM │      - │ 0.01  │ 0            │\n",
      "└───────────────┴──────────┴────────┴───────┴──────────────┘\n"
     ]
    }
   ],
   "source": [
    "%%bash\n",
    "dvc exp show --sort-by acc --include-metrics acc"
   ]
  },
  {
   "cell_type": "markdown",
   "metadata": {},
   "source": [
    "Apply the top experiment."
   ]
  },
  {
   "cell_type": "code",
   "execution_count": 26,
   "metadata": {},
   "outputs": [
    {
     "name": "stderr",
     "output_type": "stream",
     "text": [
      "ERROR: 'exp-fccd3' does not appear to be an experiment commit.: Experiment derived from 'invalid commit', expected '8e8a8f2'.\n"
     ]
    },
    {
     "ename": "CalledProcessError",
     "evalue": "Command 'b'dvc exp apply exp-fccd3\\n'' returned non-zero exit status 255.",
     "output_type": "error",
     "traceback": [
      "\u001b[0;31m---------------------------------------------------------------------------\u001b[0m",
      "\u001b[0;31mCalledProcessError\u001b[0m                        Traceback (most recent call last)",
      "\u001b[0;32m<ipython-input-26-b917451d4c68>\u001b[0m in \u001b[0;36m<module>\u001b[0;34m\u001b[0m\n\u001b[0;32m----> 1\u001b[0;31m \u001b[0mget_ipython\u001b[0m\u001b[0;34m(\u001b[0m\u001b[0;34m)\u001b[0m\u001b[0;34m.\u001b[0m\u001b[0mrun_cell_magic\u001b[0m\u001b[0;34m(\u001b[0m\u001b[0;34m'bash'\u001b[0m\u001b[0;34m,\u001b[0m \u001b[0;34m''\u001b[0m\u001b[0;34m,\u001b[0m \u001b[0;34m'dvc exp apply exp-fccd3\\n'\u001b[0m\u001b[0;34m)\u001b[0m\u001b[0;34m\u001b[0m\u001b[0;34m\u001b[0m\u001b[0m\n\u001b[0m",
      "\u001b[0;32m~/anaconda3/envs/dvc-exp-mnist/lib/python3.8/site-packages/IPython/core/interactiveshell.py\u001b[0m in \u001b[0;36mrun_cell_magic\u001b[0;34m(self, magic_name, line, cell)\u001b[0m\n\u001b[1;32m   2380\u001b[0m             \u001b[0;32mwith\u001b[0m \u001b[0mself\u001b[0m\u001b[0;34m.\u001b[0m\u001b[0mbuiltin_trap\u001b[0m\u001b[0;34m:\u001b[0m\u001b[0;34m\u001b[0m\u001b[0;34m\u001b[0m\u001b[0m\n\u001b[1;32m   2381\u001b[0m                 \u001b[0margs\u001b[0m \u001b[0;34m=\u001b[0m \u001b[0;34m(\u001b[0m\u001b[0mmagic_arg_s\u001b[0m\u001b[0;34m,\u001b[0m \u001b[0mcell\u001b[0m\u001b[0;34m)\u001b[0m\u001b[0;34m\u001b[0m\u001b[0;34m\u001b[0m\u001b[0m\n\u001b[0;32m-> 2382\u001b[0;31m                 \u001b[0mresult\u001b[0m \u001b[0;34m=\u001b[0m \u001b[0mfn\u001b[0m\u001b[0;34m(\u001b[0m\u001b[0;34m*\u001b[0m\u001b[0margs\u001b[0m\u001b[0;34m,\u001b[0m \u001b[0;34m**\u001b[0m\u001b[0mkwargs\u001b[0m\u001b[0;34m)\u001b[0m\u001b[0;34m\u001b[0m\u001b[0;34m\u001b[0m\u001b[0m\n\u001b[0m\u001b[1;32m   2383\u001b[0m             \u001b[0;32mreturn\u001b[0m \u001b[0mresult\u001b[0m\u001b[0;34m\u001b[0m\u001b[0;34m\u001b[0m\u001b[0m\n\u001b[1;32m   2384\u001b[0m \u001b[0;34m\u001b[0m\u001b[0m\n",
      "\u001b[0;32m~/anaconda3/envs/dvc-exp-mnist/lib/python3.8/site-packages/IPython/core/magics/script.py\u001b[0m in \u001b[0;36mnamed_script_magic\u001b[0;34m(line, cell)\u001b[0m\n\u001b[1;32m    140\u001b[0m             \u001b[0;32melse\u001b[0m\u001b[0;34m:\u001b[0m\u001b[0;34m\u001b[0m\u001b[0;34m\u001b[0m\u001b[0m\n\u001b[1;32m    141\u001b[0m                 \u001b[0mline\u001b[0m \u001b[0;34m=\u001b[0m \u001b[0mscript\u001b[0m\u001b[0;34m\u001b[0m\u001b[0;34m\u001b[0m\u001b[0m\n\u001b[0;32m--> 142\u001b[0;31m             \u001b[0;32mreturn\u001b[0m \u001b[0mself\u001b[0m\u001b[0;34m.\u001b[0m\u001b[0mshebang\u001b[0m\u001b[0;34m(\u001b[0m\u001b[0mline\u001b[0m\u001b[0;34m,\u001b[0m \u001b[0mcell\u001b[0m\u001b[0;34m)\u001b[0m\u001b[0;34m\u001b[0m\u001b[0;34m\u001b[0m\u001b[0m\n\u001b[0m\u001b[1;32m    143\u001b[0m \u001b[0;34m\u001b[0m\u001b[0m\n\u001b[1;32m    144\u001b[0m         \u001b[0;31m# write a basic docstring:\u001b[0m\u001b[0;34m\u001b[0m\u001b[0;34m\u001b[0m\u001b[0;34m\u001b[0m\u001b[0m\n",
      "\u001b[0;32m<decorator-gen-103>\u001b[0m in \u001b[0;36mshebang\u001b[0;34m(self, line, cell)\u001b[0m\n",
      "\u001b[0;32m~/anaconda3/envs/dvc-exp-mnist/lib/python3.8/site-packages/IPython/core/magic.py\u001b[0m in \u001b[0;36m<lambda>\u001b[0;34m(f, *a, **k)\u001b[0m\n\u001b[1;32m    185\u001b[0m     \u001b[0;31m# but it's overkill for just that one bit of state.\u001b[0m\u001b[0;34m\u001b[0m\u001b[0;34m\u001b[0m\u001b[0;34m\u001b[0m\u001b[0m\n\u001b[1;32m    186\u001b[0m     \u001b[0;32mdef\u001b[0m \u001b[0mmagic_deco\u001b[0m\u001b[0;34m(\u001b[0m\u001b[0marg\u001b[0m\u001b[0;34m)\u001b[0m\u001b[0;34m:\u001b[0m\u001b[0;34m\u001b[0m\u001b[0;34m\u001b[0m\u001b[0m\n\u001b[0;32m--> 187\u001b[0;31m         \u001b[0mcall\u001b[0m \u001b[0;34m=\u001b[0m \u001b[0;32mlambda\u001b[0m \u001b[0mf\u001b[0m\u001b[0;34m,\u001b[0m \u001b[0;34m*\u001b[0m\u001b[0ma\u001b[0m\u001b[0;34m,\u001b[0m \u001b[0;34m**\u001b[0m\u001b[0mk\u001b[0m\u001b[0;34m:\u001b[0m \u001b[0mf\u001b[0m\u001b[0;34m(\u001b[0m\u001b[0;34m*\u001b[0m\u001b[0ma\u001b[0m\u001b[0;34m,\u001b[0m \u001b[0;34m**\u001b[0m\u001b[0mk\u001b[0m\u001b[0;34m)\u001b[0m\u001b[0;34m\u001b[0m\u001b[0;34m\u001b[0m\u001b[0m\n\u001b[0m\u001b[1;32m    188\u001b[0m \u001b[0;34m\u001b[0m\u001b[0m\n\u001b[1;32m    189\u001b[0m         \u001b[0;32mif\u001b[0m \u001b[0mcallable\u001b[0m\u001b[0;34m(\u001b[0m\u001b[0marg\u001b[0m\u001b[0;34m)\u001b[0m\u001b[0;34m:\u001b[0m\u001b[0;34m\u001b[0m\u001b[0;34m\u001b[0m\u001b[0m\n",
      "\u001b[0;32m~/anaconda3/envs/dvc-exp-mnist/lib/python3.8/site-packages/IPython/core/magics/script.py\u001b[0m in \u001b[0;36mshebang\u001b[0;34m(self, line, cell)\u001b[0m\n\u001b[1;32m    243\u001b[0m             \u001b[0msys\u001b[0m\u001b[0;34m.\u001b[0m\u001b[0mstderr\u001b[0m\u001b[0;34m.\u001b[0m\u001b[0mflush\u001b[0m\u001b[0;34m(\u001b[0m\u001b[0;34m)\u001b[0m\u001b[0;34m\u001b[0m\u001b[0;34m\u001b[0m\u001b[0m\n\u001b[1;32m    244\u001b[0m         \u001b[0;32mif\u001b[0m \u001b[0margs\u001b[0m\u001b[0;34m.\u001b[0m\u001b[0mraise_error\u001b[0m \u001b[0;32mand\u001b[0m \u001b[0mp\u001b[0m\u001b[0;34m.\u001b[0m\u001b[0mreturncode\u001b[0m\u001b[0;34m!=\u001b[0m\u001b[0;36m0\u001b[0m\u001b[0;34m:\u001b[0m\u001b[0;34m\u001b[0m\u001b[0;34m\u001b[0m\u001b[0m\n\u001b[0;32m--> 245\u001b[0;31m             \u001b[0;32mraise\u001b[0m \u001b[0mCalledProcessError\u001b[0m\u001b[0;34m(\u001b[0m\u001b[0mp\u001b[0m\u001b[0;34m.\u001b[0m\u001b[0mreturncode\u001b[0m\u001b[0;34m,\u001b[0m \u001b[0mcell\u001b[0m\u001b[0;34m,\u001b[0m \u001b[0moutput\u001b[0m\u001b[0;34m=\u001b[0m\u001b[0mout\u001b[0m\u001b[0;34m,\u001b[0m \u001b[0mstderr\u001b[0m\u001b[0;34m=\u001b[0m\u001b[0merr\u001b[0m\u001b[0;34m)\u001b[0m\u001b[0;34m\u001b[0m\u001b[0;34m\u001b[0m\u001b[0m\n\u001b[0m\u001b[1;32m    246\u001b[0m \u001b[0;34m\u001b[0m\u001b[0m\n\u001b[1;32m    247\u001b[0m     \u001b[0;32mdef\u001b[0m \u001b[0m_run_script\u001b[0m\u001b[0;34m(\u001b[0m\u001b[0mself\u001b[0m\u001b[0;34m,\u001b[0m \u001b[0mp\u001b[0m\u001b[0;34m,\u001b[0m \u001b[0mcell\u001b[0m\u001b[0;34m,\u001b[0m \u001b[0mto_close\u001b[0m\u001b[0;34m)\u001b[0m\u001b[0;34m:\u001b[0m\u001b[0;34m\u001b[0m\u001b[0;34m\u001b[0m\u001b[0m\n",
      "\u001b[0;31mCalledProcessError\u001b[0m: Command 'b'dvc exp apply exp-fccd3\\n'' returned non-zero exit status 255."
     ]
    }
   ],
   "source": [
    "%%bash\n",
    "dvc exp apply exp-fccd3"
   ]
  },
  {
   "cell_type": "markdown",
   "metadata": {},
   "source": [
    "**FIXME**: That didn't work. What are these lines with `exp-` at the start?\n",
    "\n",
    "Let's try the other commit associated with these parameters."
   ]
  },
  {
   "cell_type": "code",
   "execution_count": 27,
   "metadata": {},
   "outputs": [
    {
     "name": "stdout",
     "output_type": "stream",
     "text": [
      "Changes for experiment '31e8e72' have been applied to your current workspace.\n"
     ]
    }
   ],
   "source": [
    "%%bash\n",
    "dvc exp apply 31e8e72"
   ]
  },
  {
   "cell_type": "markdown",
   "metadata": {},
   "source": [
    "Next, resume iterations from this experiment."
   ]
  },
  {
   "cell_type": "code",
   "execution_count": 28,
   "metadata": {},
   "outputs": [
    {
     "name": "stdout",
     "output_type": "stream",
     "text": [
      "Stage 'download' didn't change, skipping\n",
      "Running stage 'train' with command:\n",
      "\tpython train.py\n",
      "Updating lock file 'dvc.lock'\n",
      "Checkpoint experiment iteration '5c4438e'.\n",
      "Updating lock file 'dvc.lock'\n",
      "Checkpoint experiment iteration 'a7735a9'.\n",
      "\n",
      "Reproduced experiment(s): exp-b8d47\n",
      "To promote an experiment to a Git branch run:\n",
      "\n",
      "\tdvc exp branch <exp>\n",
      "\n",
      "To apply the results of an experiment to your workspace run:\n",
      "\n",
      "\tdvc exp apply <exp>\n"
     ]
    }
   ],
   "source": [
    "%%bash\n",
    "dvc exp res"
   ]
  },
  {
   "cell_type": "code",
   "execution_count": 29,
   "metadata": {},
   "outputs": [
    {
     "name": "stdout",
     "output_type": "stream",
     "text": [
      "┏━━━━━━━━━━━━━━━┳━━━━━━━━━━┳━━━━━━━━┳━━━━━━━━┳━━━━━━━┳━━━━━━━━━━━━━━┓\n",
      "┃ Experiment    ┃ Created  ┃    acc ┃   loss ┃ lr    ┃ weight_decay ┃\n",
      "┡━━━━━━━━━━━━━━━╇━━━━━━━━━━╇━━━━━━━━╇━━━━━━━━╇━━━━━━━╇━━━━━━━━━━━━━━┩\n",
      "│ workspace     │ -        │ 0.1025 │ 2.3051 │ 0.001 │ 0.1          │\n",
      "│ main          │ 10:06 AM │      - │      - │ 0.001 │ 0            │\n",
      "│ │ ╓ exp-b8d47 │ 10:36 AM │ 0.6693 │ 1.1839 │ 0.01  │ 0            │\n",
      "│ │ ╟ 5c4438e   │ 10:35 AM │ 0.5445 │ 1.4061 │ 0.01  │ 0            │\n",
      "│ │ ╟ 2ea74c6   │ 10:27 AM │ 0.4016 │ 1.7229 │ 0.01  │ 0            │\n",
      "│ ├─╨ 381b51d   │ 10:27 AM │ 0.2116 │ 2.0748 │ 0.01  │ 0            │\n",
      "│ │ ╓ exp-688c1 │ 10:24 AM │ 0.3938 │ 1.6869 │ 0.01  │ 0            │\n",
      "│ ├─╨ 0922cba   │ 10:23 AM │ 0.2464 │ 2.0991 │ 0.01  │ 0            │\n",
      "│ │ ╓ exp-7edff │ 10:10 AM │ 0.5774 │ 1.6223 │ 0.01  │ 0            │\n",
      "│ ├─╨ d4db485   │ 10:10 AM │ 0.1157 │ 2.0914 │ 0.01  │ 0            │\n",
      "│ │ ╓ exp-fccd3 │ 10:09 AM │ 0.1025 │ 2.3051 │ 0.001 │ 0.1          │\n",
      "│ ├─╨ 31e8e72   │ 10:08 AM │ 0.0947 │  2.308 │ 0.001 │ 0.1          │\n",
      "│ │ ╓ exp-d0a96 │ 10:07 AM │ 0.2445 │ 2.2616 │ 0.001 │ 0            │\n",
      "│ ├─╨ d025f19   │ 10:07 AM │ 0.1895 │ 2.2934 │ 0.001 │ 0            │\n",
      "│ ├── *927d26e  │ 10:10 AM │      - │      - │ 0.1   │ 0            │\n",
      "│ └── *0c2ae1f  │ 10:10 AM │      - │      - │ 0.01  │ 0            │\n",
      "└───────────────┴──────────┴────────┴────────┴───────┴──────────────┘\n"
     ]
    }
   ],
   "source": [
    "%%bash\n",
    "dvc exp show"
   ]
  },
  {
   "cell_type": "markdown",
   "metadata": {},
   "source": [
    "**FIXME**: `dvc exp res` ran additional experiments, but they aren't using the same parameters to the `31e8e72` parameters that were applied."
   ]
  },
  {
   "cell_type": "code",
   "execution_count": 30,
   "metadata": {},
   "outputs": [
    {
     "name": "stdout",
     "output_type": "stream",
     "text": [
      "lr: 0.001\n",
      "weight_decay: 0.1\n"
     ]
    }
   ],
   "source": [
    "%%bash\n",
    "cat params.yaml"
   ]
  },
  {
   "cell_type": "markdown",
   "metadata": {},
   "source": [
    "`dvc exp apply 31e8e72` checkout out that experiment's parameters into the workspace, so it's unclear why `dvc exp res` doesn't use those parameters."
   ]
  },
  {
   "cell_type": "code",
   "execution_count": 39,
   "metadata": {},
   "outputs": [
    {
     "name": "stdout",
     "output_type": "stream",
     "text": [
      "Path          Metric    Value    Change\n",
      "metrics.yaml  acc       0.0947   -0.4498\n",
      "metrics.yaml  loss      2.308    0.90187\n",
      "\n",
      "Path         Param         Value    Change\n",
      "params.yaml  lr            0.001    -0.009\n",
      "params.yaml  weight_decay  0.1      0.1\n",
      "\n"
     ]
    }
   ],
   "source": [
    "%%bash\n",
    "dvc exp diff 5c4438e 31e8e72"
   ]
  },
  {
   "cell_type": "markdown",
   "metadata": {},
   "source": [
    "`dvc exp diff` shows that the additional checkpoints had worse performance (probably because they weren't using the expected parameters)."
   ]
  },
  {
   "cell_type": "markdown",
   "metadata": {},
   "source": [
    "### Persist models\n",
    "\n",
    "Additonal epochs didn't improve accuracy, so commit the model iteration with peak accuracy. Checkout the experiment rev in dvc and then commit to git."
   ]
  },
  {
   "cell_type": "code",
   "execution_count": 34,
   "metadata": {},
   "outputs": [
    {
     "name": "stdout",
     "output_type": "stream",
     "text": [
      "Git branch '1.11.10' has been created from experiment 'exp-fccd3'.\n",
      "To switch to the new branch run:\n",
      "\n",
      "\tgit checkout 1.11.10\n"
     ]
    }
   ],
   "source": [
    "%%bash\n",
    "dvc exp branch 31e8e72 1.11.10"
   ]
  },
  {
   "cell_type": "code",
   "execution_count": 35,
   "metadata": {},
   "outputs": [
    {
     "name": "stdout",
     "output_type": "stream",
     "text": [
      "┏━━━━━━━━━━━━━━━┳━━━━━━━━━━┳━━━━━━━━┳━━━━━━━━┳━━━━━━━┳━━━━━━━━━━━━━━┓\n",
      "┃ Experiment    ┃ Created  ┃    acc ┃   loss ┃ lr    ┃ weight_decay ┃\n",
      "┡━━━━━━━━━━━━━━━╇━━━━━━━━━━╇━━━━━━━━╇━━━━━━━━╇━━━━━━━╇━━━━━━━━━━━━━━┩\n",
      "│ workspace     │ -        │ 0.1025 │ 2.3051 │ 0.001 │ 0.1          │\n",
      "│ main          │ 10:06 AM │      - │      - │ 0.001 │ 0            │\n",
      "│ │ ╓ exp-b8d47 │ 10:36 AM │ 0.6693 │ 1.1839 │ 0.01  │ 0            │\n",
      "│ │ ╟ 5c4438e   │ 10:35 AM │ 0.5445 │ 1.4061 │ 0.01  │ 0            │\n",
      "│ │ ╟ 2ea74c6   │ 10:27 AM │ 0.4016 │ 1.7229 │ 0.01  │ 0            │\n",
      "│ ├─╨ 381b51d   │ 10:27 AM │ 0.2116 │ 2.0748 │ 0.01  │ 0            │\n",
      "│ │ ╓ exp-688c1 │ 10:24 AM │ 0.3938 │ 1.6869 │ 0.01  │ 0            │\n",
      "│ ├─╨ 0922cba   │ 10:23 AM │ 0.2464 │ 2.0991 │ 0.01  │ 0            │\n",
      "│ │ ╓ exp-7edff │ 10:10 AM │ 0.5774 │ 1.6223 │ 0.01  │ 0            │\n",
      "│ ├─╨ d4db485   │ 10:10 AM │ 0.1157 │ 2.0914 │ 0.01  │ 0            │\n",
      "│ │ ╓ 1.11.10   │ 10:09 AM │ 0.1025 │ 2.3051 │ 0.001 │ 0.1          │\n",
      "│ ├─╨ 31e8e72   │ 10:08 AM │ 0.0947 │  2.308 │ 0.001 │ 0.1          │\n",
      "│ │ ╓ exp-d0a96 │ 10:07 AM │ 0.2445 │ 2.2616 │ 0.001 │ 0            │\n",
      "│ ├─╨ d025f19   │ 10:07 AM │ 0.1895 │ 2.2934 │ 0.001 │ 0            │\n",
      "│ ├── *927d26e  │ 10:10 AM │      - │      - │ 0.1   │ 0            │\n",
      "│ └── *0c2ae1f  │ 10:10 AM │      - │      - │ 0.01  │ 0            │\n",
      "└───────────────┴──────────┴────────┴────────┴───────┴──────────────┘\n"
     ]
    }
   ],
   "source": [
    "%%bash\n",
    "dvc exp show"
   ]
  },
  {
   "cell_type": "markdown",
   "metadata": {},
   "source": [
    "### Clean up experiments"
   ]
  },
  {
   "cell_type": "code",
   "execution_count": 40,
   "metadata": {},
   "outputs": [
    {
     "name": "stderr",
     "output_type": "stream",
     "text": [
      "WARNING: This will remove all experiments except those derived from the workspace of the current repo.\n"
     ]
    },
    {
     "ename": "CalledProcessError",
     "evalue": "Command 'b'dvc exp gc --workspace\\n'' returned non-zero exit status 1.",
     "output_type": "error",
     "traceback": [
      "\u001b[0;31m---------------------------------------------------------------------------\u001b[0m",
      "\u001b[0;31mCalledProcessError\u001b[0m                        Traceback (most recent call last)",
      "\u001b[0;32m<ipython-input-40-e2e9362fa44e>\u001b[0m in \u001b[0;36m<module>\u001b[0;34m\u001b[0m\n\u001b[0;32m----> 1\u001b[0;31m \u001b[0mget_ipython\u001b[0m\u001b[0;34m(\u001b[0m\u001b[0;34m)\u001b[0m\u001b[0;34m.\u001b[0m\u001b[0mrun_cell_magic\u001b[0m\u001b[0;34m(\u001b[0m\u001b[0;34m'bash'\u001b[0m\u001b[0;34m,\u001b[0m \u001b[0;34m''\u001b[0m\u001b[0;34m,\u001b[0m \u001b[0;34m'dvc exp gc --workspace\\n'\u001b[0m\u001b[0;34m)\u001b[0m\u001b[0;34m\u001b[0m\u001b[0;34m\u001b[0m\u001b[0m\n\u001b[0m",
      "\u001b[0;32m~/anaconda3/envs/dvc-exp-mnist/lib/python3.8/site-packages/IPython/core/interactiveshell.py\u001b[0m in \u001b[0;36mrun_cell_magic\u001b[0;34m(self, magic_name, line, cell)\u001b[0m\n\u001b[1;32m   2380\u001b[0m             \u001b[0;32mwith\u001b[0m \u001b[0mself\u001b[0m\u001b[0;34m.\u001b[0m\u001b[0mbuiltin_trap\u001b[0m\u001b[0;34m:\u001b[0m\u001b[0;34m\u001b[0m\u001b[0;34m\u001b[0m\u001b[0m\n\u001b[1;32m   2381\u001b[0m                 \u001b[0margs\u001b[0m \u001b[0;34m=\u001b[0m \u001b[0;34m(\u001b[0m\u001b[0mmagic_arg_s\u001b[0m\u001b[0;34m,\u001b[0m \u001b[0mcell\u001b[0m\u001b[0;34m)\u001b[0m\u001b[0;34m\u001b[0m\u001b[0;34m\u001b[0m\u001b[0m\n\u001b[0;32m-> 2382\u001b[0;31m                 \u001b[0mresult\u001b[0m \u001b[0;34m=\u001b[0m \u001b[0mfn\u001b[0m\u001b[0;34m(\u001b[0m\u001b[0;34m*\u001b[0m\u001b[0margs\u001b[0m\u001b[0;34m,\u001b[0m \u001b[0;34m**\u001b[0m\u001b[0mkwargs\u001b[0m\u001b[0;34m)\u001b[0m\u001b[0;34m\u001b[0m\u001b[0;34m\u001b[0m\u001b[0m\n\u001b[0m\u001b[1;32m   2383\u001b[0m             \u001b[0;32mreturn\u001b[0m \u001b[0mresult\u001b[0m\u001b[0;34m\u001b[0m\u001b[0;34m\u001b[0m\u001b[0m\n\u001b[1;32m   2384\u001b[0m \u001b[0;34m\u001b[0m\u001b[0m\n",
      "\u001b[0;32m~/anaconda3/envs/dvc-exp-mnist/lib/python3.8/site-packages/IPython/core/magics/script.py\u001b[0m in \u001b[0;36mnamed_script_magic\u001b[0;34m(line, cell)\u001b[0m\n\u001b[1;32m    140\u001b[0m             \u001b[0;32melse\u001b[0m\u001b[0;34m:\u001b[0m\u001b[0;34m\u001b[0m\u001b[0;34m\u001b[0m\u001b[0m\n\u001b[1;32m    141\u001b[0m                 \u001b[0mline\u001b[0m \u001b[0;34m=\u001b[0m \u001b[0mscript\u001b[0m\u001b[0;34m\u001b[0m\u001b[0;34m\u001b[0m\u001b[0m\n\u001b[0;32m--> 142\u001b[0;31m             \u001b[0;32mreturn\u001b[0m \u001b[0mself\u001b[0m\u001b[0;34m.\u001b[0m\u001b[0mshebang\u001b[0m\u001b[0;34m(\u001b[0m\u001b[0mline\u001b[0m\u001b[0;34m,\u001b[0m \u001b[0mcell\u001b[0m\u001b[0;34m)\u001b[0m\u001b[0;34m\u001b[0m\u001b[0;34m\u001b[0m\u001b[0m\n\u001b[0m\u001b[1;32m    143\u001b[0m \u001b[0;34m\u001b[0m\u001b[0m\n\u001b[1;32m    144\u001b[0m         \u001b[0;31m# write a basic docstring:\u001b[0m\u001b[0;34m\u001b[0m\u001b[0;34m\u001b[0m\u001b[0;34m\u001b[0m\u001b[0m\n",
      "\u001b[0;32m<decorator-gen-103>\u001b[0m in \u001b[0;36mshebang\u001b[0;34m(self, line, cell)\u001b[0m\n",
      "\u001b[0;32m~/anaconda3/envs/dvc-exp-mnist/lib/python3.8/site-packages/IPython/core/magic.py\u001b[0m in \u001b[0;36m<lambda>\u001b[0;34m(f, *a, **k)\u001b[0m\n\u001b[1;32m    185\u001b[0m     \u001b[0;31m# but it's overkill for just that one bit of state.\u001b[0m\u001b[0;34m\u001b[0m\u001b[0;34m\u001b[0m\u001b[0;34m\u001b[0m\u001b[0m\n\u001b[1;32m    186\u001b[0m     \u001b[0;32mdef\u001b[0m \u001b[0mmagic_deco\u001b[0m\u001b[0;34m(\u001b[0m\u001b[0marg\u001b[0m\u001b[0;34m)\u001b[0m\u001b[0;34m:\u001b[0m\u001b[0;34m\u001b[0m\u001b[0;34m\u001b[0m\u001b[0m\n\u001b[0;32m--> 187\u001b[0;31m         \u001b[0mcall\u001b[0m \u001b[0;34m=\u001b[0m \u001b[0;32mlambda\u001b[0m \u001b[0mf\u001b[0m\u001b[0;34m,\u001b[0m \u001b[0;34m*\u001b[0m\u001b[0ma\u001b[0m\u001b[0;34m,\u001b[0m \u001b[0;34m**\u001b[0m\u001b[0mk\u001b[0m\u001b[0;34m:\u001b[0m \u001b[0mf\u001b[0m\u001b[0;34m(\u001b[0m\u001b[0;34m*\u001b[0m\u001b[0ma\u001b[0m\u001b[0;34m,\u001b[0m \u001b[0;34m**\u001b[0m\u001b[0mk\u001b[0m\u001b[0;34m)\u001b[0m\u001b[0;34m\u001b[0m\u001b[0;34m\u001b[0m\u001b[0m\n\u001b[0m\u001b[1;32m    188\u001b[0m \u001b[0;34m\u001b[0m\u001b[0m\n\u001b[1;32m    189\u001b[0m         \u001b[0;32mif\u001b[0m \u001b[0mcallable\u001b[0m\u001b[0;34m(\u001b[0m\u001b[0marg\u001b[0m\u001b[0;34m)\u001b[0m\u001b[0;34m:\u001b[0m\u001b[0;34m\u001b[0m\u001b[0;34m\u001b[0m\u001b[0m\n",
      "\u001b[0;32m~/anaconda3/envs/dvc-exp-mnist/lib/python3.8/site-packages/IPython/core/magics/script.py\u001b[0m in \u001b[0;36mshebang\u001b[0;34m(self, line, cell)\u001b[0m\n\u001b[1;32m    243\u001b[0m             \u001b[0msys\u001b[0m\u001b[0;34m.\u001b[0m\u001b[0mstderr\u001b[0m\u001b[0;34m.\u001b[0m\u001b[0mflush\u001b[0m\u001b[0;34m(\u001b[0m\u001b[0;34m)\u001b[0m\u001b[0;34m\u001b[0m\u001b[0;34m\u001b[0m\u001b[0m\n\u001b[1;32m    244\u001b[0m         \u001b[0;32mif\u001b[0m \u001b[0margs\u001b[0m\u001b[0;34m.\u001b[0m\u001b[0mraise_error\u001b[0m \u001b[0;32mand\u001b[0m \u001b[0mp\u001b[0m\u001b[0;34m.\u001b[0m\u001b[0mreturncode\u001b[0m\u001b[0;34m!=\u001b[0m\u001b[0;36m0\u001b[0m\u001b[0;34m:\u001b[0m\u001b[0;34m\u001b[0m\u001b[0;34m\u001b[0m\u001b[0m\n\u001b[0;32m--> 245\u001b[0;31m             \u001b[0;32mraise\u001b[0m \u001b[0mCalledProcessError\u001b[0m\u001b[0;34m(\u001b[0m\u001b[0mp\u001b[0m\u001b[0;34m.\u001b[0m\u001b[0mreturncode\u001b[0m\u001b[0;34m,\u001b[0m \u001b[0mcell\u001b[0m\u001b[0;34m,\u001b[0m \u001b[0moutput\u001b[0m\u001b[0;34m=\u001b[0m\u001b[0mout\u001b[0m\u001b[0;34m,\u001b[0m \u001b[0mstderr\u001b[0m\u001b[0;34m=\u001b[0m\u001b[0merr\u001b[0m\u001b[0;34m)\u001b[0m\u001b[0;34m\u001b[0m\u001b[0;34m\u001b[0m\u001b[0m\n\u001b[0m\u001b[1;32m    246\u001b[0m \u001b[0;34m\u001b[0m\u001b[0m\n\u001b[1;32m    247\u001b[0m     \u001b[0;32mdef\u001b[0m \u001b[0m_run_script\u001b[0m\u001b[0;34m(\u001b[0m\u001b[0mself\u001b[0m\u001b[0;34m,\u001b[0m \u001b[0mp\u001b[0m\u001b[0;34m,\u001b[0m \u001b[0mcell\u001b[0m\u001b[0;34m,\u001b[0m \u001b[0mto_close\u001b[0m\u001b[0;34m)\u001b[0m\u001b[0;34m:\u001b[0m\u001b[0;34m\u001b[0m\u001b[0;34m\u001b[0m\u001b[0m\n",
      "\u001b[0;31mCalledProcessError\u001b[0m: Command 'b'dvc exp gc --workspace\\n'' returned non-zero exit status 1."
     ]
    }
   ],
   "source": [
    "%%bash\n",
    "dvc exp gc --workspace"
   ]
  },
  {
   "cell_type": "markdown",
   "metadata": {},
   "source": [
    "**FIXME**: `dvc exp gc --workspace` did not work."
   ]
  },
  {
   "cell_type": "code",
   "execution_count": 41,
   "metadata": {},
   "outputs": [
    {
     "name": "stdout",
     "output_type": "stream",
     "text": [
      "┏━━━━━━━━━━━━━━━┳━━━━━━━━━━┳━━━━━━━━┳━━━━━━━━┳━━━━━━━┳━━━━━━━━━━━━━━┓\n",
      "┃ Experiment    ┃ Created  ┃    acc ┃   loss ┃ lr    ┃ weight_decay ┃\n",
      "┡━━━━━━━━━━━━━━━╇━━━━━━━━━━╇━━━━━━━━╇━━━━━━━━╇━━━━━━━╇━━━━━━━━━━━━━━┩\n",
      "│ workspace     │ -        │ 0.1025 │ 2.3051 │ 0.001 │ 0.1          │\n",
      "│ main          │ 10:06 AM │      - │      - │ 0.001 │ 0            │\n",
      "│ │ ╓ exp-b8d47 │ 10:36 AM │ 0.6693 │ 1.1839 │ 0.01  │ 0            │\n",
      "│ │ ╟ 5c4438e   │ 10:35 AM │ 0.5445 │ 1.4061 │ 0.01  │ 0            │\n",
      "│ │ ╟ 2ea74c6   │ 10:27 AM │ 0.4016 │ 1.7229 │ 0.01  │ 0            │\n",
      "│ ├─╨ 381b51d   │ 10:27 AM │ 0.2116 │ 2.0748 │ 0.01  │ 0            │\n",
      "│ │ ╓ exp-688c1 │ 10:24 AM │ 0.3938 │ 1.6869 │ 0.01  │ 0            │\n",
      "│ ├─╨ 0922cba   │ 10:23 AM │ 0.2464 │ 2.0991 │ 0.01  │ 0            │\n",
      "│ │ ╓ exp-7edff │ 10:10 AM │ 0.5774 │ 1.6223 │ 0.01  │ 0            │\n",
      "│ ├─╨ d4db485   │ 10:10 AM │ 0.1157 │ 2.0914 │ 0.01  │ 0            │\n",
      "│ │ ╓ 1.11.10   │ 10:09 AM │ 0.1025 │ 2.3051 │ 0.001 │ 0.1          │\n",
      "│ ├─╨ 31e8e72   │ 10:08 AM │ 0.0947 │  2.308 │ 0.001 │ 0.1          │\n",
      "│ │ ╓ exp-d0a96 │ 10:07 AM │ 0.2445 │ 2.2616 │ 0.001 │ 0            │\n",
      "│ ├─╨ d025f19   │ 10:07 AM │ 0.1895 │ 2.2934 │ 0.001 │ 0            │\n",
      "│ ├── *927d26e  │ 10:10 AM │      - │      - │ 0.1   │ 0            │\n",
      "│ └── *0c2ae1f  │ 10:10 AM │      - │      - │ 0.01  │ 0            │\n",
      "└───────────────┴──────────┴────────┴────────┴───────┴──────────────┘\n"
     ]
    }
   ],
   "source": [
    "%%bash\n",
    "dvc exp show"
   ]
  },
  {
   "cell_type": "code",
   "execution_count": null,
   "metadata": {},
   "outputs": [],
   "source": []
  }
 ],
 "metadata": {
  "kernelspec": {
   "display_name": "Python 3",
   "language": "python",
   "name": "python3"
  },
  "language_info": {
   "codemirror_mode": {
    "name": "ipython",
    "version": 3
   },
   "file_extension": ".py",
   "mimetype": "text/x-python",
   "name": "python",
   "nbconvert_exporter": "python",
   "pygments_lexer": "ipython3",
   "version": "3.8.5"
  }
 },
 "nbformat": 4,
 "nbformat_minor": 4
}
