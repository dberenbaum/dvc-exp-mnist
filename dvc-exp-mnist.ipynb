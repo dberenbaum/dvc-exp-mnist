{
 "cells": [
  {
   "cell_type": "markdown",
   "metadata": {},
   "source": [
    "This notebook shows how to use [dvc](https://dvc.org/) [experiments](https://github.com/iterative/dvc/wiki/Experiments) in model development. This example uses the [MNIST](http://yann.lecun.com/exdb/mnist/) data of handwritten digits and builds a classification model to predict the digit (0-9) in each image. The model is built in [pytorch](https://pytorch.org/) as a convolutional neural network with a simplified architecture, which should be able to quickly run on most computers."
   ]
  },
  {
   "cell_type": "markdown",
   "metadata": {},
   "source": [
    "### Get started\n",
    "\n",
    "To get started, clone this repository and navigate to it.\n",
    "\n",
    "The only other prerequisite is [conda](https://docs.conda.io/projects/conda/en/latest/user-guide/install/). Once conda is installed, create a virtual environment from the existing `environment.yaml` file and activate it:\n",
    "\n",
    "```bash\n",
    "conda env create -f environment.yml\n",
    "conda activate dvc\n",
    "```\n",
    "\n",
    "If you want to run this notebook directly, do so after activating the conda environment.\n",
    "\n",
    "Finally, initialize dvc and enable the experiments feature:"
   ]
  },
  {
   "cell_type": "code",
   "execution_count": 1,
   "metadata": {},
   "outputs": [
    {
     "name": "stdout",
     "output_type": "stream",
     "text": [
      "\n",
      "You can now commit the changes to git.\n",
      "\n",
      "+---------------------------------------------------------------------+\n",
      "|                                                                     |\n",
      "|        DVC has enabled anonymous aggregate usage analytics.         |\n",
      "|     Read the analytics documentation (and how to opt-out) here:     |\n",
      "|             <https://dvc.org/doc/user-guide/analytics>              |\n",
      "|                                                                     |\n",
      "+---------------------------------------------------------------------+\n",
      "\n",
      "What's next?\n",
      "------------\n",
      "- Check out the documentation: <https://dvc.org/doc>\n",
      "- Get help and share ideas: <https://dvc.org/chat>\n",
      "- Star us on GitHub: <https://github.com/iterative/dvc>\n"
     ]
    }
   ],
   "source": [
    "%%bash\n",
    "dvc init\n",
    "dvc config --global core.experiments true"
   ]
  },
  {
   "cell_type": "markdown",
   "metadata": {},
   "source": [
    "### Establish the pipeline DAG\n",
    "\n",
    "Before experimenting, a dvc pipeline must be established (see the docs if you are new to dvc). Review the contents of `dvc.yaml` below to see the pipeline."
   ]
  },
  {
   "cell_type": "code",
   "execution_count": 2,
   "metadata": {},
   "outputs": [
    {
     "name": "stdout",
     "output_type": "stream",
     "text": [
      "stages:\n",
      "  download:\n",
      "    cmd: python download.py\n",
      "    deps:\n",
      "    - download.py\n",
      "    outs:\n",
      "    - data/MNIST\n",
      "  train:\n",
      "    cmd: python train.py\n",
      "    deps:\n",
      "    - data/MNIST\n",
      "    - train.py\n",
      "    params:\n",
      "    - lr\n",
      "    - weight_decay\n",
      "    outs:\n",
      "    - model.pt:\n",
      "        checkpoint: true\n",
      "    metrics:\n",
      "    - metrics.yaml\n"
     ]
    }
   ],
   "source": [
    "%%bash\n",
    "cat dvc.yaml"
   ]
  },
  {
   "cell_type": "markdown",
   "metadata": {},
   "source": [
    "The download stage gets the data using the `download.py` script. The train stage performs model training and evaluation on the downloaded data using the `train.py` script. The train stage uses the lr and weight_decay metrics defined in `params.yaml`. The model output is saved to `model.pt`, and the metrics are saved to `metrics.yaml`.\n",
    "\n",
    "Execute the download stage to get the data."
   ]
  },
  {
   "cell_type": "code",
   "execution_count": 3,
   "metadata": {},
   "outputs": [
    {
     "name": "stdout",
     "output_type": "stream",
     "text": [
      "Running stage 'download' with command:\n",
      "\tpython download.py\n",
      "Downloading http://yann.lecun.com/exdb/mnist/train-images-idx3-ubyte.gz to data/MNIST/raw/train-images-idx3-ubyte.gz\n",
      "Extracting data/MNIST/raw/train-images-idx3-ubyte.gz to data/MNIST/raw\n",
      "Downloading http://yann.lecun.com/exdb/mnist/train-labels-idx1-ubyte.gz to data/MNIST/raw/train-labels-idx1-ubyte.gz\n",
      "Extracting data/MNIST/raw/train-labels-idx1-ubyte.gz to data/MNIST/raw\n",
      "Downloading http://yann.lecun.com/exdb/mnist/t10k-images-idx3-ubyte.gz to data/MNIST/raw/t10k-images-idx3-ubyte.gz\n",
      "Extracting data/MNIST/raw/t10k-images-idx3-ubyte.gz to data/MNIST/raw\n",
      "Downloading http://yann.lecun.com/exdb/mnist/t10k-labels-idx1-ubyte.gz to data/MNIST/raw/t10k-labels-idx1-ubyte.gz\n",
      "Extracting data/MNIST/raw/t10k-labels-idx1-ubyte.gz to data/MNIST/raw\n",
      "Processing...\n",
      "Done!\n",
      "Generating lock file 'dvc.lock'\n",
      "Updating lock file 'dvc.lock'\n",
      "\n",
      "To track the changes with git, run:\n",
      "\n",
      "\tgit add data/.gitignore dvc.lock\n",
      "Use `dvc push` to send your updates to remote storage.\n"
     ]
    },
    {
     "name": "stderr",
     "output_type": "stream",
     "text": [
      "\r",
      "0it [00:00, ?it/s]\r",
      "  0%|          | 0/9912422 [00:00<?, ?it/s]\r",
      "  2%|▏         | 204800/9912422 [00:00<00:04, 2017174.20it/s]\r",
      "  7%|▋         | 712704/9912422 [00:00<00:03, 2455194.68it/s]\r",
      " 12%|█▏        | 1196032/9912422 [00:00<00:03, 2870480.29it/s]\r",
      " 17%|█▋        | 1646592/9912422 [00:00<00:02, 3216814.61it/s]\r",
      " 21%|██▏       | 2121728/9912422 [00:00<00:02, 3552520.50it/s]\r",
      " 25%|██▌       | 2498560/9912422 [00:00<00:02, 3540783.13it/s]\r",
      " 29%|██▉       | 2883584/9912422 [00:00<00:01, 3618272.38it/s]\r",
      " 33%|███▎      | 3260416/9912422 [00:01<00:02, 3289215.12it/s]\r",
      " 38%|███▊      | 3751936/9912422 [00:01<00:01, 3644156.44it/s]\r",
      " 43%|████▎     | 4300800/9912422 [00:01<00:01, 4052673.62it/s]\r",
      " 49%|████▉     | 4890624/9912422 [00:01<00:01, 4461635.98it/s]\r",
      " 56%|█████▌    | 5545984/9912422 [00:01<00:00, 4931269.58it/s]\r",
      " 61%|██████▏   | 6086656/9912422 [00:01<00:00, 5034092.49it/s]\r",
      " 67%|██████▋   | 6619136/9912422 [00:01<00:00, 4965019.68it/s]\r",
      " 72%|███████▏  | 7135232/9912422 [00:01<00:00, 4765531.30it/s]\r",
      " 77%|███████▋  | 7634944/9912422 [00:01<00:00, 4477958.81it/s]\r",
      " 82%|████████▏ | 8118272/9912422 [00:01<00:00, 4520405.03it/s]\r",
      " 87%|████████▋ | 8634368/9912422 [00:02<00:00, 4693054.09it/s]\r",
      " 92%|█████████▏| 9117696/9912422 [00:02<00:00, 4516266.99it/s]\r",
      " 97%|█████████▋| 9584640/9912422 [00:02<00:00, 4477031.11it/s]\r",
      "9920512it [00:02, 3600034.02it/s]                             \n",
      "\r",
      "0it [00:00, ?it/s]\r",
      "  0%|          | 0/28881 [00:00<?, ?it/s]\n",
      "\r",
      "0it [00:00, ?it/s]\u001b[A\n",
      "\r",
      "  0%|          | 0/1648877 [00:00<?, ?it/s]\u001b[A\n",
      "\r",
      " 15%|█▍        | 245760/1648877 [00:00<00:00, 2416676.20it/s]\u001b[A\n",
      "\r",
      " 40%|████      | 663552/1648877 [00:00<00:00, 2760886.39it/s]\u001b[A\n",
      "\r",
      " 66%|██████▌   | 1089536/1648877 [00:00<00:00, 3051695.60it/s]\u001b[A\n",
      "\r",
      " 84%|████████▍ | 1384448/1648877 [00:00<00:00, 3017607.23it/s]\u001b[A\n",
      "\n",
      "\r",
      "0it [00:00, ?it/s]\u001b[A\u001b[A\n",
      "\n",
      "\r",
      "  0%|          | 0/4542 [00:00<?, ?it/s]\u001b[A\u001b[A/home/dave/.conda/envs/dvc/lib/python3.8/site-packages/torchvision/datasets/mnist.py:480: UserWarning: The given NumPy array is not writeable, and PyTorch does not support non-writeable tensors. This means you can write to the underlying (supposedly non-writeable) NumPy array using the tensor. You may want to copy the array to protect its data or make it writeable before converting it to a tensor. This type of warning will be suppressed for the rest of this program. (Triggered internally at  /opt/conda/conda-bld/pytorch_1603729002806/work/torch/csrc/utils/tensor_numpy.cpp:141.)\n",
      "  return torch.from_numpy(parsed.astype(m[2], copy=False)).view(*s)\n",
      "\r",
      "1654784it [00:01, 1462444.32it/s]                             \n",
      "\r",
      "8192it [00:00, 26931.75it/s]            \n",
      "\r",
      "32768it [00:01, 24381.63it/s]            "
     ]
    }
   ],
   "source": [
    "%%bash\n",
    "dvc repro download"
   ]
  },
  {
   "cell_type": "markdown",
   "metadata": {},
   "source": [
    "**IMPORTANT:** Be sure to run the `git add` command above and also `git commit` before running experiments. Anytime you modify the pipeline, be sure to `dvc repro` and track changes with git before running experiments."
   ]
  },
  {
   "cell_type": "code",
   "execution_count": 4,
   "metadata": {},
   "outputs": [
    {
     "name": "stdout",
     "output_type": "stream",
     "text": [
      "[dev f82a506] download data\n",
      " 1 file changed, 1 insertion(+), 1 deletion(-)\n"
     ]
    }
   ],
   "source": [
    "%%bash\n",
    "git add dvc.lock data/.gitignore\n",
    "git commit -m \"download data\""
   ]
  },
  {
   "cell_type": "markdown",
   "metadata": {},
   "source": [
    "### Run an experiment\n",
    "\n",
    "Run an experiment with the default parameters defined in `params.yaml`."
   ]
  },
  {
   "cell_type": "code",
   "execution_count": 5,
   "metadata": {},
   "outputs": [
    {
     "name": "stdout",
     "output_type": "stream",
     "text": [
      "Stage 'download' didn't change, skipping\n",
      "Running stage 'train' with command:\n",
      "\tpython train.py\n",
      "Updating lock file 'dvc.lock'\n",
      "Checkpoint experiment iteration 'b884c0c'.\n",
      "Updating lock file 'dvc.lock'\n",
      "Checkpoint experiment iteration '56555fb'.\n",
      "Reproduced experiment '56555fb'.\n"
     ]
    }
   ],
   "source": [
    "%%bash\n",
    "dvc exp run"
   ]
  },
  {
   "cell_type": "markdown",
   "metadata": {},
   "source": [
    "Review the output of the run, including identifying hashes, metrics, and parameters:"
   ]
  },
  {
   "cell_type": "code",
   "execution_count": 6,
   "metadata": {},
   "outputs": [
    {
     "name": "stdout",
     "output_type": "stream",
     "text": [
      "┏━━━━━━━━━━━━━┳━━━━━━━━━━┳━━━━━━━━┳━━━━━━━━┳━━━━━━━┳━━━━━━━━━━━━━━┓\n",
      "┃ Experiment  ┃ Created  ┃    acc ┃   loss ┃ lr    ┃ weight_decay ┃\n",
      "┡━━━━━━━━━━━━━╇━━━━━━━━━━╇━━━━━━━━╇━━━━━━━━╇━━━━━━━╇━━━━━━━━━━━━━━┩\n",
      "│ workspace   │ -        │ 0.3842 │ 2.1689 │ 0.001 │ 0            │\n",
      "│ dev         │ 10:46 AM │      - │      - │ 0.001 │ 0            │\n",
      "│ │ ╓ 56555fb │ 10:47 AM │ 0.3842 │ 2.1689 │ 0.001 │ 0            │\n",
      "│ ├─╨ b884c0c │ 10:46 AM │ 0.2664 │ 2.2524 │ 0.001 │ 0            │\n",
      "└─────────────┴──────────┴────────┴────────┴───────┴──────────────┘\n"
     ]
    }
   ],
   "source": [
    "%%bash\n",
    "dvc exp show"
   ]
  },
  {
   "cell_type": "markdown",
   "metadata": {},
   "source": [
    "Note that two experiments were run. These are checkpoints for the run. It's not necessary to have checkpoints for experiments, but they can be helpful for models that may be run for a number of epochs. See below for more information about how checkpoints work."
   ]
  },
  {
   "cell_type": "markdown",
   "metadata": {},
   "source": [
    "### Experiment with different parameters\n",
    "\n",
    "Experiments can be run and compared with different parameters."
   ]
  },
  {
   "cell_type": "code",
   "execution_count": 7,
   "metadata": {},
   "outputs": [
    {
     "name": "stdout",
     "output_type": "stream",
     "text": [
      "Stage 'download' didn't change, skipping\n",
      "Running stage 'train' with command:\n",
      "\tpython train.py\n",
      "Updating lock file 'dvc.lock'\n",
      "Checkpoint experiment iteration '5152381'.\n",
      "Updating lock file 'dvc.lock'\n",
      "Checkpoint experiment iteration '31d5005'.\n",
      "Reproduced experiment '31d5005'.\n"
     ]
    }
   ],
   "source": [
    "%%bash\n",
    "dvc exp run --params weight_decay=0.1"
   ]
  },
  {
   "cell_type": "code",
   "execution_count": 8,
   "metadata": {},
   "outputs": [
    {
     "name": "stdout",
     "output_type": "stream",
     "text": [
      "┏━━━━━━━━━━━━━┳━━━━━━━━━━┳━━━━━━━━┳━━━━━━━━┳━━━━━━━┳━━━━━━━━━━━━━━┓\n",
      "┃ Experiment  ┃ Created  ┃    acc ┃   loss ┃ lr    ┃ weight_decay ┃\n",
      "┡━━━━━━━━━━━━━╇━━━━━━━━━━╇━━━━━━━━╇━━━━━━━━╇━━━━━━━╇━━━━━━━━━━━━━━┩\n",
      "│ workspace   │ -        │ 0.1585 │ 2.2906 │ 0.001 │ 0.1          │\n",
      "│ dev         │ 10:46 AM │      - │      - │ 0.001 │ 0            │\n",
      "│ │ ╓ 31d5005 │ 10:47 AM │ 0.1585 │ 2.2906 │ 0.001 │ 0.1          │\n",
      "│ ├─╨ 5152381 │ 10:47 AM │ 0.1316 │ 2.3009 │ 0.001 │ 0.1          │\n",
      "│ │ ╓ 56555fb │ 10:47 AM │ 0.3842 │ 2.1689 │ 0.001 │ 0            │\n",
      "│ ├─╨ b884c0c │ 10:46 AM │ 0.2664 │ 2.2524 │ 0.001 │ 0            │\n",
      "└─────────────┴──────────┴────────┴────────┴───────┴──────────────┘\n"
     ]
    }
   ],
   "source": [
    "%%bash\n",
    "dvc exp show"
   ]
  },
  {
   "cell_type": "markdown",
   "metadata": {},
   "source": [
    "Increasing `weight_decay` didn't help, so reset the parameters."
   ]
  },
  {
   "cell_type": "code",
   "execution_count": 11,
   "metadata": {},
   "outputs": [
    {
     "name": "stdout",
     "output_type": "stream",
     "text": [
      "lr: 0.001\n",
      "weight_decay: 0\n"
     ]
    }
   ],
   "source": [
    "%%bash\n",
    "git checkout params.yaml\n",
    "cat params.yaml"
   ]
  },
  {
   "cell_type": "markdown",
   "metadata": {},
   "source": [
    "Next, try different `lr` parameters. Experiments can be added in bulk to the queue and executed on demand (see the `-j` flag for parallel execution!)."
   ]
  },
  {
   "cell_type": "code",
   "execution_count": 12,
   "metadata": {},
   "outputs": [
    {
     "name": "stdout",
     "output_type": "stream",
     "text": [
      "Queued experiment '05c0223' for future execution.\n",
      "Queued experiment 'ea532e1' for future execution.\n"
     ]
    }
   ],
   "source": [
    "%%bash\n",
    "dvc exp run --params lr=0.01 --queue\n",
    "dvc exp run --params lr=0.1 --queue"
   ]
  },
  {
   "cell_type": "code",
   "execution_count": 13,
   "metadata": {},
   "outputs": [
    {
     "name": "stdout",
     "output_type": "stream",
     "text": [
      "┏━━━━━━━━━━━━━━┳━━━━━━━━━━┳━━━━━━━━┳━━━━━━━━┳━━━━━━━┳━━━━━━━━━━━━━━┓\n",
      "┃ Experiment   ┃ Created  ┃    acc ┃   loss ┃ lr    ┃ weight_decay ┃\n",
      "┡━━━━━━━━━━━━━━╇━━━━━━━━━━╇━━━━━━━━╇━━━━━━━━╇━━━━━━━╇━━━━━━━━━━━━━━┩\n",
      "│ workspace    │ -        │ 0.1585 │ 2.2906 │ 0.001 │ 0            │\n",
      "│ dev          │ 10:46 AM │      - │      - │ 0.001 │ 0            │\n",
      "│ │ ╓ 31d5005  │ 10:47 AM │ 0.1585 │ 2.2906 │ 0.001 │ 0.1          │\n",
      "│ ├─╨ 5152381  │ 10:47 AM │ 0.1316 │ 2.3009 │ 0.001 │ 0.1          │\n",
      "│ │ ╓ 56555fb  │ 10:47 AM │ 0.3842 │ 2.1689 │ 0.001 │ 0            │\n",
      "│ ├─╨ b884c0c  │ 10:46 AM │ 0.2664 │ 2.2524 │ 0.001 │ 0            │\n",
      "│ ├── *ea532e1 │ 10:55 AM │      - │      - │ 0.1   │ 0            │\n",
      "│ └── *05c0223 │ 10:55 AM │      - │      - │ 0.01  │ 0            │\n",
      "└──────────────┴──────────┴────────┴────────┴───────┴──────────────┘\n"
     ]
    }
   ],
   "source": [
    "%%bash\n",
    "dvc exp show"
   ]
  },
  {
   "cell_type": "code",
   "execution_count": 14,
   "metadata": {},
   "outputs": [
    {
     "name": "stdout",
     "output_type": "stream",
     "text": [
      "Stage '../../../../tmp/tmpra373gup/dvc.yaml:download' didn't change, skipping\n",
      "Running stage '../../../../tmp/tmpra373gup/dvc.yaml:train' with command:\n",
      "\tpython train.py\n"
     ]
    },
    {
     "name": "stderr",
     "output_type": "stream",
     "text": [
      "ERROR: Failed to reproduce experiment 'ea532e1' - Stage: '../../../../tmp/tmpra373gup/dvc.yaml:download'\n",
      "ERROR: Error generating checkpoint, stage: '../../../../tmp/tmpra373gup/dvc.yaml:train' will be aborted - file path '/home/dave/Code/dvc-exp-mnist' is outside of DVC repo\n",
      "ERROR: Failed to reproduce experiment '05c0223' - [Errno 2] No such file or directory: '/tmp/tmpi7bvuzuz'\n"
     ]
    }
   ],
   "source": [
    "%%bash\n",
    "dvc exp run --run-all"
   ]
  },
  {
   "cell_type": "markdown",
   "metadata": {},
   "source": [
    "### Iteratively train using checkpoints\n",
    "\n",
    "Use checkpoints to periodically save the model during training (as shown above), and to resume training from previously saved state. Resume training the experiment with the best accuracy."
   ]
  },
  {
   "cell_type": "code",
   "execution_count": 15,
   "metadata": {},
   "outputs": [
    {
     "name": "stdout",
     "output_type": "stream",
     "text": [
      "┏━━━━━━━━━━━━━━┳━━━━━━━━━━┳━━━━━━━━┳━━━━━━━━┳━━━━━━━┳━━━━━━━━━━━━━━┓\n",
      "┃ Experiment   ┃ Created  ┃    acc ┃   loss ┃ lr    ┃ weight_decay ┃\n",
      "┡━━━━━━━━━━━━━━╇━━━━━━━━━━╇━━━━━━━━╇━━━━━━━━╇━━━━━━━╇━━━━━━━━━━━━━━┩\n",
      "│ workspace    │ -        │ 0.1585 │ 2.2906 │ 0.001 │ 0            │\n",
      "│ dev          │ 10:46 AM │      - │      - │ 0.001 │ 0            │\n",
      "│ │ ╓ 31d5005  │ 10:47 AM │ 0.1585 │ 2.2906 │ 0.001 │ 0.1          │\n",
      "│ ├─╨ 5152381  │ 10:47 AM │ 0.1316 │ 2.3009 │ 0.001 │ 0.1          │\n",
      "│ │ ╓ 56555fb  │ 10:47 AM │ 0.3842 │ 2.1689 │ 0.001 │ 0            │\n",
      "│ ├─╨ b884c0c  │ 10:46 AM │ 0.2664 │ 2.2524 │ 0.001 │ 0            │\n",
      "│ ├── *ea532e1 │ 10:55 AM │      - │      - │ 0.1   │ 0            │\n",
      "│ └── *05c0223 │ 10:55 AM │      - │      - │ 0.01  │ 0            │\n",
      "└──────────────┴──────────┴────────┴────────┴───────┴──────────────┘\n"
     ]
    }
   ],
   "source": [
    "%%bash\n",
    "dvc exp show --sort-by acc"
   ]
  },
  {
   "cell_type": "code",
   "execution_count": 16,
   "metadata": {},
   "outputs": [
    {
     "name": "stdout",
     "output_type": "stream",
     "text": [
      "Stage 'download' didn't change, skipping\n",
      "Running stage 'train' with command:\n",
      "\tpython train.py\n",
      "Updating lock file 'dvc.lock'\n",
      "Checkpoint experiment iteration '150e65b'.\n",
      "Updating lock file 'dvc.lock'\n",
      "Checkpoint experiment iteration '153c96b'.\n",
      "Reproduced experiment '153c96b'.\n"
     ]
    }
   ],
   "source": [
    "%%bash\n",
    "dvc exp res -r 56555fb"
   ]
  },
  {
   "cell_type": "code",
   "execution_count": 17,
   "metadata": {},
   "outputs": [
    {
     "name": "stdout",
     "output_type": "stream",
     "text": [
      "┏━━━━━━━━━━━━━━┳━━━━━━━━━━┳━━━━━━━━┳━━━━━━━━┳━━━━━━━┳━━━━━━━━━━━━━━┓\n",
      "┃ Experiment   ┃ Created  ┃    acc ┃   loss ┃ lr    ┃ weight_decay ┃\n",
      "┡━━━━━━━━━━━━━━╇━━━━━━━━━━╇━━━━━━━━╇━━━━━━━━╇━━━━━━━╇━━━━━━━━━━━━━━┩\n",
      "│ workspace    │ -        │ 0.6524 │ 1.9192 │ 0.001 │ 0            │\n",
      "│ dev          │ 10:46 AM │      - │      - │ 0.001 │ 0            │\n",
      "│ │ ╓ 153c96b  │ 10:57 AM │ 0.6524 │ 1.9192 │ 0.001 │ 0            │\n",
      "│ │ ╟ 150e65b  │ 10:56 AM │ 0.6104 │ 2.0579 │ 0.001 │ 0            │\n",
      "│ │ ╟ 56555fb  │ 10:47 AM │ 0.3842 │ 2.1689 │ 0.001 │ 0            │\n",
      "│ ├─╨ b884c0c  │ 10:46 AM │ 0.2664 │ 2.2524 │ 0.001 │ 0            │\n",
      "│ │ ╓ 31d5005  │ 10:47 AM │ 0.1585 │ 2.2906 │ 0.001 │ 0.1          │\n",
      "│ ├─╨ 5152381  │ 10:47 AM │ 0.1316 │ 2.3009 │ 0.001 │ 0.1          │\n",
      "│ ├── *ea532e1 │ 10:55 AM │      - │      - │ 0.1   │ 0            │\n",
      "│ └── *05c0223 │ 10:55 AM │      - │      - │ 0.01  │ 0            │\n",
      "└──────────────┴──────────┴────────┴────────┴───────┴──────────────┘\n"
     ]
    }
   ],
   "source": [
    "%%bash\n",
    "dvc exp show"
   ]
  },
  {
   "cell_type": "markdown",
   "metadata": {},
   "source": [
    "### Persist models\n",
    "\n",
    "Commit the model iteration with peak accuracy. Checkout the experiment rev in dvc and then commit to git."
   ]
  },
  {
   "cell_type": "code",
   "execution_count": 18,
   "metadata": {},
   "outputs": [
    {
     "name": "stdout",
     "output_type": "stream",
     "text": [
      "Changes for experiment '153c96b' have been applied to your current workspace.\n",
      "acc: 0.6524\n",
      "loss: 1.9191707372665405\n"
     ]
    }
   ],
   "source": [
    "%%bash\n",
    "dvc exp checkout 153c96b\n",
    "cat metrics.yaml"
   ]
  },
  {
   "cell_type": "code",
   "execution_count": null,
   "metadata": {},
   "outputs": [],
   "source": []
  }
 ],
 "metadata": {
  "kernelspec": {
   "display_name": "Python 3",
   "language": "python",
   "name": "python3"
  },
  "language_info": {
   "codemirror_mode": {
    "name": "ipython",
    "version": 3
   },
   "file_extension": ".py",
   "mimetype": "text/x-python",
   "name": "python",
   "nbconvert_exporter": "python",
   "pygments_lexer": "ipython3",
   "version": "3.8.5"
  }
 },
 "nbformat": 4,
 "nbformat_minor": 4
}
