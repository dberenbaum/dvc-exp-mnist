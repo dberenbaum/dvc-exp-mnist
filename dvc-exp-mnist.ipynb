{
 "cells": [
  {
   "cell_type": "markdown",
   "metadata": {},
   "source": [
    "### Using DVC checkpoints to train an MNIST classifier.\n",
    "\n",
    "This notebook introduces users to DVC checkpoints. This example uses the [MNIST](http://yann.lecun.com/exdb/mnist/) data of handwritten digits and builds a classification model to predict the digit (0-9) in each image."
   ]
  },
  {
   "cell_type": "markdown",
   "metadata": {},
   "source": [
    "### Model script\n",
    "\n",
    "\n",
    "The model is built in [keras](https://keras.io/) as a convolutional neural network with an architecture that is simple enough to run quickly with few resources.\n",
    "\n",
    "Let's look at the model training script:"
   ]
  },
  {
   "cell_type": "code",
   "execution_count": 1,
   "metadata": {},
   "outputs": [
    {
     "name": "stdout",
     "output_type": "stream",
     "text": [
      "import os\n",
      "import yaml\n",
      "import numpy as np\n",
      "from tensorflow import keras\n",
      "from tensorflow.keras import layers\n",
      "from tensorflow.random import set_seed\n",
      "\n",
      "from dvc.api import make_checkpoint\n",
      "\n",
      "num_classes = 10\n",
      "input_shape = (28, 28, 1)\n",
      "epochs = 10\n",
      "batch_size = 128\n",
      "\n",
      "\n",
      "def get_data():\n",
      "    (x_train, y_train), (x_test, y_test) = keras.datasets.mnist.load_data()\n",
      "\n",
      "    x_train = x_train.astype(\"float32\") / 255\n",
      "    x_test = x_test.astype(\"float32\") / 255\n",
      "    x_train = np.expand_dims(x_train, -1)\n",
      "    x_test = np.expand_dims(x_test, -1)\n",
      "\n",
      "    y_train = keras.utils.to_categorical(y_train, num_classes)\n",
      "    y_test = keras.utils.to_categorical(y_test, num_classes)\n",
      "\n",
      "    return (x_train, y_train), (x_test, y_test)\n",
      "\n",
      "def get_model():\n",
      "    set_seed(0)\n",
      "    model= keras.Sequential(\n",
      "    [\n",
      "        keras.Input(shape=input_shape),\n",
      "        layers.Conv2D(4, kernel_size=(3, 3), activation=\"relu\"),\n",
      "        layers.MaxPooling2D(pool_size=(2, 2)),\n",
      "        layers.Conv2D(8, kernel_size=(3, 3), activation=\"relu\"),\n",
      "        layers.MaxPooling2D(pool_size=(2, 2)),\n",
      "        layers.Flatten(),\n",
      "        layers.Dropout(0.5),\n",
      "        layers.Dense(num_classes, activation=\"softmax\"),\n",
      "    ])\n",
      "    model.compile(loss=\"categorical_crossentropy\", optimizer=\"adam\", metrics=[\"accuracy\"])\n",
      "    return model\n",
      "\n",
      "\n",
      "def evaluate(model, x, y):\n",
      "    metrics_dict = {}\n",
      "    metrics = model.evaluate(x, y, batch_size=batch_size)\n",
      "    metrics_dict[\"loss\"] = metrics[0]\n",
      "    metrics_dict[\"acc\"] = metrics[1]\n",
      "    with open(\"metrics.yaml\", \"w\") as f:\n",
      "        yaml.dump(metrics_dict, f)\n",
      "\n",
      "\n",
      "if __name__ == \"__main__\":\n",
      "    # Load model.\n",
      "    if os.path.exists(\"model.tf\"):\n",
      "        model = keras.models.load_model(\"model.tf\")\n",
      "    else:\n",
      "        model = get_model()\n",
      "    # Load data.\n",
      "    (x_train, y_train), (x_test, y_test) = get_data()\n",
      "    # Iterate over training epochs.\n",
      "    for i in range(epochs):\n",
      "        model.fit(x_train, y_train, batch_size=batch_size, validation_split=0.1)\n",
      "        evaluate(model, x_test, y_test)\n",
      "        model.save(\"model.tf\")\n",
      "        make_checkpoint()\n"
     ]
    }
   ],
   "source": [
    "%%bash\n",
    "cat train.py"
   ]
  },
  {
   "cell_type": "markdown",
   "metadata": {},
   "source": [
    "The script does the following:\n",
    "1. Loads or creates the model (want to be able to load existing model to iteratively train from warm start).\n",
    "2. Loads MNIST data, including transformations and train/test splits.\n",
    "3. For each epoch, trains, evaluates, and saves.\n",
    "\n",
    "To enable DVC checkpoints, the `make_checkpoint()` function is called after each epoch."
   ]
  },
  {
   "cell_type": "markdown",
   "metadata": {},
   "source": [
    "### DVC Pipeline\n",
    "\n",
    "The last step to set up checkpoints is a `dvc.yaml` file to describe the the dependencies and outputs of the model training stage. Review the contents of `dvc.yaml`:"
   ]
  },
  {
   "cell_type": "code",
   "execution_count": 2,
   "metadata": {},
   "outputs": [
    {
     "name": "stdout",
     "output_type": "stream",
     "text": [
      "stages:\n",
      "  # Arbitraty name for model training stage\n",
      "  train:\n",
      "    # Command to execute\n",
      "    cmd: python train.py\n",
      "    # Dependencies\n",
      "    deps:\n",
      "    - train.py\n",
      "    # Outputs\n",
      "    outs:\n",
      "    - model.tf:\n",
      "        # Required for checkpoints\n",
      "        checkpoint: true\n",
      "    # Metrics\n",
      "    metrics:\n",
      "    - metrics.yaml:\n",
      "        # Track with git instead of dvc\n",
      "        cache: false\n"
     ]
    }
   ],
   "source": [
    "%%bash\n",
    "cat dvc.yaml"
   ]
  },
  {
   "cell_type": "markdown",
   "metadata": {},
   "source": [
    "The `dvc.yaml` includes a single stage arbitrarily named `train` that executes the command `python train.py`. The `train.py` script is its only dependency. The model output is saved in the `model.tf` directory and metrics are saved to `metrics.yaml`.\n",
    "\n",
    "For users familiar with DVC, nothing about this stage is unusual except for `checkpoint: true`, which tells DVC to treat `model.tf` differently from a typical output, since `train.py` also loads the previously trained model from there."
   ]
  },
  {
   "cell_type": "markdown",
   "metadata": {},
   "source": [
    "### Train the model\n",
    "\n",
    "Run an experiment to start training the model. Even with a simple architecture, the model may take a few minutes to complete since it will train for 10 epochs.\n",
    "\n",
    "**NOTE:** Make sure the repo is up to date in git (commit all changes) before running experiments."
   ]
  },
  {
   "cell_type": "code",
   "execution_count": 3,
   "metadata": {},
   "outputs": [
    {
     "name": "stdout",
     "output_type": "stream",
     "text": [
      "Running stage 'train':\n",
      "> python train.py\n",
      "Downloading data from https://storage.googleapis.com/tensorflow/tf-keras-datasets/mnist.npz\n",
      "11493376/11490434 [==============================] - 6s 0us/step\n",
      "422/422 [==============================] - 7s 15ms/step - loss: 1.6153 - accuracy: 0.4368 - val_loss: 0.2500 - val_accuracy: 0.9382\n",
      "79/79 [==============================] - 1s 6ms/step - loss: 0.2801 - accuracy: 0.9324\n",
      "Generating lock file 'dvc.lock'\n",
      "Updating lock file 'dvc.lock'\n",
      "Checkpoint experiment iteration '39bcf5f'.\n",
      "422/422 [==============================] - 7s 16ms/step - loss: 0.4050 - accuracy: 0.8762 - val_loss: 0.1596 - val_accuracy: 0.9585\n",
      "79/79 [==============================] - 1s 6ms/step - loss: 0.1804 - accuracy: 0.9540\n",
      "Updating lock file 'dvc.lock'\n",
      "Checkpoint experiment iteration 'c8c9a9e'.\n",
      "422/422 [==============================] - 6s 14ms/step - loss: 0.3149 - accuracy: 0.9036 - val_loss: 0.1285 - val_accuracy: 0.9667\n",
      "79/79 [==============================] - 1s 6ms/step - loss: 0.1438 - accuracy: 0.9617\n",
      "Updating lock file 'dvc.lock'\n",
      "Checkpoint experiment iteration '3c5df70'.\n",
      "422/422 [==============================] - 5s 13ms/step - loss: 0.2760 - accuracy: 0.9155 - val_loss: 0.1124 - val_accuracy: 0.9707\n",
      "79/79 [==============================] - 1s 7ms/step - loss: 0.1253 - accuracy: 0.9670\n",
      "Updating lock file 'dvc.lock'\n",
      "Checkpoint experiment iteration '0d13eab'.\n",
      "422/422 [==============================] - 5s 13ms/step - loss: 0.2582 - accuracy: 0.9216 - val_loss: 0.1006 - val_accuracy: 0.9727\n",
      "79/79 [==============================] - 1s 6ms/step - loss: 0.1131 - accuracy: 0.9689\n",
      "Updating lock file 'dvc.lock'\n",
      "Checkpoint experiment iteration 'b62bbf3'.\n",
      "422/422 [==============================] - 5s 13ms/step - loss: 0.2448 - accuracy: 0.9247 - val_loss: 0.0948 - val_accuracy: 0.9735\n",
      "79/79 [==============================] - 1s 6ms/step - loss: 0.1044 - accuracy: 0.9713\n",
      "Updating lock file 'dvc.lock'\n",
      "Checkpoint experiment iteration 'e956ef1'.\n",
      "422/422 [==============================] - 5s 13ms/step - loss: 0.2386 - accuracy: 0.9272 - val_loss: 0.0912 - val_accuracy: 0.9757\n",
      "79/79 [==============================] - 1s 6ms/step - loss: 0.1001 - accuracy: 0.9740\n",
      "Updating lock file 'dvc.lock'\n",
      "Checkpoint experiment iteration '0429ca1'.\n",
      "422/422 [==============================] - 5s 13ms/step - loss: 0.2275 - accuracy: 0.9302 - val_loss: 0.0873 - val_accuracy: 0.9772\n",
      "79/79 [==============================] - 1s 6ms/step - loss: 0.0946 - accuracy: 0.9745\n",
      "Updating lock file 'dvc.lock'\n",
      "Checkpoint experiment iteration '87166e5'.\n",
      "422/422 [==============================] - 6s 13ms/step - loss: 0.2198 - accuracy: 0.9333 - val_loss: 0.0861 - val_accuracy: 0.9775\n",
      "79/79 [==============================] - 1s 6ms/step - loss: 0.0921 - accuracy: 0.9748\n",
      "Updating lock file 'dvc.lock'\n",
      "Checkpoint experiment iteration 'ddcfcd6'.\n",
      "422/422 [==============================] - 5s 13ms/step - loss: 0.2131 - accuracy: 0.9342 - val_loss: 0.0812 - val_accuracy: 0.9780\n",
      "79/79 [==============================] - 1s 6ms/step - loss: 0.0888 - accuracy: 0.9753\n",
      "Updating lock file 'dvc.lock'\n",
      "Checkpoint experiment iteration 'd1e41ba'.\n",
      "\n",
      "To track the changes with git, run:\n",
      "\n",
      "\tgit add dvc.lock metrics.yaml .gitignore dvc.yaml train.py\n",
      "\n",
      "Reproduced experiment(s): exp-b1860\n",
      "Experiment results have been applied to your workspace.\n",
      "\n",
      "To promote an experiment to a Git branch run:\n",
      "\n",
      "\tdvc exp branch <exp>\n",
      "\n"
     ]
    },
    {
     "name": "stderr",
     "output_type": "stream",
     "text": [
      "2021-02-03 20:18:51.582807: W tensorflow/stream_executor/platform/default/dso_loader.cc:60] Could not load dynamic library 'libcudart.so.11.0'; dlerror: libcudart.so.11.0: cannot open shared object file: No such file or directory\n",
      "2021-02-03 20:18:51.582837: I tensorflow/stream_executor/cuda/cudart_stub.cc:29] Ignore above cudart dlerror if you do not have a GPU set up on your machine.\n",
      "2021-02-03 20:18:54.006770: I tensorflow/compiler/jit/xla_cpu_device.cc:41] Not creating XLA devices, tf_xla_enable_xla_devices not set\n",
      "2021-02-03 20:18:54.007953: W tensorflow/stream_executor/platform/default/dso_loader.cc:60] Could not load dynamic library 'libcuda.so.1'; dlerror: libcuda.so.1: cannot open shared object file: No such file or directory\n",
      "2021-02-03 20:18:54.007980: W tensorflow/stream_executor/cuda/cuda_driver.cc:326] failed call to cuInit: UNKNOWN ERROR (303)\n",
      "2021-02-03 20:18:54.008004: I tensorflow/stream_executor/cuda/cuda_diagnostics.cc:156] kernel driver does not appear to be running on this host (4056eca3c78e): /proc/driver/nvidia/version does not exist\n",
      "2021-02-03 20:18:54.008667: I tensorflow/compiler/jit/xla_gpu_device.cc:99] Not creating XLA devices, tf_xla_enable_xla_devices not set\n",
      "2021-02-03 20:19:07.565942: W tensorflow/core/framework/cpu_allocator_impl.cc:80] Allocation of 169344000 exceeds 10% of free system memory.\n",
      "2021-02-03 20:19:07.833457: I tensorflow/compiler/mlir/mlir_graph_optimization_pass.cc:116] None of the MLIR optimization passes are enabled (registered 2)\n",
      "2021-02-03 20:19:07.855702: I tensorflow/core/platform/profile_utils/cpu_utils.cc:112] CPU Frequency: 2394320000 Hz\n",
      "2021-02-03 20:19:08.429914: W tensorflow/core/framework/cpu_allocator_impl.cc:80] Allocation of 24428448 exceeds 10% of free system memory.\n",
      "2021-02-03 20:19:08.430034: W tensorflow/core/framework/cpu_allocator_impl.cc:80] Allocation of 24428448 exceeds 10% of free system memory.\n",
      "2021-02-03 20:19:08.432657: W tensorflow/core/framework/cpu_allocator_impl.cc:80] Allocation of 21707712 exceeds 10% of free system memory.\n",
      "2021-02-03 20:19:08.445458: W tensorflow/core/framework/cpu_allocator_impl.cc:80] Allocation of 24428448 exceeds 10% of free system memory.\n",
      "2021-02-03 20:19:15.549797: W tensorflow/python/util/util.cc:348] Sets are not currently considered sequences, but this may change in the future, so consider avoiding using them.\n"
     ]
    }
   ],
   "source": [
    "%%bash\n",
    "dvc exp run"
   ]
  },
  {
   "cell_type": "markdown",
   "metadata": {},
   "source": [
    "Review the output of the run, including identifying hashes, metrics, and parameters:"
   ]
  },
  {
   "cell_type": "code",
   "execution_count": 4,
   "metadata": {},
   "outputs": [
    {
     "name": "stdout",
     "output_type": "stream",
     "text": [
      "┏━━━━━━━━━━━━━━━┳━━━━━━━━━━┳━━━━━━━━┳━━━━━━━━━━┓\n",
      "┃ Experiment    ┃ Created  ┃    acc ┃     loss ┃\n",
      "┡━━━━━━━━━━━━━━━╇━━━━━━━━━━╇━━━━━━━━╇━━━━━━━━━━┩\n",
      "│ workspace     │ -        │ 0.9753 │ 0.088837 │\n",
      "│ keras         │ 08:03 PM │      - │          │\n",
      "│ │ ╓ exp-b1860 │ 08:20 PM │ 0.9753 │ 0.088837 │\n",
      "│ │ ╟ ddcfcd6   │ 08:20 PM │ 0.9748 │ 0.092141 │\n",
      "│ │ ╟ 87166e5   │ 08:20 PM │ 0.9745 │  0.09462 │\n",
      "│ │ ╟ 0429ca1   │ 08:20 PM │  0.974 │  0.10015 │\n",
      "│ │ ╟ e956ef1   │ 08:19 PM │ 0.9713 │   0.1044 │\n",
      "│ │ ╟ b62bbf3   │ 08:19 PM │ 0.9689 │  0.11313 │\n",
      "│ │ ╟ 0d13eab   │ 08:19 PM │  0.967 │   0.1253 │\n",
      "│ │ ╟ 3c5df70   │ 08:19 PM │ 0.9617 │  0.14378 │\n",
      "│ │ ╟ c8c9a9e   │ 08:19 PM │  0.954 │  0.18039 │\n",
      "│ ├─╨ 39bcf5f   │ 08:19 PM │ 0.9324 │  0.28014 │\n",
      "└───────────────┴──────────┴────────┴──────────┘\n"
     ]
    }
   ],
   "source": [
    "%%bash\n",
    "dvc exp show"
   ]
  },
  {
   "cell_type": "markdown",
   "metadata": {},
   "source": [
    "`exp-504ba` was created in the `keras` branch, and a checkpoint was generated for each of the 10 epochs when `make_checkpoint()` was called.\n",
    "\n",
    "The results from the final epoch are present in the workspace, which can be confirmed either manually or using `dvc metrics show`:"
   ]
  },
  {
   "cell_type": "code",
   "execution_count": 5,
   "metadata": {},
   "outputs": [
    {
     "name": "stdout",
     "output_type": "stream",
     "text": [
      "acc: 0.9753000140190125\n",
      "loss: 0.08883664757013321\n"
     ]
    }
   ],
   "source": [
    "%%bash\n",
    "cat metrics.yaml"
   ]
  },
  {
   "cell_type": "code",
   "execution_count": 6,
   "metadata": {},
   "outputs": [
    {
     "name": "stdout",
     "output_type": "stream",
     "text": [
      "Path          acc     loss\n",
      "metrics.yaml  0.9753  0.08884\n"
     ]
    }
   ],
   "source": [
    "%%bash\n",
    "dvc metrics show"
   ]
  },
  {
   "cell_type": "markdown",
   "metadata": {},
   "source": [
    "### Adding checkpoints\n",
    "\n",
    "Run the experiment again to continue training:"
   ]
  },
  {
   "cell_type": "code",
   "execution_count": 7,
   "metadata": {},
   "outputs": [
    {
     "name": "stdout",
     "output_type": "stream",
     "text": [
      "Existing checkpoint experiment 'exp-b1860' will be resumed\n",
      "Running stage 'train':\n",
      "> python train.py\n",
      "422/422 [==============================] - 7s 16ms/step - loss: 0.2114 - accuracy: 0.9345 - val_loss: 0.0775 - val_accuracy: 0.9792\n",
      "79/79 [==============================] - 1s 7ms/step - loss: 0.0828 - accuracy: 0.9773\n",
      "Updating lock file 'dvc.lock'\n",
      "Checkpoint experiment iteration 'faec3e2'.\n",
      "422/422 [==============================] - 6s 14ms/step - loss: 0.2055 - accuracy: 0.9382 - val_loss: 0.0764 - val_accuracy: 0.9783\n",
      "79/79 [==============================] - 1s 7ms/step - loss: 0.0815 - accuracy: 0.9776\n",
      "Updating lock file 'dvc.lock'\n",
      "Checkpoint experiment iteration '6bec53c'.\n",
      "422/422 [==============================] - 5s 13ms/step - loss: 0.2088 - accuracy: 0.9381 - val_loss: 0.0755 - val_accuracy: 0.9785\n",
      "79/79 [==============================] - 1s 6ms/step - loss: 0.0798 - accuracy: 0.9772\n",
      "Updating lock file 'dvc.lock'\n",
      "Checkpoint experiment iteration '360db5d'.\n",
      "422/422 [==============================] - 5s 13ms/step - loss: 0.2047 - accuracy: 0.9380 - val_loss: 0.0723 - val_accuracy: 0.9807\n",
      "79/79 [==============================] - 1s 6ms/step - loss: 0.0781 - accuracy: 0.9769\n",
      "Updating lock file 'dvc.lock'\n",
      "Checkpoint experiment iteration 'ac5d7d7'.\n",
      "422/422 [==============================] - 6s 13ms/step - loss: 0.2012 - accuracy: 0.9385 - val_loss: 0.0739 - val_accuracy: 0.9800\n",
      "79/79 [==============================] - 1s 7ms/step - loss: 0.0794 - accuracy: 0.9773\n",
      "Updating lock file 'dvc.lock'\n",
      "Checkpoint experiment iteration '0f0d857'.\n",
      "422/422 [==============================] - 6s 13ms/step - loss: 0.1951 - accuracy: 0.9409 - val_loss: 0.0706 - val_accuracy: 0.9807\n",
      "79/79 [==============================] - 1s 6ms/step - loss: 0.0760 - accuracy: 0.9776\n",
      "Updating lock file 'dvc.lock'\n",
      "Checkpoint experiment iteration 'b40a747'.\n",
      "422/422 [==============================] - 9s 22ms/step - loss: 0.1938 - accuracy: 0.9416 - val_loss: 0.0704 - val_accuracy: 0.9797\n",
      "79/79 [==============================] - 1s 14ms/step - loss: 0.0751 - accuracy: 0.9786\n",
      "Updating lock file 'dvc.lock'\n",
      "Checkpoint experiment iteration '4e1ca13'.\n",
      "422/422 [==============================] - 5s 13ms/step - loss: 0.1866 - accuracy: 0.9432 - val_loss: 0.0702 - val_accuracy: 0.9817\n",
      "79/79 [==============================] - 1s 7ms/step - loss: 0.0736 - accuracy: 0.9797\n",
      "Updating lock file 'dvc.lock'\n",
      "Checkpoint experiment iteration 'a4a59d1'.\n",
      "422/422 [==============================] - 5s 13ms/step - loss: 0.1875 - accuracy: 0.9430 - val_loss: 0.0679 - val_accuracy: 0.9823\n",
      "79/79 [==============================] - 1s 6ms/step - loss: 0.0734 - accuracy: 0.9795\n",
      "Updating lock file 'dvc.lock'\n",
      "Checkpoint experiment iteration '5c19076'.\n",
      "422/422 [==============================] - 6s 13ms/step - loss: 0.1873 - accuracy: 0.9427 - val_loss: 0.0684 - val_accuracy: 0.9823\n",
      "79/79 [==============================] - 1s 6ms/step - loss: 0.0734 - accuracy: 0.9793\n",
      "Updating lock file 'dvc.lock'\n",
      "Checkpoint experiment iteration 'c08f528'.\n",
      "\n",
      "To track the changes with git, run:\n",
      "\n",
      "\tgit add dvc.yaml dvc.lock metrics.yaml train.py\n",
      "\n",
      "Reproduced experiment(s): exp-b1860\n",
      "Experiment results have been applied to your workspace.\n",
      "\n",
      "To promote an experiment to a Git branch run:\n",
      "\n",
      "\tdvc exp branch <exp>\n",
      "\n"
     ]
    },
    {
     "name": "stderr",
     "output_type": "stream",
     "text": [
      "2021-02-03 20:20:38.612842: W tensorflow/stream_executor/platform/default/dso_loader.cc:60] Could not load dynamic library 'libcudart.so.11.0'; dlerror: libcudart.so.11.0: cannot open shared object file: No such file or directory\n",
      "2021-02-03 20:20:38.612877: I tensorflow/stream_executor/cuda/cudart_stub.cc:29] Ignore above cudart dlerror if you do not have a GPU set up on your machine.\n",
      "2021-02-03 20:20:41.080750: I tensorflow/compiler/jit/xla_cpu_device.cc:41] Not creating XLA devices, tf_xla_enable_xla_devices not set\n",
      "2021-02-03 20:20:41.081931: W tensorflow/stream_executor/platform/default/dso_loader.cc:60] Could not load dynamic library 'libcuda.so.1'; dlerror: libcuda.so.1: cannot open shared object file: No such file or directory\n",
      "2021-02-03 20:20:41.081951: W tensorflow/stream_executor/cuda/cuda_driver.cc:326] failed call to cuInit: UNKNOWN ERROR (303)\n",
      "2021-02-03 20:20:41.081978: I tensorflow/stream_executor/cuda/cuda_diagnostics.cc:156] kernel driver does not appear to be running on this host (4056eca3c78e): /proc/driver/nvidia/version does not exist\n",
      "2021-02-03 20:20:41.082895: I tensorflow/compiler/jit/xla_gpu_device.cc:99] Not creating XLA devices, tf_xla_enable_xla_devices not set\n",
      "2021-02-03 20:20:44.136125: W tensorflow/core/framework/cpu_allocator_impl.cc:80] Allocation of 169344000 exceeds 10% of free system memory.\n",
      "2021-02-03 20:20:44.250850: I tensorflow/compiler/mlir/mlir_graph_optimization_pass.cc:116] None of the MLIR optimization passes are enabled (registered 2)\n",
      "2021-02-03 20:20:44.271723: I tensorflow/core/platform/profile_utils/cpu_utils.cc:112] CPU Frequency: 2394320000 Hz\n",
      "2021-02-03 20:20:52.322837: W tensorflow/python/util/util.cc:348] Sets are not currently considered sequences, but this may change in the future, so consider avoiding using them.\n",
      "2021-02-03 20:20:54.446359: W tensorflow/core/framework/cpu_allocator_impl.cc:80] Allocation of 169344000 exceeds 10% of free system memory.\n",
      "2021-02-03 20:21:03.863494: W tensorflow/core/framework/cpu_allocator_impl.cc:80] Allocation of 169344000 exceeds 10% of free system memory.\n",
      "2021-02-03 20:21:12.252664: W tensorflow/core/framework/cpu_allocator_impl.cc:80] Allocation of 169344000 exceeds 10% of free system memory.\n",
      "2021-02-03 20:21:19.591165: W tensorflow/core/framework/cpu_allocator_impl.cc:80] Allocation of 169344000 exceeds 10% of free system memory.\n"
     ]
    }
   ],
   "source": [
    "%%bash\n",
    "dvc exp run"
   ]
  },
  {
   "cell_type": "code",
   "execution_count": 8,
   "metadata": {},
   "outputs": [
    {
     "name": "stdout",
     "output_type": "stream",
     "text": [
      "┏━━━━━━━━━━━━━━━┳━━━━━━━━━━┳━━━━━━━━┳━━━━━━━━━━┓\n",
      "┃ Experiment    ┃ Created  ┃    acc ┃     loss ┃\n",
      "┡━━━━━━━━━━━━━━━╇━━━━━━━━━━╇━━━━━━━━╇━━━━━━━━━━┩\n",
      "│ workspace     │ -        │ 0.9793 │ 0.073416 │\n",
      "│ keras         │ 08:03 PM │      - │          │\n",
      "│ │ ╓ exp-b1860 │ 08:22 PM │ 0.9793 │ 0.073416 │\n",
      "│ │ ╟ 5c19076   │ 08:22 PM │ 0.9795 │ 0.073426 │\n",
      "│ │ ╟ a4a59d1   │ 08:21 PM │ 0.9797 │ 0.073562 │\n",
      "│ │ ╟ 4e1ca13   │ 08:21 PM │ 0.9786 │ 0.075069 │\n",
      "│ │ ╟ b40a747   │ 08:21 PM │ 0.9776 │ 0.076026 │\n",
      "│ │ ╟ 0f0d857   │ 08:21 PM │ 0.9773 │ 0.079366 │\n",
      "│ │ ╟ ac5d7d7   │ 08:21 PM │ 0.9769 │ 0.078135 │\n",
      "│ │ ╟ 360db5d   │ 08:21 PM │ 0.9772 │ 0.079842 │\n",
      "│ │ ╟ 6bec53c   │ 08:21 PM │ 0.9776 │ 0.081476 │\n",
      "│ │ ╟ faec3e2   │ 08:20 PM │ 0.9773 │ 0.082802 │\n",
      "│ │ ╟ d1e41ba   │ 08:20 PM │ 0.9753 │ 0.088837 │\n",
      "│ │ ╟ ddcfcd6   │ 08:20 PM │ 0.9748 │ 0.092141 │\n",
      "│ │ ╟ 87166e5   │ 08:20 PM │ 0.9745 │  0.09462 │\n",
      "│ │ ╟ 0429ca1   │ 08:20 PM │  0.974 │  0.10015 │\n",
      "│ │ ╟ e956ef1   │ 08:19 PM │ 0.9713 │   0.1044 │\n",
      "│ │ ╟ b62bbf3   │ 08:19 PM │ 0.9689 │  0.11313 │\n",
      "│ │ ╟ 0d13eab   │ 08:19 PM │  0.967 │   0.1253 │\n",
      "│ │ ╟ 3c5df70   │ 08:19 PM │ 0.9617 │  0.14378 │\n",
      "│ │ ╟ c8c9a9e   │ 08:19 PM │  0.954 │  0.18039 │\n",
      "│ ├─╨ 39bcf5f   │ 08:19 PM │ 0.9324 │  0.28014 │\n",
      "└───────────────┴──────────┴────────┴──────────┘\n"
     ]
    }
   ],
   "source": [
    "%%bash\n",
    "dvc exp show"
   ]
  },
  {
   "cell_type": "code",
   "execution_count": null,
   "metadata": {},
   "outputs": [],
   "source": []
  }
 ],
 "metadata": {
  "kernelspec": {
   "display_name": "Python 3",
   "language": "python",
   "name": "python3"
  },
  "language_info": {
   "codemirror_mode": {
    "name": "ipython",
    "version": 3
   },
   "file_extension": ".py",
   "mimetype": "text/x-python",
   "name": "python",
   "nbconvert_exporter": "python",
   "pygments_lexer": "ipython3",
   "version": "3.8.6"
  }
 },
 "nbformat": 4,
 "nbformat_minor": 4
}
