{
 "cells": [
  {
   "cell_type": "markdown",
   "metadata": {},
   "source": [
    "This notebook shows how to use [dvc](https://dvc.org/) [experiments](https://github.com/iterative/dvc/wiki/Experiments) in model development. This example uses the [MNIST](http://yann.lecun.com/exdb/mnist/) data of handwritten digits and builds a classification model to predict the digit (0-9) in each image. The model is built in [pytorch](https://pytorch.org/) as convolutional neural network with a simplified architecture, which should be able to quickly run on most computers."
   ]
  },
  {
   "cell_type": "markdown",
   "metadata": {},
   "source": [
    "### Get started\n",
    "\n",
    "To get started, clone this repository and navigate to it.\n",
    "\n",
    "The only other prerequisite is [conda](https://docs.conda.io/projects/conda/en/latest/user-guide/install/). Once conda is installed, create a virtual environment from the existing `environment.yaml` file and activate it:\n",
    "\n",
    "```bash\n",
    "conda env create -f environment.yml\n",
    "conda activate dvc\n",
    "```\n",
    "\n",
    "If you want to run this notebook directly, do so after activating the conda environment.\n",
    "\n",
    "Finally, enable the experiments feature:"
   ]
  },
  {
   "cell_type": "code",
   "execution_count": 1,
   "metadata": {},
   "outputs": [],
   "source": [
    "%%bash\n",
    "dvc config --global core.experiments true"
   ]
  },
  {
   "cell_type": "markdown",
   "metadata": {},
   "source": [
    "### Establish the pipeline DAG\n",
    "\n",
    "Before experimenting, a dvc pipeline must be established (see the docs if you are new to dvc). Review the contents of `dvc.yaml` below to see the pipeline."
   ]
  },
  {
   "cell_type": "code",
   "execution_count": 2,
   "metadata": {},
   "outputs": [
    {
     "name": "stdout",
     "output_type": "stream",
     "text": [
      "stages:\n",
      "  download:\n",
      "    cmd: python download.py\n",
      "    deps:\n",
      "    - download.py\n",
      "    outs:\n",
      "    - data/MNIST\n",
      "  train:\n",
      "    cmd: python train.py\n",
      "    deps:\n",
      "    - data/MNIST\n",
      "    - train.py\n",
      "    params:\n",
      "    - lr\n",
      "    - weight_decay\n",
      "    outs:\n",
      "    - model.pt:\n",
      "        checkpoint: true\n",
      "    metrics:\n",
      "    - metrics.yaml\n"
     ]
    }
   ],
   "source": [
    "%%bash\n",
    "cat dvc.yaml"
   ]
  },
  {
   "cell_type": "markdown",
   "metadata": {},
   "source": [
    "The download stage gets the data using the `download.py` script. The train stage performs model training and evaluation on the downloaded data using the `train.py` script. The train stage uses the lr and weight_decay metrics defined in `params.yaml`. The model output is saved to `model.pt`, and the metrics are saved to `metrics.yaml`.\n",
    "\n",
    "Execute the download stage to get the data."
   ]
  },
  {
   "cell_type": "code",
   "execution_count": 3,
   "metadata": {},
   "outputs": [
    {
     "name": "stdout",
     "output_type": "stream",
     "text": [
      "Running stage 'download' with command:\n",
      "\tpython download.py\n",
      "Downloading http://yann.lecun.com/exdb/mnist/train-images-idx3-ubyte.gz to data/MNIST/raw/train-images-idx3-ubyte.gz\n",
      "Extracting data/MNIST/raw/train-images-idx3-ubyte.gz to data/MNIST/raw\n",
      "Downloading http://yann.lecun.com/exdb/mnist/train-labels-idx1-ubyte.gz to data/MNIST/raw/train-labels-idx1-ubyte.gz\n",
      "Extracting data/MNIST/raw/train-labels-idx1-ubyte.gz to data/MNIST/raw\n",
      "Downloading http://yann.lecun.com/exdb/mnist/t10k-images-idx3-ubyte.gz to data/MNIST/raw/t10k-images-idx3-ubyte.gz\n",
      "Extracting data/MNIST/raw/t10k-images-idx3-ubyte.gz to data/MNIST/raw\n",
      "Downloading http://yann.lecun.com/exdb/mnist/t10k-labels-idx1-ubyte.gz to data/MNIST/raw/t10k-labels-idx1-ubyte.gz\n",
      "Extracting data/MNIST/raw/t10k-labels-idx1-ubyte.gz to data/MNIST/raw\n",
      "Processing...\n",
      "Done!\n",
      "Updating lock file 'dvc.lock'\n",
      "\n",
      "To track the changes with git, run:\n",
      "\n",
      "\tgit add dvc.lock\n",
      "Use `dvc push` to send your updates to remote storage.\n"
     ]
    },
    {
     "name": "stderr",
     "output_type": "stream",
     "text": [
      "\r",
      "0it [00:00, ?it/s]\r",
      "  0%|          | 0/9912422 [00:00<?, ?it/s]\r",
      "  3%|▎         | 303104/9912422 [00:00<00:03, 2967847.96it/s]\r",
      "  8%|▊         | 778240/9912422 [00:00<00:02, 3343138.53it/s]\r",
      " 14%|█▍        | 1400832/9912422 [00:00<00:02, 3873153.72it/s]\r",
      " 19%|█▉        | 1892352/9912422 [00:00<00:01, 4117377.48it/s]\r",
      " 24%|██▍       | 2367488/9912422 [00:00<00:01, 4276873.52it/s]\r",
      " 30%|██▉       | 2973696/9912422 [00:00<00:01, 4675121.28it/s]\r",
      " 36%|███▌      | 3530752/9912422 [00:00<00:01, 4876393.56it/s]\r",
      " 41%|████      | 4055040/9912422 [00:00<00:01, 4954997.67it/s]\r",
      " 46%|████▌     | 4554752/9912422 [00:01<00:01, 4887251.30it/s]\r",
      " 51%|█████     | 5046272/9912422 [00:01<00:01, 4781421.15it/s]\r",
      " 57%|█████▋    | 5652480/9912422 [00:01<00:00, 5092519.19it/s]\r",
      " 63%|██████▎   | 6225920/9912422 [00:01<00:00, 5256550.74it/s]\r",
      " 69%|██████▉   | 6815744/9912422 [00:01<00:00, 5251676.70it/s]\r",
      " 74%|███████▍  | 7348224/9912422 [00:01<00:00, 5004181.83it/s]\r",
      " 80%|███████▉  | 7905280/9912422 [00:01<00:00, 5160535.60it/s]\r",
      " 85%|████████▌ | 8445952/9912422 [00:01<00:00, 5231372.12it/s]\r",
      " 91%|█████████▏| 9052160/9912422 [00:01<00:00, 5345447.46it/s]\r",
      " 97%|█████████▋| 9641984/9912422 [00:01<00:00, 5486446.53it/s]\r",
      "9920512it [00:02, 4215206.01it/s]                             \n",
      "\r",
      "0it [00:00, ?it/s]\r",
      "  0%|          | 0/28881 [00:00<?, ?it/s]\n",
      "\r",
      "0it [00:00, ?it/s]\u001b[A\n",
      "\r",
      "  0%|          | 0/1648877 [00:00<?, ?it/s]\u001b[A\n",
      "\r",
      " 20%|█▉        | 327680/1648877 [00:00<00:00, 3266367.69it/s]\u001b[A\n",
      "\r",
      " 45%|████▌     | 745472/1648877 [00:00<00:00, 3488030.12it/s]\u001b[A\n",
      "\r",
      " 82%|████████▏ | 1351680/1648877 [00:00<00:00, 3978792.23it/s]\u001b[A\n",
      "\n",
      "\r",
      "0it [00:00, ?it/s]\u001b[A\u001b[A/home/dave/.conda/envs/dvc/lib/python3.8/site-packages/torchvision/datasets/mnist.py:480: UserWarning: The given NumPy array is not writeable, and PyTorch does not support non-writeable tensors. This means you can write to the underlying (supposedly non-writeable) NumPy array using the tensor. You may want to copy the array to protect its data or make it writeable before converting it to a tensor. This type of warning will be suppressed for the rest of this program. (Triggered internally at  /opt/conda/conda-bld/pytorch_1603729002806/work/torch/csrc/utils/tensor_numpy.cpp:141.)\n",
      "  return torch.from_numpy(parsed.astype(m[2], copy=False)).view(*s)\n",
      "\r",
      "1654784it [00:00, 2156983.18it/s]                             \n",
      "\r",
      "8192it [00:00, 34172.47it/s]\n",
      "\r",
      "32768it [00:00, 36843.03it/s]            "
     ]
    }
   ],
   "source": [
    "%%bash\n",
    "dvc repro download"
   ]
  },
  {
   "cell_type": "markdown",
   "metadata": {},
   "source": [
    "**IMPORTANT:** Be sure to run the `git add` command above and also `git commit` before running experiments. Anytime you modify the pipeline, be sure to `dvc repro` and track changes with git before running experiments."
   ]
  },
  {
   "cell_type": "code",
   "execution_count": 4,
   "metadata": {},
   "outputs": [
    {
     "name": "stdout",
     "output_type": "stream",
     "text": [
      "[queue 567b12c] download data\n",
      " 1 file changed, 1 insertion(+), 1 deletion(-)\n"
     ]
    }
   ],
   "source": [
    "%%bash\n",
    "git add dvc.lock data/.gitignore\n",
    "git commit -m \"download data\""
   ]
  },
  {
   "cell_type": "markdown",
   "metadata": {},
   "source": [
    "### Run an experiment\n",
    "\n",
    "Run an experiment with the default parameters defined in `params.yaml`."
   ]
  },
  {
   "cell_type": "code",
   "execution_count": 5,
   "metadata": {},
   "outputs": [
    {
     "name": "stdout",
     "output_type": "stream",
     "text": [
      "Stage 'download' didn't change, skipping\n",
      "Running stage 'train' with command:\n",
      "\tpython train.py\n",
      "Updating lock file 'dvc.lock'\n",
      "Checkpoint experiment iteration '1c8cc5f'.\n",
      "Updating lock file 'dvc.lock'\n",
      "Checkpoint experiment iteration '92c86fa'.\n",
      "Reproduced experiment '92c86fa'.\n"
     ]
    }
   ],
   "source": [
    "%%bash\n",
    "dvc exp run"
   ]
  },
  {
   "cell_type": "markdown",
   "metadata": {},
   "source": [
    "Review the output of the run, including identifying hashes, metrics, and parameters:"
   ]
  },
  {
   "cell_type": "code",
   "execution_count": 6,
   "metadata": {},
   "outputs": [
    {
     "name": "stdout",
     "output_type": "stream",
     "text": [
      "┏━━━━━━━━━━━━━┳━━━━━━━━━━┳━━━━━━━━┳━━━━━━━━┳━━━━━━━┳━━━━━━━━━━━━━━┓\n",
      "┃ Experiment  ┃ Created  ┃    acc ┃   loss ┃ lr    ┃ weight_decay ┃\n",
      "┡━━━━━━━━━━━━━╇━━━━━━━━━━╇━━━━━━━━╇━━━━━━━━╇━━━━━━━╇━━━━━━━━━━━━━━┩\n",
      "│ workspace   │ -        │ 0.1178 │ 2.2949 │ 0.001 │ 0            │\n",
      "│ queue       │ 06:18 PM │      - │      - │ 0.001 │ 0            │\n",
      "│ │ ╓ 92c86fa │ 06:18 PM │ 0.1178 │ 2.2949 │ 0.001 │ 0            │\n",
      "│ ├─╨ 1c8cc5f │ 06:18 PM │ 0.0958 │ 2.3017 │ 0.001 │ 0            │\n",
      "└─────────────┴──────────┴────────┴────────┴───────┴──────────────┘\n"
     ]
    }
   ],
   "source": [
    "%%bash\n",
    "dvc exp show"
   ]
  },
  {
   "cell_type": "markdown",
   "metadata": {},
   "source": [
    "Note that two experiments were run. These are checkpoints for the run. It's not necessary to have checkpoints for experiments, but they can be helpful for models that may be run for a number of epochs. See below for more information about how checkpoints work."
   ]
  },
  {
   "cell_type": "markdown",
   "metadata": {},
   "source": [
    "### Experiment with different parameters\n",
    "\n",
    "Experiments can be run and compared with different parameters."
   ]
  },
  {
   "cell_type": "code",
   "execution_count": 7,
   "metadata": {},
   "outputs": [
    {
     "name": "stdout",
     "output_type": "stream",
     "text": [
      "Stage 'download' didn't change, skipping\n",
      "Running stage 'train' with command:\n",
      "\tpython train.py\n",
      "Updating lock file 'dvc.lock'\n",
      "Checkpoint experiment iteration 'fe6c4ad'.\n",
      "Updating lock file 'dvc.lock'\n",
      "Checkpoint experiment iteration '9806686'.\n",
      "Reproduced experiment '9806686'.\n"
     ]
    }
   ],
   "source": [
    "%%bash\n",
    "dvc exp run --params weight_decay=0.1"
   ]
  },
  {
   "cell_type": "code",
   "execution_count": 8,
   "metadata": {},
   "outputs": [
    {
     "name": "stdout",
     "output_type": "stream",
     "text": [
      "┏━━━━━━━━━━━━━┳━━━━━━━━━━┳━━━━━━━━┳━━━━━━━━┳━━━━━━━┳━━━━━━━━━━━━━━┓\n",
      "┃ Experiment  ┃ Created  ┃    acc ┃   loss ┃ lr    ┃ weight_decay ┃\n",
      "┡━━━━━━━━━━━━━╇━━━━━━━━━━╇━━━━━━━━╇━━━━━━━━╇━━━━━━━╇━━━━━━━━━━━━━━┩\n",
      "│ workspace   │ -        │ 0.0911 │ 2.3028 │ 0.001 │ 0.1          │\n",
      "│ queue       │ 06:18 PM │      - │      - │ 0.001 │ 0            │\n",
      "│ │ ╓ 9806686 │ 06:19 PM │ 0.0911 │ 2.3028 │ 0.001 │ 0.1          │\n",
      "│ ├─╨ fe6c4ad │ 06:18 PM │ 0.1009 │ 2.3035 │ 0.001 │ 0.1          │\n",
      "│ │ ╓ 92c86fa │ 06:18 PM │ 0.1178 │ 2.2949 │ 0.001 │ 0            │\n",
      "│ ├─╨ 1c8cc5f │ 06:18 PM │ 0.0958 │ 2.3017 │ 0.001 │ 0            │\n",
      "└─────────────┴──────────┴────────┴────────┴───────┴──────────────┘\n"
     ]
    }
   ],
   "source": [
    "%%bash\n",
    "dvc exp show"
   ]
  },
  {
   "cell_type": "markdown",
   "metadata": {},
   "source": [
    "Increasing `weight_decay` didn't help, so revert back to original parameters:"
   ]
  },
  {
   "cell_type": "code",
   "execution_count": 9,
   "metadata": {},
   "outputs": [],
   "source": [
    "%%bash\n",
    "git checkout params.yaml"
   ]
  },
  {
   "cell_type": "markdown",
   "metadata": {},
   "source": [
    "Experiments can also be added in bulk to the queue and executed on demand (see the `-j` flag for parallel execution!)."
   ]
  },
  {
   "cell_type": "code",
   "execution_count": 10,
   "metadata": {},
   "outputs": [
    {
     "name": "stdout",
     "output_type": "stream",
     "text": [
      "Queued experiment '4e935b0' for future execution.\n",
      "Queued experiment '772d57a' for future execution.\n"
     ]
    }
   ],
   "source": [
    "%%bash\n",
    "dvc exp run --params lr=0.01 --queue\n",
    "dvc exp run --params lr=0.1 --queue"
   ]
  },
  {
   "cell_type": "code",
   "execution_count": 11,
   "metadata": {},
   "outputs": [
    {
     "name": "stdout",
     "output_type": "stream",
     "text": [
      "┏━━━━━━━━━━━━━━┳━━━━━━━━━━┳━━━━━━━━┳━━━━━━━━┳━━━━━━━┳━━━━━━━━━━━━━━┓\n",
      "┃ Experiment   ┃ Created  ┃    acc ┃   loss ┃ lr    ┃ weight_decay ┃\n",
      "┡━━━━━━━━━━━━━━╇━━━━━━━━━━╇━━━━━━━━╇━━━━━━━━╇━━━━━━━╇━━━━━━━━━━━━━━┩\n",
      "│ workspace    │ -        │ 0.0911 │ 2.3028 │ 0.001 │ 0            │\n",
      "│ queue        │ 06:18 PM │      - │      - │ 0.001 │ 0            │\n",
      "│ │ ╓ 9806686  │ 06:19 PM │ 0.0911 │ 2.3028 │ 0.001 │ 0.1          │\n",
      "│ ├─╨ fe6c4ad  │ 06:18 PM │ 0.1009 │ 2.3035 │ 0.001 │ 0.1          │\n",
      "│ │ ╓ 92c86fa  │ 06:18 PM │ 0.1178 │ 2.2949 │ 0.001 │ 0            │\n",
      "│ ├─╨ 1c8cc5f  │ 06:18 PM │ 0.0958 │ 2.3017 │ 0.001 │ 0            │\n",
      "│ ├── *772d57a │ 06:19 PM │      - │      - │ 0.1   │ 0            │\n",
      "│ └── *4e935b0 │ 06:19 PM │      - │      - │ 0.01  │ 0            │\n",
      "└──────────────┴──────────┴────────┴────────┴───────┴──────────────┘\n"
     ]
    }
   ],
   "source": [
    "%%bash\n",
    "dvc exp show"
   ]
  },
  {
   "cell_type": "code",
   "execution_count": 13,
   "metadata": {},
   "outputs": [
    {
     "name": "stdout",
     "output_type": "stream",
     "text": [
      "Stage '../../../../tmp/tmpwk9v4vcq/dvc.yaml:download' didn't change, skipping\n",
      "Running stage '../../../../tmp/tmpwk9v4vcq/dvc.yaml:train' with command:\n",
      "\tpython train.py\n"
     ]
    },
    {
     "name": "stderr",
     "output_type": "stream",
     "text": [
      "ERROR: Failed to reproduce experiment '772d57a' - Stage: '../../../../tmp/tmpwk9v4vcq/dvc.yaml:download'\n",
      "ERROR: Error generating checkpoint, stage: '../../../../tmp/tmpwk9v4vcq/dvc.yaml:train' will be aborted - file path '/home/dave/Code/dvc-exp-mnist' is outside of DVC repo\n",
      "ERROR: Failed to reproduce experiment '4e935b0' - [Errno 2] No such file or directory: '/tmp/tmpb4dtl678'\n"
     ]
    }
   ],
   "source": [
    "%%bash\n",
    "dvc exp run --run-all"
   ]
  },
  {
   "cell_type": "markdown",
   "metadata": {},
   "source": [
    "### Iteratively train using checkpoints\n",
    "\n",
    "Use checkpoints to periodically save the model during training (as shown above), and to resume training from previously saved state. Resume training experiment with best accuracy."
   ]
  },
  {
   "cell_type": "code",
   "execution_count": 15,
   "metadata": {},
   "outputs": [
    {
     "name": "stdout",
     "output_type": "stream",
     "text": [
      "┏━━━━━━━━━━━━━━┳━━━━━━━━━━┳━━━━━━━━┳━━━━━━━━┳━━━━━━━┳━━━━━━━━━━━━━━┓\n",
      "┃ Experiment   ┃ Created  ┃    acc ┃   loss ┃ lr    ┃ weight_decay ┃\n",
      "┡━━━━━━━━━━━━━━╇━━━━━━━━━━╇━━━━━━━━╇━━━━━━━━╇━━━━━━━╇━━━━━━━━━━━━━━┩\n",
      "│ workspace    │ -        │ 0.0911 │ 2.3028 │ 0.001 │ 0            │\n",
      "│ queue        │ 06:18 PM │      - │      - │ 0.001 │ 0            │\n",
      "│ │ ╓ 9806686  │ 06:19 PM │ 0.0911 │ 2.3028 │ 0.001 │ 0.1          │\n",
      "│ ├─╨ fe6c4ad  │ 06:18 PM │ 0.1009 │ 2.3035 │ 0.001 │ 0.1          │\n",
      "│ │ ╓ 92c86fa  │ 06:18 PM │ 0.1178 │ 2.2949 │ 0.001 │ 0            │\n",
      "│ ├─╨ 1c8cc5f  │ 06:18 PM │ 0.0958 │ 2.3017 │ 0.001 │ 0            │\n",
      "│ ├── *772d57a │ 06:19 PM │      - │      - │ 0.1   │ 0            │\n",
      "│ └── *4e935b0 │ 06:19 PM │      - │      - │ 0.01  │ 0            │\n",
      "└──────────────┴──────────┴────────┴────────┴───────┴──────────────┘\n"
     ]
    }
   ],
   "source": [
    "%%bash\n",
    "dvc exp show --sort-by acc"
   ]
  },
  {
   "cell_type": "code",
   "execution_count": 17,
   "metadata": {},
   "outputs": [
    {
     "name": "stdout",
     "output_type": "stream",
     "text": [
      "Stage 'download' didn't change, skipping\n",
      "Running stage 'train' with command:\n",
      "\tpython train.py\n",
      "Updating lock file 'dvc.lock'\n",
      "Checkpoint experiment iteration '076688e'.\n",
      "Updating lock file 'dvc.lock'\n",
      "Checkpoint experiment iteration '2645236'.\n",
      "Reproduced experiment '2645236'.\n"
     ]
    }
   ],
   "source": [
    "%%bash\n",
    "dvc exp res -r 92c86fa"
   ]
  },
  {
   "cell_type": "code",
   "execution_count": 18,
   "metadata": {},
   "outputs": [
    {
     "name": "stdout",
     "output_type": "stream",
     "text": [
      "┏━━━━━━━━━━━━━━┳━━━━━━━━━━┳━━━━━━━━┳━━━━━━━━┳━━━━━━━┳━━━━━━━━━━━━━━┓\n",
      "┃ Experiment   ┃ Created  ┃    acc ┃   loss ┃ lr    ┃ weight_decay ┃\n",
      "┡━━━━━━━━━━━━━━╇━━━━━━━━━━╇━━━━━━━━╇━━━━━━━━╇━━━━━━━╇━━━━━━━━━━━━━━┩\n",
      "│ workspace    │ -        │ 0.1135 │ 2.2774 │ 0.001 │ 0            │\n",
      "│ queue        │ 06:18 PM │      - │      - │ 0.001 │ 0            │\n",
      "│ │ ╓ 2645236  │ 06:27 PM │ 0.1135 │ 2.2774 │ 0.001 │ 0            │\n",
      "│ │ ╟ 076688e  │ 06:26 PM │ 0.1135 │ 2.2871 │ 0.001 │ 0            │\n",
      "│ │ ╟ 92c86fa  │ 06:18 PM │ 0.1178 │ 2.2949 │ 0.001 │ 0            │\n",
      "│ ├─╨ 1c8cc5f  │ 06:18 PM │ 0.0958 │ 2.3017 │ 0.001 │ 0            │\n",
      "│ │ ╓ 9806686  │ 06:19 PM │ 0.0911 │ 2.3028 │ 0.001 │ 0.1          │\n",
      "│ ├─╨ fe6c4ad  │ 06:18 PM │ 0.1009 │ 2.3035 │ 0.001 │ 0.1          │\n",
      "│ ├── *772d57a │ 06:19 PM │      - │      - │ 0.1   │ 0            │\n",
      "│ └── *4e935b0 │ 06:19 PM │      - │      - │ 0.01  │ 0            │\n",
      "└──────────────┴──────────┴────────┴────────┴───────┴──────────────┘\n"
     ]
    }
   ],
   "source": [
    "%%bash\n",
    "dvc exp show"
   ]
  },
  {
   "cell_type": "markdown",
   "metadata": {},
   "source": [
    "### Persist models\n",
    "\n",
    "Additonal epochs didn't improve accuracy, so commit the model iteration with peak accuracy. Checkout the experiment rev in dvc and then commit to git."
   ]
  },
  {
   "cell_type": "code",
   "execution_count": 20,
   "metadata": {},
   "outputs": [
    {
     "name": "stdout",
     "output_type": "stream",
     "text": [
      "acc: 0.1135\n",
      "loss: 2.2773613929748535\n"
     ]
    },
    {
     "name": "stderr",
     "output_type": "stream",
     "text": [
      "ERROR: Experiment derived from '1c8cc5f', expected '567b12c'.\n"
     ]
    }
   ],
   "source": [
    "%%bash\n",
    "dvc exp checkout 92c86fa\n",
    "cat metrics.yaml"
   ]
  }
 ],
 "metadata": {
  "kernelspec": {
   "display_name": "Python 3",
   "language": "python",
   "name": "python3"
  },
  "language_info": {
   "codemirror_mode": {
    "name": "ipython",
    "version": 3
   },
   "file_extension": ".py",
   "mimetype": "text/x-python",
   "name": "python",
   "nbconvert_exporter": "python",
   "pygments_lexer": "ipython3",
   "version": "3.8.5"
  }
 },
 "nbformat": 4,
 "nbformat_minor": 4
}
