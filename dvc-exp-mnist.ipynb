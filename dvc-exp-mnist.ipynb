{
 "cells": [
  {
   "cell_type": "markdown",
   "metadata": {},
   "source": [
    "This notebook shows how to use [dvc](https://dvc.org/) [experiments](https://github.com/iterative/dvc/wiki/Experiments) in model development. This example uses the [MNIST](http://yann.lecun.com/exdb/mnist/) data of handwritten digits and builds a classification model to predict the digit (0-9) in each image. The model is built in [pytorch](https://pytorch.org/) as convolutional neural network with a simplified architecture, which should be able to quickly run on most computers."
   ]
  },
  {
   "cell_type": "markdown",
   "metadata": {},
   "source": [
    "### Getting started\n",
    "\n",
    "To get started, clone this repository and navigate to it.\n",
    "\n",
    "The only other prerequisite is [conda](https://docs.conda.io/projects/conda/en/latest/user-guide/install/). Once conda is installed, create a virtual environment from the existing `environment.yaml` file and activate it:\n",
    "\n",
    "```bash\n",
    "conda env create -f environment.yml\n",
    "conda activate dvc\n",
    "```\n",
    "\n",
    "If you want to run this notebook directly, do so after activating the conda environment."
   ]
  },
  {
   "cell_type": "markdown",
   "metadata": {},
   "source": [
    "### Establishing the pipeline DAG\n",
    "\n",
    "Before experimenting, a dvc pipeline must be established (see the docs if you are new to dvc). Review the contents of `dvc.yaml` below to see the pipeline."
   ]
  },
  {
   "cell_type": "code",
   "execution_count": 6,
   "metadata": {},
   "outputs": [
    {
     "name": "stdout",
     "output_type": "stream",
     "text": [
      "stages:\n",
      "  download:\n",
      "    cmd: python download.py\n",
      "    deps:\n",
      "    - download.py\n",
      "    outs:\n",
      "    - data/MNIST\n",
      "  train:\n",
      "    cmd: python train.py\n",
      "    deps:\n",
      "    - data/MNIST\n",
      "    - train.py\n",
      "    params:\n",
      "    - lr\n",
      "    - weight_decay\n",
      "    outs:\n",
      "    - model.pt:\n",
      "        checkpoint: true\n",
      "    metrics:\n",
      "    - metrics.yaml\n"
     ]
    }
   ],
   "source": [
    "%%bash\n",
    "cat dvc.yaml"
   ]
  },
  {
   "cell_type": "markdown",
   "metadata": {},
   "source": [
    "The download stage gets the data using the `download.py` script. The train stage performs model training and evaluation on the downloaded data using the `train.py` script. The train stage uses the lr and weight_decay metrics defined in `params.yaml`. The model output is saved to `model.pt`, and the metrics are saved to `metrics.yaml`.\n",
    "\n",
    "Execute the download stage to get the data."
   ]
  },
  {
   "cell_type": "code",
   "execution_count": 3,
   "metadata": {},
   "outputs": [
    {
     "name": "stdout",
     "output_type": "stream",
     "text": [
      "Running stage 'download' with command:\n",
      "\tpython download.py\n",
      "Downloading http://yann.lecun.com/exdb/mnist/train-images-idx3-ubyte.gz to data/MNIST/raw/train-images-idx3-ubyte.gz\n",
      "Extracting data/MNIST/raw/train-images-idx3-ubyte.gz to data/MNIST/raw\n",
      "Downloading http://yann.lecun.com/exdb/mnist/train-labels-idx1-ubyte.gz to data/MNIST/raw/train-labels-idx1-ubyte.gz\n",
      "Extracting data/MNIST/raw/train-labels-idx1-ubyte.gz to data/MNIST/raw\n",
      "Downloading http://yann.lecun.com/exdb/mnist/t10k-images-idx3-ubyte.gz to data/MNIST/raw/t10k-images-idx3-ubyte.gz\n",
      "Extracting data/MNIST/raw/t10k-images-idx3-ubyte.gz to data/MNIST/raw\n",
      "Downloading http://yann.lecun.com/exdb/mnist/t10k-labels-idx1-ubyte.gz to data/MNIST/raw/t10k-labels-idx1-ubyte.gz\n",
      "Extracting data/MNIST/raw/t10k-labels-idx1-ubyte.gz to data/MNIST/raw\n",
      "Processing...\n",
      "Done!\n",
      "Generating lock file 'dvc.lock'\n",
      "Updating lock file 'dvc.lock'\n",
      "\n",
      "To track the changes with git, run:\n",
      "\n",
      "\tgit add dvc.lock data/.gitignore\n",
      "Use `dvc push` to send your updates to remote storage.\n"
     ]
    },
    {
     "name": "stderr",
     "output_type": "stream",
     "text": [
      "\r",
      "0it [00:00, ?it/s]\r",
      "  0%|          | 0/9912422 [00:00<?, ?it/s]\r",
      "  3%|▎         | 294912/9912422 [00:00<00:03, 2945983.18it/s]\r",
      "  8%|▊         | 802816/9912422 [00:00<00:02, 3318779.95it/s]\r",
      " 14%|█▎        | 1343488/9912422 [00:00<00:02, 3744390.79it/s]\r",
      " 19%|█▉        | 1916928/9912422 [00:00<00:01, 4161020.24it/s]\r",
      " 23%|██▎       | 2301952/9912422 [00:00<00:01, 3899405.30it/s]\r",
      " 28%|██▊       | 2785280/9912422 [00:00<00:01, 4122136.16it/s]\r",
      " 34%|███▎      | 3342336/9912422 [00:00<00:01, 4458372.23it/s]\r",
      " 39%|███▉      | 3891200/9912422 [00:00<00:01, 4681247.52it/s]\r",
      " 45%|████▍     | 4431872/9912422 [00:01<00:01, 4854567.48it/s]\r",
      " 51%|█████     | 5054464/9912422 [00:01<00:00, 5188470.11it/s]\r",
      " 57%|█████▋    | 5611520/9912422 [00:01<00:00, 5257168.27it/s]\r",
      " 62%|██████▏   | 6144000/9912422 [00:01<00:00, 4945588.32it/s]\r",
      " 67%|██████▋   | 6651904/9912422 [00:01<00:00, 4568875.90it/s]\r",
      " 72%|███████▏  | 7127040/9912422 [00:01<00:00, 4305785.39it/s]\r",
      " 76%|███████▋  | 7569408/9912422 [00:01<00:00, 4250571.13it/s]\r",
      " 81%|████████  | 8003584/9912422 [00:01<00:00, 4084770.20it/s]\r",
      " 85%|████████▍ | 8421376/9912422 [00:01<00:00, 3895234.04it/s]\r",
      " 89%|████████▉ | 8830976/9912422 [00:02<00:00, 3943746.03it/s]\r",
      " 93%|█████████▎| 9240576/9912422 [00:02<00:00, 3968320.20it/s]\r",
      " 98%|█████████▊| 9715712/9912422 [00:02<00:00, 4160082.99it/s]\r",
      "9920512it [00:02, 3630856.70it/s]                             \n",
      "\r",
      "0it [00:00, ?it/s]\r",
      "  0%|          | 0/28881 [00:00<?, ?it/s]\n",
      "\r",
      "0it [00:00, ?it/s]\u001b[A\n",
      "\r",
      "  0%|          | 0/1648877 [00:00<?, ?it/s]\u001b[A\n",
      "\r",
      "  9%|▉         | 147456/1648877 [00:00<00:01, 1460424.78it/s]\u001b[A\n",
      "\r",
      " 34%|███▍      | 565248/1648877 [00:00<00:00, 1809613.26it/s]\u001b[A\n",
      "\r",
      " 60%|█████▉    | 983040/1648877 [00:00<00:00, 2180272.53it/s]\u001b[A\n",
      "\r",
      " 86%|████████▋ | 1425408/1648877 [00:00<00:00, 2570201.91it/s]\u001b[A\n",
      "\n",
      "\r",
      "0it [00:00, ?it/s]\u001b[A\u001b[A/home/dave/.conda/envs/dvc/lib/python3.8/site-packages/torchvision/datasets/mnist.py:480: UserWarning: The given NumPy array is not writeable, and PyTorch does not support non-writeable tensors. This means you can write to the underlying (supposedly non-writeable) NumPy array using the tensor. You may want to copy the array to protect its data or make it writeable before converting it to a tensor. This type of warning will be suppressed for the rest of this program. (Triggered internally at  /opt/conda/conda-bld/pytorch_1603729002806/work/torch/csrc/utils/tensor_numpy.cpp:141.)\n",
      "  return torch.from_numpy(parsed.astype(m[2], copy=False)).view(*s)\n",
      "\r",
      "1654784it [00:01, 1553014.84it/s]                             \n",
      "\r",
      "8192it [00:00, 35645.69it/s]\n",
      "\r",
      "32768it [00:01, 27713.95it/s]            "
     ]
    }
   ],
   "source": [
    "%%bash\n",
    "dvc repro download"
   ]
  },
  {
   "cell_type": "markdown",
   "metadata": {},
   "source": [
    "**IMPORTANT:** Be sure to run the `git add` command above and also `git commit` before running experiments. Anytime you modify the pipeline, be sure to `dvc repro` and track changes with git before running experiments."
   ]
  },
  {
   "cell_type": "code",
   "execution_count": 16,
   "metadata": {},
   "outputs": [
    {
     "name": "stdout",
     "output_type": "stream",
     "text": [
      "[exp fdc7e66] download data\n",
      " 2 files changed, 12 insertions(+)\n",
      " create mode 100644 data/.gitignore\n",
      " create mode 100644 dvc.lock\n"
     ]
    }
   ],
   "source": [
    "%%bash\n",
    "git add dvc.lock data/.gitignore\n",
    "git commit -m \"download data\""
   ]
  },
  {
   "cell_type": "markdown",
   "metadata": {},
   "source": [
    "### Experimenting with parameters\n",
    "\n",
    "Now that we have a pipeline to train the model, let's try out various parameters. We can start with the defaults defined in `params.yaml`."
   ]
  },
  {
   "cell_type": "code",
   "execution_count": 17,
   "metadata": {},
   "outputs": [
    {
     "name": "stdout",
     "output_type": "stream",
     "text": [
      "Stage 'download' didn't change, skipping\n",
      "Running stage 'train' with command:\n",
      "\tpython train.py\n",
      "Updating lock file 'dvc.lock'\n",
      "Checkpoint experiment iteration '52d08d8'.\n",
      "Updating lock file 'dvc.lock'\n",
      "Checkpoint experiment iteration '0952fe3'.\n",
      "Reproduced experiment '0952fe3'.\n"
     ]
    }
   ],
   "source": [
    "%%bash\n",
    "dvc exp run"
   ]
  },
  {
   "cell_type": "code",
   "execution_count": null,
   "metadata": {},
   "outputs": [],
   "source": []
  }
 ],
 "metadata": {
  "kernelspec": {
   "display_name": "Python 3",
   "language": "python",
   "name": "python3"
  },
  "language_info": {
   "codemirror_mode": {
    "name": "ipython",
    "version": 3
   },
   "file_extension": ".py",
   "mimetype": "text/x-python",
   "name": "python",
   "nbconvert_exporter": "python",
   "pygments_lexer": "ipython3",
   "version": "3.8.5"
  }
 },
 "nbformat": 4,
 "nbformat_minor": 4
}
